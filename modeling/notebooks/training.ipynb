{
 "cells": [
  {
   "cell_type": "code",
   "execution_count": 1,
   "metadata": {},
   "outputs": [],
   "source": [
    "import tensorflow as tf\n",
    "import tensorflow_hub as hub\n",
    "import numpy as np\n",
    "from sklearn.model_selection import train_test_split\n",
    "import pandas as pd\n",
    "from tensorflow.keras.utils import to_categorical"
   ]
  },
  {
   "cell_type": "code",
   "execution_count": 2,
   "metadata": {},
   "outputs": [
    {
     "name": "stdout",
     "output_type": "stream",
     "text": [
      "TensorFlow Version: 2.1.0\n",
      "Hub version:  0.7.0\n"
     ]
    }
   ],
   "source": [
    "print(\"TensorFlow Version:\",tf.__version__)\n",
    "print(\"Hub version: \",hub.__version__)"
   ]
  },
  {
   "cell_type": "code",
   "execution_count": 3,
   "metadata": {},
   "outputs": [],
   "source": [
    "def get_hdf_from_file(filename, key):\n",
    "    store = pd.HDFStore(filename)\n",
    "    data_pdf = store[key]\n",
    "    store.close()\n",
    "    return data_pdf"
   ]
  },
  {
   "cell_type": "code",
   "execution_count": 4,
   "metadata": {},
   "outputs": [],
   "source": [
    "domain_lookup = get_hdf_from_file('domain_lookup.h5', 'domain_lookup')"
   ]
  },
  {
   "cell_type": "code",
   "execution_count": 5,
   "metadata": {},
   "outputs": [
    {
     "name": "stdout",
     "output_type": "stream",
     "text": [
      "Loading dataset 0\n",
      "Loading dataset 1\n",
      "Loading dataset 2\n",
      "Loading dataset 3\n",
      "Loading dataset 4\n",
      "Loading dataset 5\n",
      "Loading dataset 6\n",
      "Loading dataset 7\n",
      "Loading dataset 8\n",
      "Loading dataset 9\n"
     ]
    }
   ],
   "source": [
    "data_array = []\n",
    "for i in range(0,10):\n",
    "    print(f\"Loading dataset {i}\")\n",
    "    df = get_hdf_from_file(f'tokenized_{i}.h5', 'clean_data')\n",
    "    df['ids'] = df['ids'].map(lambda x: np.asarray(x, dtype=np.int32))\n",
    "    df['masks'] = df['masks'].map(lambda x: np.asarray(x, dtype=np.int32))\n",
    "    df['segments'] = df['segments'].map(lambda x: np.asarray(x, dtype=np.int32))\n",
    "    data_array.append(df)\n"
   ]
  },
  {
   "cell_type": "code",
   "execution_count": 6,
   "metadata": {},
   "outputs": [],
   "source": [
    "all_data_pdf = pd.concat([data_array[i] for i in range(0, 10)])"
   ]
  },
  {
   "cell_type": "code",
   "execution_count": 7,
   "metadata": {},
   "outputs": [],
   "source": [
    "del data_array"
   ]
  },
  {
   "cell_type": "code",
   "execution_count": 8,
   "metadata": {},
   "outputs": [
    {
     "name": "stdout",
     "output_type": "stream",
     "text": [
      "    source_index  source_domain\n",
      "0              0          15673\n",
      "1              1          67486\n",
      "2              2         110735\n",
      "3              3          43842\n",
      "4              4           5438\n",
      "5              5          18184\n",
      "6              6          20603\n",
      "7              7           9970\n",
      "8              8          39968\n",
      "9              9          53953\n",
      "10            10          40974\n",
      "11            11           6826\n",
      "12            12          15391\n",
      "13            13           5701\n",
      "14            14           6326\n",
      "15            15          22750\n",
      "16            16          12175\n",
      "17            17           4422\n",
      "18            18          28463\n",
      "19            19          68977\n",
      "20            20          21510\n",
      "21            21            426\n",
      "22            22            942\n",
      "23            23          59722\n",
      "24            24          35215\n",
      "25            25          64080\n",
      "26            26          21924\n",
      "27            27          31774\n",
      "28            28          62495\n",
      "29            29          29985\n",
      "30            30           2976\n",
      "31            31           8143\n",
      "32            32           4081\n",
      "33            33          67320\n",
      "34            34         115930\n",
      "35            35          30127\n",
      "36            36          53787\n",
      "37            37          59117\n",
      "38            38          62799\n",
      "39            39          60060\n",
      "40            40           3907\n",
      "41            41          49134\n",
      "42            42            824\n",
      "43            43          28263\n",
      "44            44          37863\n",
      "45            45           4352\n",
      "46            46           8595\n"
     ]
    }
   ],
   "source": [
    "counts = all_data_pdf.groupby('source_index').source_domain.count().reset_index()\n",
    "print(counts)"
   ]
  },
  {
   "cell_type": "code",
   "execution_count": 9,
   "metadata": {},
   "outputs": [],
   "source": [
    "source_index = all_data_pdf['source_index'].values"
   ]
  },
  {
   "cell_type": "code",
   "execution_count": 10,
   "metadata": {},
   "outputs": [],
   "source": [
    "all_y_array = to_categorical(source_index)"
   ]
  },
  {
   "cell_type": "code",
   "execution_count": 11,
   "metadata": {},
   "outputs": [
    {
     "name": "stdout",
     "output_type": "stream",
     "text": [
      "Number of classes:  47\n"
     ]
    }
   ],
   "source": [
    "NUM_CLASSES = len(domain_lookup)\n",
    "print(\"Number of classes: \", NUM_CLASSES)"
   ]
  },
  {
   "cell_type": "code",
   "execution_count": 12,
   "metadata": {},
   "outputs": [
    {
     "data": {
      "text/plain": [
       "source_domain     1523208\n",
       "text_or_desc      1523208\n",
       "clean_text        1523208\n",
       "published_date    1523208\n",
       "year              1523208\n",
       "title             1523208\n",
       "url               1523208\n",
       "weeks             1523208\n",
       "tokens            1523208\n",
       "masks             1523208\n",
       "segments          1523208\n",
       "ids               1523208\n",
       "source_index      1523208\n",
       "dtype: int64"
      ]
     },
     "execution_count": 12,
     "metadata": {},
     "output_type": "execute_result"
    }
   ],
   "source": [
    "all_data_pdf.url.count()"
   ]
  },
  {
   "cell_type": "code",
   "execution_count": 13,
   "metadata": {},
   "outputs": [
    {
     "data": {
      "text/plain": [
       "1523208"
      ]
     },
     "execution_count": 13,
     "metadata": {},
     "output_type": "execute_result"
    }
   ],
   "source": [
    "len(all_y_array)"
   ]
  },
  {
   "cell_type": "code",
   "execution_count": 14,
   "metadata": {},
   "outputs": [],
   "source": [
    "X_train, X_test,  y_train, y_test, index_train, index_test = train_test_split(all_data_pdf, all_y_array,  source_index,\n",
    "      test_size=0.2, shuffle=True, stratify=source_index)"
   ]
  },
  {
   "cell_type": "code",
   "execution_count": 15,
   "metadata": {},
   "outputs": [],
   "source": [
    "ids = X_train['ids'].values\n",
    "masks = X_train['masks'].values\n",
    "segments = X_train['segments'].values"
   ]
  },
  {
   "cell_type": "code",
   "execution_count": 16,
   "metadata": {},
   "outputs": [],
   "source": [
    "inputs = [np.vstack(ids), np.vstack(masks), np.vstack(segments)]"
   ]
  },
  {
   "cell_type": "code",
   "execution_count": 17,
   "metadata": {},
   "outputs": [],
   "source": [
    "bert_layer=hub.KerasLayer(\"https://tfhub.dev/tensorflow/bert_en_uncased_L-12_H-768_A-12/1\",trainable=False)"
   ]
  },
  {
   "cell_type": "code",
   "execution_count": 18,
   "metadata": {},
   "outputs": [],
   "source": [
    "MAX_SEQ_LEN = 256"
   ]
  },
  {
   "cell_type": "code",
   "execution_count": 19,
   "metadata": {},
   "outputs": [],
   "source": [
    "input_word_ids = tf.keras.layers.Input(shape=(MAX_SEQ_LEN,), dtype=tf.int32,\n",
    "                                       name=\"input_word_ids\")\n",
    "input_mask = tf.keras.layers.Input(shape=(MAX_SEQ_LEN,), dtype=tf.int32,\n",
    "                                   name=\"input_mask\")\n",
    "segment_ids = tf.keras.layers.Input(shape=(MAX_SEQ_LEN,), dtype=tf.int32,\n",
    "                                    name=\"segment_ids\")"
   ]
  },
  {
   "cell_type": "code",
   "execution_count": 20,
   "metadata": {},
   "outputs": [],
   "source": [
    "pooled_output, sequence_output = bert_layer([input_word_ids, input_mask, segment_ids])"
   ]
  },
  {
   "cell_type": "code",
   "execution_count": 21,
   "metadata": {},
   "outputs": [],
   "source": [
    "x = tf.keras.layers.GlobalAveragePooling1D()(sequence_output)\n",
    "x = tf.keras.layers.Dropout(0.2)(x)\n",
    "x = tf.keras.layers.Dense(1024, activation=\"relu\")(x)\n",
    "out = tf.keras.layers.Dense(NUM_CLASSES, activation=\"softmax\", name=\"dense_output\")(x)\n",
    "\n",
    "model = tf.keras.models.Model(\n",
    "      inputs=[input_word_ids, input_mask, segment_ids], outputs=out)\n",
    "\n",
    "\n",
    "model.compile(loss='categorical_crossentropy',\n",
    "                  optimizer='adam',\n",
    "                  metrics=['accuracy'])\n"
   ]
  },
  {
   "cell_type": "code",
   "execution_count": 22,
   "metadata": {},
   "outputs": [
    {
     "name": "stdout",
     "output_type": "stream",
     "text": [
      "Model: \"model\"\n",
      "__________________________________________________________________________________________________\n",
      "Layer (type)                    Output Shape         Param #     Connected to                     \n",
      "==================================================================================================\n",
      "input_word_ids (InputLayer)     [(None, 256)]        0                                            \n",
      "__________________________________________________________________________________________________\n",
      "input_mask (InputLayer)         [(None, 256)]        0                                            \n",
      "__________________________________________________________________________________________________\n",
      "segment_ids (InputLayer)        [(None, 256)]        0                                            \n",
      "__________________________________________________________________________________________________\n",
      "keras_layer (KerasLayer)        [(None, 768), (None, 109482241   input_word_ids[0][0]             \n",
      "                                                                 input_mask[0][0]                 \n",
      "                                                                 segment_ids[0][0]                \n",
      "__________________________________________________________________________________________________\n",
      "global_average_pooling1d (Globa (None, 768)          0           keras_layer[0][1]                \n",
      "__________________________________________________________________________________________________\n",
      "dropout (Dropout)               (None, 768)          0           global_average_pooling1d[0][0]   \n",
      "__________________________________________________________________________________________________\n",
      "dense (Dense)                   (None, 1024)         787456      dropout[0][0]                    \n",
      "__________________________________________________________________________________________________\n",
      "dense_output (Dense)            (None, 47)           48175       dense[0][0]                      \n",
      "==================================================================================================\n",
      "Total params: 110,317,872\n",
      "Trainable params: 835,631\n",
      "Non-trainable params: 109,482,241\n",
      "__________________________________________________________________________________________________\n"
     ]
    }
   ],
   "source": [
    "model.summary()"
   ]
  },
  {
   "cell_type": "code",
   "execution_count": 23,
   "metadata": {},
   "outputs": [
    {
     "name": "stdout",
     "output_type": "stream",
     "text": [
      "Train on 974852 samples, validate on 243714 samples\n",
      "974852/974852 [==============================] - 26308s 27ms/sample - loss: 1.4597 - accuracy: 0.5878 - val_loss: 1.1932 - val_accuracy: 0.6586\n"
     ]
    }
   ],
   "source": [
    "history = model.fit(inputs, y_train, epochs=1, batch_size=500, validation_split=0.2, shuffle=True)"
   ]
  },
  {
   "cell_type": "code",
   "execution_count": 25,
   "metadata": {},
   "outputs": [
    {
     "name": "stdout",
     "output_type": "stream",
     "text": [
      "WARNING:tensorflow:From /opt/conda/lib/python3.7/site-packages/tensorflow_core/python/ops/resource_variable_ops.py:1786: calling BaseResourceVariable.__init__ (from tensorflow.python.ops.resource_variable_ops) with constraint is deprecated and will be removed in a future version.\n",
      "Instructions for updating:\n",
      "If using Keras pass *_constraint arguments to layers.\n"
     ]
    },
    {
     "name": "stderr",
     "output_type": "stream",
     "text": [
      "WARNING:tensorflow:From /opt/conda/lib/python3.7/site-packages/tensorflow_core/python/ops/resource_variable_ops.py:1786: calling BaseResourceVariable.__init__ (from tensorflow.python.ops.resource_variable_ops) with constraint is deprecated and will be removed in a future version.\n",
      "Instructions for updating:\n",
      "If using Keras pass *_constraint arguments to layers.\n"
     ]
    },
    {
     "name": "stdout",
     "output_type": "stream",
     "text": [
      "INFO:tensorflow:Assets written to: model5a/assets\n"
     ]
    },
    {
     "name": "stderr",
     "output_type": "stream",
     "text": [
      "INFO:tensorflow:Assets written to: model5a/assets\n"
     ]
    }
   ],
   "source": [
    "model.save('model5a')"
   ]
  },
  {
   "cell_type": "code",
   "execution_count": 26,
   "metadata": {},
   "outputs": [
    {
     "data": {
      "text/plain": [
       "{'loss': [1.4596867563409386],\n",
       " 'accuracy': [0.58781946],\n",
       " 'val_loss': [1.1931939908461242],\n",
       " 'val_accuracy': [0.6586491]}"
      ]
     },
     "execution_count": 26,
     "metadata": {},
     "output_type": "execute_result"
    }
   ],
   "source": [
    "history.history"
   ]
  },
  {
   "cell_type": "code",
   "execution_count": 27,
   "metadata": {},
   "outputs": [
    {
     "name": "stdout",
     "output_type": "stream",
     "text": [
      "Train on 974852 samples, validate on 243714 samples\n",
      "974852/974852 [==============================] - 26288s 27ms/sample - loss: 1.2298 - accuracy: 0.6461 - val_loss: 1.0818 - val_accuracy: 0.6914\n"
     ]
    }
   ],
   "source": [
    "history2 = model.fit(inputs, y_train, epochs=1, batch_size=500, validation_split=0.2, shuffle=True)"
   ]
  },
  {
   "cell_type": "code",
   "execution_count": 28,
   "metadata": {},
   "outputs": [
    {
     "name": "stdout",
     "output_type": "stream",
     "text": [
      "INFO:tensorflow:Assets written to: model5b/assets\n"
     ]
    },
    {
     "name": "stderr",
     "output_type": "stream",
     "text": [
      "INFO:tensorflow:Assets written to: model5b/assets\n"
     ]
    }
   ],
   "source": [
    "model.save('model5b')"
   ]
  },
  {
   "cell_type": "code",
   "execution_count": 29,
   "metadata": {},
   "outputs": [
    {
     "data": {
      "text/plain": [
       "{'loss': [1.2297965598921385],\n",
       " 'accuracy': [0.6460981],\n",
       " 'val_loss': [1.0817883255891478],\n",
       " 'val_accuracy': [0.69136775]}"
      ]
     },
     "execution_count": 29,
     "metadata": {},
     "output_type": "execute_result"
    }
   ],
   "source": [
    "history2.history"
   ]
  },
  {
   "cell_type": "code",
   "execution_count": 30,
   "metadata": {},
   "outputs": [
    {
     "name": "stdout",
     "output_type": "stream",
     "text": [
      "Train on 974852 samples, validate on 243714 samples\n",
      "974852/974852 [==============================] - 26315s 27ms/sample - loss: 1.1606 - accuracy: 0.6645 - val_loss: 1.0471 - val_accuracy: 0.6993\n"
     ]
    }
   ],
   "source": [
    "history3 = model.fit(inputs, y_train, epochs=1, batch_size=500, validation_split=0.2, shuffle=True)"
   ]
  },
  {
   "cell_type": "code",
   "execution_count": 31,
   "metadata": {},
   "outputs": [
    {
     "name": "stdout",
     "output_type": "stream",
     "text": [
      "INFO:tensorflow:Assets written to: model5c/assets\n"
     ]
    },
    {
     "name": "stderr",
     "output_type": "stream",
     "text": [
      "INFO:tensorflow:Assets written to: model5c/assets\n"
     ]
    }
   ],
   "source": [
    "model.save('model5c')"
   ]
  },
  {
   "cell_type": "code",
   "execution_count": 32,
   "metadata": {},
   "outputs": [],
   "source": [
    "ids_test = X_test['ids'].values\n",
    "masks_test = X_test['masks'].values\n",
    "segments_test = X_test['segments'].values"
   ]
  },
  {
   "cell_type": "code",
   "execution_count": 34,
   "metadata": {},
   "outputs": [],
   "source": [
    "inputs_test = [np.vstack(ids_test), np.vstack(masks_test), np.vstack(segments_test)]"
   ]
  },
  {
   "cell_type": "code",
   "execution_count": 35,
   "metadata": {},
   "outputs": [],
   "source": [
    "y_preds = model.predict(inputs_test)"
   ]
  },
  {
   "cell_type": "code",
   "execution_count": 37,
   "metadata": {},
   "outputs": [],
   "source": [
    "y_top_preds = np.argmax(y_preds, axis=1)"
   ]
  },
  {
   "cell_type": "code",
   "execution_count": 39,
   "metadata": {},
   "outputs": [
    {
     "data": {
      "text/plain": [
       "(304642,)"
      ]
     },
     "execution_count": 39,
     "metadata": {},
     "output_type": "execute_result"
    }
   ],
   "source": [
    "y_top_preds.shape"
   ]
  },
  {
   "cell_type": "code",
   "execution_count": 41,
   "metadata": {},
   "outputs": [
    {
     "data": {
      "text/plain": [
       "(304642,)"
      ]
     },
     "execution_count": 41,
     "metadata": {},
     "output_type": "execute_result"
    }
   ],
   "source": [
    "index_test.shape"
   ]
  },
  {
   "cell_type": "code",
   "execution_count": 42,
   "metadata": {},
   "outputs": [],
   "source": [
    "y_comparison = pd.DataFrame(y_top_preds, index_test).reset_index()\n",
    "y_comparison.columns = ['prediction', 'actual']"
   ]
  },
  {
   "cell_type": "code",
   "execution_count": 43,
   "metadata": {},
   "outputs": [],
   "source": [
    "y_comparison['correct'] = (y_comparison.actual == y_comparison.prediction)"
   ]
  },
  {
   "cell_type": "code",
   "execution_count": 44,
   "metadata": {},
   "outputs": [
    {
     "data": {
      "text/plain": [
       "0.6982392447528575"
      ]
     },
     "execution_count": 44,
     "metadata": {},
     "output_type": "execute_result"
    }
   ],
   "source": [
    "y_comparison.correct.mean()"
   ]
  },
  {
   "cell_type": "code",
   "execution_count": 45,
   "metadata": {},
   "outputs": [],
   "source": [
    "pub_averages = y_comparison.groupby('actual').correct.mean()"
   ]
  },
  {
   "cell_type": "code",
   "execution_count": 46,
   "metadata": {},
   "outputs": [
    {
     "data": {
      "text/plain": [
       "actual\n",
       "0     0.729595\n",
       "1     0.706350\n",
       "2     0.915888\n",
       "3     0.814475\n",
       "4     0.987654\n",
       "5     0.761108\n",
       "6     0.485577\n",
       "7     0.476543\n",
       "8     0.645165\n",
       "9     0.999907\n",
       "10    0.954767\n",
       "11    0.797546\n",
       "12    0.620924\n",
       "13    0.663278\n",
       "14    0.589474\n",
       "15    0.731622\n",
       "16    0.567450\n",
       "17    0.709150\n",
       "18    0.536300\n",
       "19    0.540493\n",
       "20    0.867082\n",
       "22    0.430108\n",
       "23    0.855584\n",
       "24    0.439782\n",
       "25    0.689167\n",
       "26    0.643535\n",
       "27    0.694782\n",
       "28    0.790786\n",
       "29    0.526674\n",
       "30    0.994275\n",
       "31    0.506118\n",
       "32    0.596006\n",
       "33    0.853653\n",
       "34    0.780442\n",
       "35    0.683043\n",
       "36    0.459562\n",
       "37    0.491178\n",
       "38    0.529154\n",
       "39    0.641924\n",
       "40    0.796569\n",
       "41    0.754348\n",
       "42    0.410714\n",
       "43    0.539665\n",
       "44    0.780181\n",
       "45    0.571429\n",
       "46    0.657078\n",
       "Name: correct, dtype: float64"
      ]
     },
     "execution_count": 46,
     "metadata": {},
     "output_type": "execute_result"
    }
   ],
   "source": [
    "pub_averages"
   ]
  },
  {
   "cell_type": "code",
   "execution_count": 47,
   "metadata": {},
   "outputs": [
    {
     "data": {
      "text/plain": [
       "ajc.com                    0\n",
       "americanthinker.com        1\n",
       "apnews.com                 2\n",
       "axios.com                  3\n",
       "bbc.com                    4\n",
       "boston.com                 5\n",
       "breitbart.com              6\n",
       "cbsnews.com                7\n",
       "chicago.suntimes.com       8\n",
       "chicagotribune.com         9\n",
       "chron.com                 10\n",
       "cnbc.com                  11\n",
       "dailykos.com              12\n",
       "dallasnews.com            13\n",
       "denverpost.com            14\n",
       "economist.com             15\n",
       "fivethirtyeight.com       16\n",
       "forbes.com                17\n",
       "foreignpolicy.com         18\n",
       "foxnews.com               19\n",
       "ft.com                    20\n",
       "latimes.com               21\n",
       "msnbc.com                 22\n",
       "nbcnews.com               23\n",
       "newrepublic.com           24\n",
       "newsday.com               25\n",
       "newsmax.com               26\n",
       "npr.org                   27\n",
       "nydailynews.com           28\n",
       "nypost.com                29\n",
       "nytimes.com               30\n",
       "prospect.org              31\n",
       "reason.com                32\n",
       "reuters.com               33\n",
       "rt.com                    34\n",
       "seattletimes.com          35\n",
       "slate.com                 36\n",
       "theatlantic.com           37\n",
       "theblaze.com              38\n",
       "thehill.com               39\n",
       "thenation.com             40\n",
       "time.com                  41\n",
       "utne.com                  42\n",
       "vox.com                   43\n",
       "washingtonexaminer.com    44\n",
       "washingtonpost.com        45\n",
       "wsj.com                   46\n",
       "dtype: int64"
      ]
     },
     "execution_count": 47,
     "metadata": {},
     "output_type": "execute_result"
    }
   ],
   "source": [
    "domain_lookup"
   ]
  },
  {
   "cell_type": "code",
   "execution_count": 56,
   "metadata": {},
   "outputs": [
    {
     "data": {
      "text/plain": [
       "numpy.ndarray"
      ]
     },
     "execution_count": 56,
     "metadata": {},
     "output_type": "execute_result"
    }
   ],
   "source": [
    "type(index_test)"
   ]
  },
  {
   "cell_type": "code",
   "execution_count": 59,
   "metadata": {},
   "outputs": [],
   "source": [
    "X_test.to_pickle('X_test.pickle')"
   ]
  },
  {
   "cell_type": "code",
   "execution_count": 62,
   "metadata": {},
   "outputs": [],
   "source": [
    "pd.DataFrame(y_test).to_pickle('y_test.pickle')"
   ]
  },
  {
   "cell_type": "code",
   "execution_count": 63,
   "metadata": {},
   "outputs": [],
   "source": [
    "pd.Series(index_test).to_pickle('index_test.pickle')"
   ]
  },
  {
   "cell_type": "code",
   "execution_count": null,
   "metadata": {},
   "outputs": [],
   "source": [
    "X_train.to_parquet('X_train.parquet')"
   ]
  },
  {
   "cell_type": "code",
   "execution_count": null,
   "metadata": {},
   "outputs": [],
   "source": [
    "pd.DataFrame(y_train).to_pickle('y_tr')"
   ]
  }
 ],
 "metadata": {
  "kernelspec": {
   "display_name": "Python 3",
   "language": "python",
   "name": "python3"
  },
  "language_info": {
   "codemirror_mode": {
    "name": "ipython",
    "version": 3
   },
   "file_extension": ".py",
   "mimetype": "text/x-python",
   "name": "python",
   "nbconvert_exporter": "python",
   "pygments_lexer": "ipython3",
   "version": "3.7.6"
  }
 },
 "nbformat": 4,
 "nbformat_minor": 4
}
