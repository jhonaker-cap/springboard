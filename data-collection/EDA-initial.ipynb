{
 "cells": [
  {
   "cell_type": "code",
   "execution_count": 1,
   "metadata": {},
   "outputs": [
    {
     "data": {
      "application/vnd.jupyter.widget-view+json": {
       "model_id": "4c0e8ac8bddf4a788ca2766d1384e663",
       "version_major": 2,
       "version_minor": 0
      },
      "text/plain": [
       "VBox()"
      ]
     },
     "metadata": {},
     "output_type": "display_data"
    },
    {
     "name": "stdout",
     "output_type": "stream",
     "text": [
      "Starting Spark application\n"
     ]
    },
    {
     "data": {
      "text/html": [
       "<table>\n",
       "<tr><th>ID</th><th>YARN Application ID</th><th>Kind</th><th>State</th><th>Spark UI</th><th>Driver log</th><th>Current session?</th></tr><tr><td>0</td><td>application_1574797416555_0001</td><td>pyspark</td><td>idle</td><td><a target=\"_blank\" href=\"http://ip-172-31-29-239.ec2.internal:20888/proxy/application_1574797416555_0001/\">Link</a></td><td><a target=\"_blank\" href=\"http://ip-172-31-19-246.ec2.internal:8042/node/containerlogs/container_1574797416555_0001_01_000001/livy\">Link</a></td><td>✔</td></tr></table>"
      ],
      "text/plain": [
       "<IPython.core.display.HTML object>"
      ]
     },
     "metadata": {},
     "output_type": "display_data"
    },
    {
     "data": {
      "application/vnd.jupyter.widget-view+json": {
       "model_id": "",
       "version_major": 2,
       "version_minor": 0
      },
      "text/plain": [
       "FloatProgress(value=0.0, bar_style='info', description='Progress:', layout=Layout(height='25px', width='50%'),…"
      ]
     },
     "metadata": {},
     "output_type": "display_data"
    },
    {
     "name": "stdout",
     "output_type": "stream",
     "text": [
      "SparkSession available as 'spark'.\n"
     ]
    },
    {
     "data": {
      "application/vnd.jupyter.widget-view+json": {
       "model_id": "",
       "version_major": 2,
       "version_minor": 0
      },
      "text/plain": [
       "FloatProgress(value=0.0, bar_style='info', description='Progress:', layout=Layout(height='25px', width='50%'),…"
      ]
     },
     "metadata": {},
     "output_type": "display_data"
    }
   ],
   "source": [
    "from pyspark.sql import functions as F"
   ]
  },
  {
   "cell_type": "code",
   "execution_count": 2,
   "metadata": {},
   "outputs": [
    {
     "data": {
      "application/vnd.jupyter.widget-view+json": {
       "model_id": "f861447b0b1c4f0ca882902a9bf27b84",
       "version_major": 2,
       "version_minor": 0
      },
      "text/plain": [
       "VBox()"
      ]
     },
     "metadata": {},
     "output_type": "display_data"
    },
    {
     "data": {
      "application/vnd.jupyter.widget-view+json": {
       "model_id": "",
       "version_major": 2,
       "version_minor": 0
      },
      "text/plain": [
       "FloatProgress(value=0.0, bar_style='info', description='Progress:', layout=Layout(height='25px', width='50%'),…"
      ]
     },
     "metadata": {},
     "output_type": "display_data"
    }
   ],
   "source": [
    "input_bucket = 's3://topic-sentiment-1'\n",
    "input_path = '/data/*/*.json'"
   ]
  },
  {
   "cell_type": "code",
   "execution_count": 3,
   "metadata": {},
   "outputs": [
    {
     "data": {
      "application/vnd.jupyter.widget-view+json": {
       "model_id": "ad8feed45ebc441ea5f68ed84bb34935",
       "version_major": 2,
       "version_minor": 0
      },
      "text/plain": [
       "VBox()"
      ]
     },
     "metadata": {},
     "output_type": "display_data"
    },
    {
     "data": {
      "application/vnd.jupyter.widget-view+json": {
       "model_id": "",
       "version_major": 2,
       "version_minor": 0
      },
      "text/plain": [
       "FloatProgress(value=0.0, bar_style='info', description='Progress:', layout=Layout(height='25px', width='50%'),…"
      ]
     },
     "metadata": {},
     "output_type": "display_data"
    }
   ],
   "source": [
    "df = spark.read.json(input_bucket + input_path)"
   ]
  },
  {
   "cell_type": "code",
   "execution_count": 4,
   "metadata": {},
   "outputs": [
    {
     "data": {
      "application/vnd.jupyter.widget-view+json": {
       "model_id": "48227e2a83cf4732842fb3b0cc6abfdd",
       "version_major": 2,
       "version_minor": 0
      },
      "text/plain": [
       "VBox()"
      ]
     },
     "metadata": {},
     "output_type": "display_data"
    },
    {
     "data": {
      "application/vnd.jupyter.widget-view+json": {
       "model_id": "",
       "version_major": 2,
       "version_minor": 0
      },
      "text/plain": [
       "FloatProgress(value=0.0, bar_style='info', description='Progress:', layout=Layout(height='25px', width='50%'),…"
      ]
     },
     "metadata": {},
     "output_type": "display_data"
    },
    {
     "name": "stdout",
     "output_type": "stream",
     "text": [
      "+--------------------+-------------------+-------------------+-------------------+--------------------+--------------------+--------------------+--------+--------------------+-------------+--------------------+--------------------+--------------------+---------+--------------------+\n",
      "|             authors|      date_download|        date_modify|       date_publish|         description|            filename|           image_url|language|           localpath|source_domain|                text|               title|          title_page|title_rss|                 url|\n",
      "+--------------------+-------------------+-------------------+-------------------+--------------------+--------------------+--------------------+--------+--------------------+-------------+--------------------+--------------------+--------------------+---------+--------------------+\n",
      "|[Edith Efron, Ron...|2019-11-26 18:18:07|2019-11-26 18:18:07|1994-11-01 05:00:00|The chaos and par...|1994_11_01__15747...|https://reason.co...|      en|/home/ec2-user/ne...|   reason.com|On June 7, 1993, ...|Can the President...|Can the President...|     NULL|https://reason.co...|\n",
      "|       [Mickey Kaus]|2019-11-26 18:52:55|2019-11-26 18:52:55|2008-04-08 02:20:00|Nein, bitter: The...|articles_news_and...|http://www.slate....|    null|/home/ec2-user/ne...|    slate.com|1) It lumps toget...|The four big prob...|The four big prob...|     NULL|http://www.slate....|\n",
      "|       [Mickey Kaus]|2019-11-26 19:08:06|2019-11-26 19:08:06|2008-04-15 04:25:00|Help! I'm A Snob ...|articles_news_and...|http://www.slate....|    null|/home/ec2-user/ne...|    slate.com|Help! I'm A Snob ...|Help! I'm a snob ...|Help! I'm a snob ...|     NULL|http://www.slate....|\n",
      "|       [Mickey Kaus]|2019-11-26 19:08:54|2019-11-26 19:08:54|2008-04-15 04:25:00|Help! I'm A Snob ...|articles_news_and...|http://www.slate....|    null|/home/ec2-user/ne...|    slate.com|Help! I'm A Snob ...|Help! I'm a snob ...|Help! I'm a snob ...|     NULL|http://www.slate....|\n",
      "|       [Mickey Kaus]|2019-11-26 19:09:41|2019-11-26 19:09:41|2008-04-15 04:25:00|Help! I'm A Snob ...|articles_news_and...|http://www.slate....|    null|/home/ec2-user/ne...|    slate.com|Help! I'm A Snob ...|Help! I'm a snob ...|Help! I'm a snob ...|     NULL|http://www.slate....|\n",
      "|       [Mickey Kaus]|2019-11-26 19:05:52|2019-11-26 19:05:52|2008-04-15 04:25:00|Help! I'm A Snob ...|articles_news_and...|http://www.slate....|    null|/home/ec2-user/ne...|    slate.com|Help! I'm A Snob ...|Help! I'm a snob ...|Help! I'm a snob ...|     NULL|http://www.slate....|\n",
      "|       [Mickey Kaus]|2019-11-26 19:04:22|2019-11-26 19:04:22|2008-04-15 04:25:00|Help! I'm A Snob ...|articles_news_and...|http://www.slate....|    null|/home/ec2-user/ne...|    slate.com|Help! I'm A Snob ...|Help! I'm a snob ...|Help! I'm a snob ...|     NULL|http://www.slate....|\n",
      "|       [Mickey Kaus]|2019-11-26 19:05:07|2019-11-26 19:05:07|2008-04-15 04:25:00|Help! I'm A Snob ...|articles_news_and...|http://www.slate....|    null|/home/ec2-user/ne...|    slate.com|Help! I'm A Snob ...|Help! I'm a snob ...|Help! I'm a snob ...|     NULL|http://www.slate....|\n",
      "|       [Mickey Kaus]|2019-11-26 19:07:23|2019-11-26 19:07:23|2008-04-15 04:25:00|Help! I'm A Snob ...|articles_news_and...|http://www.slate....|    null|/home/ec2-user/ne...|    slate.com|Help! I'm A Snob ...|Help! I'm a snob ...|Help! I'm a snob ...|     NULL|http://www.slate....|\n",
      "|       [Mickey Kaus]|2019-11-26 19:02:14|2019-11-26 19:02:14|2008-04-15 04:25:00|Help! I'm A Snob ...|articles_news_and...|http://www.slate....|    null|/home/ec2-user/ne...|    slate.com|Help! I'm A Snob ...|Help! I'm a snob ...|Help! I'm a snob ...|     NULL|http://www.slate....|\n",
      "|       [Mickey Kaus]|2019-11-26 19:02:53|2019-11-26 19:02:53|2008-04-15 04:25:00|Help! I'm A Snob ...|articles_news_and...|http://www.slate....|    null|/home/ec2-user/ne...|    slate.com|Help! I'm A Snob ...|Help! I'm a snob ...|Help! I'm a snob ...|     NULL|http://www.slate....|\n",
      "|       [Mickey Kaus]|2019-11-26 19:03:33|2019-11-26 19:03:33|2008-04-15 04:25:00|Help! I'm A Snob ...|articles_news_and...|http://www.slate....|    null|/home/ec2-user/ne...|    slate.com|Help! I'm A Snob ...|Help! I'm a snob ...|Help! I'm a snob ...|     NULL|http://www.slate....|\n",
      "|       [Mickey Kaus]|2019-11-26 19:01:39|2019-11-26 19:01:39|2008-04-15 04:25:00|Help! I'm A Snob ...|articles_news_and...|http://www.slate....|    null|/home/ec2-user/ne...|    slate.com|Help! I'm A Snob ...|Help! I'm a snob ...|Help! I'm a snob ...|     NULL|http://www.slate....|\n",
      "|       [Mickey Kaus]|2019-11-26 19:00:24|2019-11-26 19:00:24|2008-04-15 04:25:00|Help! I'm A Snob ...|articles_news_and...|http://www.slate....|    null|/home/ec2-user/ne...|    slate.com|Help! I'm A Snob ...|Help! I'm a snob ...|Help! I'm a snob ...|     NULL|http://www.slate....|\n",
      "|       [Mickey Kaus]|2019-11-26 19:00:58|2019-11-26 19:00:58|2008-04-15 04:25:00|Help! I'm A Snob ...|articles_news_and...|http://www.slate....|    null|/home/ec2-user/ne...|    slate.com|Help! I'm A Snob ...|Help! I'm a snob ...|Help! I'm a snob ...|     NULL|http://www.slate....|\n",
      "|       [Mickey Kaus]|2019-11-26 18:55:15|2019-11-26 18:55:15|2008-04-15 04:25:00|Help! I'm A Snob ...|articles_news_and...|http://www.slate....|    null|/home/ec2-user/ne...|    slate.com|Help! I'm A Snob ...|Help! I'm a snob ...|Help! I'm a snob ...|     NULL|http://www.slate....|\n",
      "|       [Mickey Kaus]|2019-11-26 18:59:18|2019-11-26 18:59:18|2008-04-29 18:50:00|Nut Graf! Psychol...|articles_news_and...|http://www.slate....|    null|/home/ec2-user/ne...|    slate.com|Nut Graf! Psychol...|Hillary's Permane...|Hillary's Permane...|     NULL|http://www.slate....|\n",
      "|       [Mickey Kaus]|2019-11-26 18:53:39|2019-11-26 18:53:39|2008-04-21 17:34:00|Hope! McCain will...|articles_news_and...|http://www.slate....|    null|/home/ec2-user/ne...|    slate.com|Hope! McCain will...|Elizabeth Edwards...|Elizabeth Edwards...|     NULL|http://www.slate....|\n",
      "|       [Mickey Kaus]|2019-11-26 19:11:13|2019-11-26 19:11:13|2008-05-05 05:50:00|Dave Weigel of Re...|articles_news_and...|http://www.slate....|    null|/home/ec2-user/ne...|    slate.com|Dave Weigel of Re...|Obama: The Man fr...|Obama: The Man fr...|     NULL|http://www.slate....|\n",
      "|       [Mickey Kaus]|2019-11-26 19:10:28|2019-11-26 19:10:28|2008-05-05 05:50:00|Dave Weigel of Re...|articles_news_and...|http://www.slate....|    null|/home/ec2-user/ne...|    slate.com|Dave Weigel of Re...|Obama: The Man fr...|Obama: The Man fr...|     NULL|http://www.slate....|\n",
      "+--------------------+-------------------+-------------------+-------------------+--------------------+--------------------+--------------------+--------+--------------------+-------------+--------------------+--------------------+--------------------+---------+--------------------+\n",
      "only showing top 20 rows"
     ]
    }
   ],
   "source": [
    "df.show()"
   ]
  },
  {
   "cell_type": "code",
   "execution_count": 7,
   "metadata": {},
   "outputs": [
    {
     "data": {
      "application/vnd.jupyter.widget-view+json": {
       "model_id": "681dacac88134e67be808002493d2c52",
       "version_major": 2,
       "version_minor": 0
      },
      "text/plain": [
       "VBox()"
      ]
     },
     "metadata": {},
     "output_type": "display_data"
    },
    {
     "data": {
      "application/vnd.jupyter.widget-view+json": {
       "model_id": "",
       "version_major": 2,
       "version_minor": 0
      },
      "text/plain": [
       "FloatProgress(value=0.0, bar_style='info', description='Progress:', layout=Layout(height='25px', width='50%'),…"
      ]
     },
     "metadata": {},
     "output_type": "display_data"
    }
   ],
   "source": [
    "from pyspark.context import SparkContext\n",
    "from pyspark.sql.context import SQLContext\n",
    "from pyspark.sql.session import SparkSession"
   ]
  },
  {
   "cell_type": "code",
   "execution_count": 9,
   "metadata": {},
   "outputs": [
    {
     "data": {
      "application/vnd.jupyter.widget-view+json": {
       "model_id": "63728a3349c147d1a6e8c72a1dd3c73a",
       "version_major": 2,
       "version_minor": 0
      },
      "text/plain": [
       "VBox()"
      ]
     },
     "metadata": {},
     "output_type": "display_data"
    },
    {
     "data": {
      "application/vnd.jupyter.widget-view+json": {
       "model_id": "",
       "version_major": 2,
       "version_minor": 0
      },
      "text/plain": [
       "FloatProgress(value=0.0, bar_style='info', description='Progress:', layout=Layout(height='25px', width='50%'),…"
      ]
     },
     "metadata": {},
     "output_type": "display_data"
    },
    {
     "name": "stdout",
     "output_type": "stream",
     "text": [
      "['F', 'HiveContext', 'SQLContext', 'SparkContext', 'SparkSession', 'StreamingContext', '__builtins__', 'cloudpickle', 'df', 'input_bucket', 'input_path', 'sc', 'spark', 'sqlContext']"
     ]
    }
   ],
   "source": [
    "dir()"
   ]
  },
  {
   "cell_type": "code",
   "execution_count": 11,
   "metadata": {},
   "outputs": [
    {
     "data": {
      "application/vnd.jupyter.widget-view+json": {
       "model_id": "ddf7b5800b664205bf438a271d7b270f",
       "version_major": 2,
       "version_minor": 0
      },
      "text/plain": [
       "VBox()"
      ]
     },
     "metadata": {},
     "output_type": "display_data"
    },
    {
     "data": {
      "application/vnd.jupyter.widget-view+json": {
       "model_id": "",
       "version_major": 2,
       "version_minor": 0
      },
      "text/plain": [
       "FloatProgress(value=0.0, bar_style='info', description='Progress:', layout=Layout(height='25px', width='50%'),…"
      ]
     },
     "metadata": {},
     "output_type": "display_data"
    },
    {
     "name": "stdout",
     "output_type": "stream",
     "text": [
      "<class 'pyspark.sql.context.SQLContext'>"
     ]
    }
   ],
   "source": [
    "SQLContext"
   ]
  },
  {
   "cell_type": "code",
   "execution_count": 12,
   "metadata": {},
   "outputs": [
    {
     "data": {
      "application/vnd.jupyter.widget-view+json": {
       "model_id": "064267e02c8d42219f83573ab1b25254",
       "version_major": 2,
       "version_minor": 0
      },
      "text/plain": [
       "VBox()"
      ]
     },
     "metadata": {},
     "output_type": "display_data"
    },
    {
     "data": {
      "application/vnd.jupyter.widget-view+json": {
       "model_id": "",
       "version_major": 2,
       "version_minor": 0
      },
      "text/plain": [
       "FloatProgress(value=0.0, bar_style='info', description='Progress:', layout=Layout(height='25px', width='50%'),…"
      ]
     },
     "metadata": {},
     "output_type": "display_data"
    }
   ],
   "source": [
    "def run_sql(statement):\n",
    "    try:\n",
    "        result = sqlContext.sql(statement)\n",
    "    except Exception as e:\n",
    "        print(e.desc, '\\n', e.stackTrace)\n",
    "        return\n",
    "    return result"
   ]
  },
  {
   "cell_type": "code",
   "execution_count": 17,
   "metadata": {},
   "outputs": [
    {
     "data": {
      "application/vnd.jupyter.widget-view+json": {
       "model_id": "d9dff0e8c98d4a34baf425bbf877c449",
       "version_major": 2,
       "version_minor": 0
      },
      "text/plain": [
       "VBox()"
      ]
     },
     "metadata": {},
     "output_type": "display_data"
    },
    {
     "data": {
      "application/vnd.jupyter.widget-view+json": {
       "model_id": "",
       "version_major": 2,
       "version_minor": 0
      },
      "text/plain": [
       "FloatProgress(value=0.0, bar_style='info', description='Progress:', layout=Layout(height='25px', width='50%'),…"
      ]
     },
     "metadata": {},
     "output_type": "display_data"
    },
    {
     "name": "stdout",
     "output_type": "stream",
     "text": [
      "DataFrame[]"
     ]
    }
   ],
   "source": [
    "run_sql('drop database if exists topic cascade')\n",
    "run_sql('create database topic')"
   ]
  },
  {
   "cell_type": "code",
   "execution_count": 18,
   "metadata": {},
   "outputs": [
    {
     "data": {
      "application/vnd.jupyter.widget-view+json": {
       "model_id": "82d12f27e3af4b58b5ddbebaf01600c4",
       "version_major": 2,
       "version_minor": 0
      },
      "text/plain": [
       "VBox()"
      ]
     },
     "metadata": {},
     "output_type": "display_data"
    },
    {
     "data": {
      "application/vnd.jupyter.widget-view+json": {
       "model_id": "",
       "version_major": 2,
       "version_minor": 0
      },
      "text/plain": [
       "FloatProgress(value=0.0, bar_style='info', description='Progress:', layout=Layout(height='25px', width='50%'),…"
      ]
     },
     "metadata": {},
     "output_type": "display_data"
    },
    {
     "name": "stdout",
     "output_type": "stream",
     "text": [
      "root\n",
      " |-- authors: array (nullable = true)\n",
      " |    |-- element: string (containsNull = true)\n",
      " |-- date_download: string (nullable = true)\n",
      " |-- date_modify: string (nullable = true)\n",
      " |-- date_publish: string (nullable = true)\n",
      " |-- description: string (nullable = true)\n",
      " |-- filename: string (nullable = true)\n",
      " |-- image_url: string (nullable = true)\n",
      " |-- language: string (nullable = true)\n",
      " |-- localpath: string (nullable = true)\n",
      " |-- source_domain: string (nullable = true)\n",
      " |-- text: string (nullable = true)\n",
      " |-- title: string (nullable = true)\n",
      " |-- title_page: string (nullable = true)\n",
      " |-- title_rss: string (nullable = true)\n",
      " |-- url: string (nullable = true)"
     ]
    }
   ],
   "source": [
    "df.printSchema()"
   ]
  },
  {
   "cell_type": "markdown",
   "metadata": {},
   "source": [
    "**TBD** Will I need to flatten the authors array?"
   ]
  },
  {
   "cell_type": "code",
   "execution_count": 19,
   "metadata": {},
   "outputs": [
    {
     "data": {
      "application/vnd.jupyter.widget-view+json": {
       "model_id": "852e6a089c9a408b8c090d92ac5e898c",
       "version_major": 2,
       "version_minor": 0
      },
      "text/plain": [
       "VBox()"
      ]
     },
     "metadata": {},
     "output_type": "display_data"
    },
    {
     "data": {
      "application/vnd.jupyter.widget-view+json": {
       "model_id": "",
       "version_major": 2,
       "version_minor": 0
      },
      "text/plain": [
       "FloatProgress(value=0.0, bar_style='info', description='Progress:', layout=Layout(height='25px', width='50%'),…"
      ]
     },
     "metadata": {},
     "output_type": "display_data"
    }
   ],
   "source": [
    "permanent_table_name = 'topic.articles'\n",
    "df.write.format(\"parquet\").saveAsTable(permanent_table_name)"
   ]
  },
  {
   "cell_type": "code",
   "execution_count": 24,
   "metadata": {},
   "outputs": [
    {
     "data": {
      "application/vnd.jupyter.widget-view+json": {
       "model_id": "93298c948a514af187410cb91072d686",
       "version_major": 2,
       "version_minor": 0
      },
      "text/plain": [
       "VBox()"
      ]
     },
     "metadata": {},
     "output_type": "display_data"
    },
    {
     "data": {
      "application/vnd.jupyter.widget-view+json": {
       "model_id": "",
       "version_major": 2,
       "version_minor": 0
      },
      "text/plain": [
       "FloatProgress(value=0.0, bar_style='info', description='Progress:', layout=Layout(height='25px', width='50%'),…"
      ]
     },
     "metadata": {},
     "output_type": "display_data"
    },
    {
     "name": "stderr",
     "output_type": "stream",
     "text": [
      "No module named 'pandas'\n",
      "Traceback (most recent call last):\n",
      "ModuleNotFoundError: No module named 'pandas'\n",
      "\n"
     ]
    }
   ],
   "source": [
    "import pandas as pd"
   ]
  },
  {
   "cell_type": "code",
   "execution_count": 25,
   "metadata": {},
   "outputs": [
    {
     "data": {
      "application/vnd.jupyter.widget-view+json": {
       "model_id": "4e1ad2cae1eb485db8b85da09c256018",
       "version_major": 2,
       "version_minor": 0
      },
      "text/plain": [
       "VBox()"
      ]
     },
     "metadata": {},
     "output_type": "display_data"
    },
    {
     "data": {
      "application/vnd.jupyter.widget-view+json": {
       "model_id": "",
       "version_major": 2,
       "version_minor": 0
      },
      "text/plain": [
       "FloatProgress(value=0.0, bar_style='info', description='Progress:', layout=Layout(height='25px', width='50%'),…"
      ]
     },
     "metadata": {},
     "output_type": "display_data"
    },
    {
     "name": "stdout",
     "output_type": "stream",
     "text": [
      "+----------+\n",
      "|count(url)|\n",
      "+----------+\n",
      "|     41263|\n",
      "+----------+"
     ]
    }
   ],
   "source": [
    "result = run_sql('SELECT count(url) FROM topic.articles')\n",
    "result.show()"
   ]
  },
  {
   "cell_type": "code",
   "execution_count": 26,
   "metadata": {},
   "outputs": [
    {
     "data": {
      "application/vnd.jupyter.widget-view+json": {
       "model_id": "11a98331f2eb45b3bf9de3b05cf636a9",
       "version_major": 2,
       "version_minor": 0
      },
      "text/plain": [
       "VBox()"
      ]
     },
     "metadata": {},
     "output_type": "display_data"
    },
    {
     "data": {
      "application/vnd.jupyter.widget-view+json": {
       "model_id": "",
       "version_major": 2,
       "version_minor": 0
      },
      "text/plain": [
       "FloatProgress(value=0.0, bar_style='info', description='Progress:', layout=Layout(height='25px', width='50%'),…"
      ]
     },
     "metadata": {},
     "output_type": "display_data"
    },
    {
     "name": "stdout",
     "output_type": "stream",
     "text": [
      "+--------------------+----------+\n",
      "|       source_domain|count(url)|\n",
      "+--------------------+----------+\n",
      "|       breitbart.com|      3750|\n",
      "| fivethirtyeight.com|      3432|\n",
      "|         nbcnews.com|      2270|\n",
      "|              rt.com|      2068|\n",
      "|           slate.com|      1878|\n",
      "|         latimes.com|      1860|\n",
      "|             bbc.com|      1852|\n",
      "|     theatlantic.com|      1767|\n",
      "|        theblaze.com|      1707|\n",
      "|         foxnews.com|      1706|\n",
      "|  chicagotribune.com|      1619|\n",
      "|      denverpost.com|      1618|\n",
      "|         nytimes.com|      1597|\n",
      "|         thehill.com|      1338|\n",
      "|          reason.com|      1281|\n",
      "|         cbsnews.com|      1211|\n",
      "|            time.com|      1206|\n",
      "|           chron.com|      1170|\n",
      "|       economist.com|       947|\n",
      "|          forbes.com|       917|\n",
      "|          boston.com|       912|\n",
      "|           msnbc.com|       887|\n",
      "|        dailykos.com|       668|\n",
      "|             npr.org|       606|\n",
      "|              ft.com|       596|\n",
      "|          apnews.com|       561|\n",
      "|washingtonexamine...|       496|\n",
      "|     theguardian.com|       463|\n",
      "|          nypost.com|       307|\n",
      "|        usatoday.com|       258|\n",
      "|         reuters.com|        92|\n",
      "|     bostonglobe.com|        91|\n",
      "|chicago.suntimes.com|        45|\n",
      "|             wsj.com|        41|\n",
      "|             vox.com|        40|\n",
      "|         mediate.com|         3|\n",
      "|            cnbc.com|         3|\n",
      "+--------------------+----------+"
     ]
    }
   ],
   "source": [
    "result = run_sql('SELECT source_domain, count(url) FROM topic.articles GROUP BY source_domain ORDER BY 2 DESC')\n",
    "result.show(100)"
   ]
  },
  {
   "cell_type": "code",
   "execution_count": 27,
   "metadata": {},
   "outputs": [
    {
     "data": {
      "application/vnd.jupyter.widget-view+json": {
       "model_id": "f2c67afeaf6d42c4a507b624ff9897f2",
       "version_major": 2,
       "version_minor": 0
      },
      "text/plain": [
       "VBox()"
      ]
     },
     "metadata": {},
     "output_type": "display_data"
    },
    {
     "data": {
      "application/vnd.jupyter.widget-view+json": {
       "model_id": "",
       "version_major": 2,
       "version_minor": 0
      },
      "text/plain": [
       "FloatProgress(value=0.0, bar_style='info', description='Progress:', layout=Layout(height='25px', width='50%'),…"
      ]
     },
     "metadata": {},
     "output_type": "display_data"
    },
    {
     "name": "stdout",
     "output_type": "stream",
     "text": [
      "+-------+-------------+-----------+------------+-----------+--------+---------+--------+---------+-------------+----+-----+----------+---------+---+\n",
      "|authors|date_download|date_modify|date_publish|description|filename|image_url|language|localpath|source_domain|text|title|title_page|title_rss|url|\n",
      "+-------+-------------+-----------+------------+-----------+--------+---------+--------+---------+-------------+----+-----+----------+---------+---+\n",
      "|      0|            0|          0|         618|       3826|       0|        0|    4963|        0|            0|1308|    3|         0|        0|  0|\n",
      "+-------+-------------+-----------+------------+-----------+--------+---------+--------+---------+-------------+----+-----+----------+---------+---+"
     ]
    }
   ],
   "source": [
    "from pyspark.sql.functions import col\n",
    "from pyspark.sql.functions import sum as spark_sum\n",
    "\n",
    "def count_null(col_name):\n",
    "    return spark_sum(col(col_name).isNull().cast('integer')).alias(col_name)\n",
    "\n",
    "# Build up a list of column expressions, one per column.\n",
    "exprs = [count_null(col_name) for col_name in df.columns]\n",
    "\n",
    "# Run the aggregation. The *exprs converts the list of expressions into\n",
    "# variable function arguments.\n",
    "df.agg(*exprs).show()"
   ]
  },
  {
   "cell_type": "code",
   "execution_count": 29,
   "metadata": {},
   "outputs": [
    {
     "data": {
      "application/vnd.jupyter.widget-view+json": {
       "model_id": "d24d2a3e920345c6870fe907121514ea",
       "version_major": 2,
       "version_minor": 0
      },
      "text/plain": [
       "VBox()"
      ]
     },
     "metadata": {},
     "output_type": "display_data"
    },
    {
     "data": {
      "application/vnd.jupyter.widget-view+json": {
       "model_id": "",
       "version_major": 2,
       "version_minor": 0
      },
      "text/plain": [
       "FloatProgress(value=0.0, bar_style='info', description='Progress:', layout=Layout(height='25px', width='50%'),…"
      ]
     },
     "metadata": {},
     "output_type": "display_data"
    },
    {
     "name": "stdout",
     "output_type": "stream",
     "text": [
      "+----------+\n",
      "|count(url)|\n",
      "+----------+\n",
      "|      1308|\n",
      "+----------+"
     ]
    }
   ],
   "source": [
    "result = run_sql('SELECT count(url) FROM topic.articles WHERE text IS NULL')\n",
    "result.show()"
   ]
  },
  {
   "cell_type": "code",
   "execution_count": 30,
   "metadata": {},
   "outputs": [
    {
     "data": {
      "application/vnd.jupyter.widget-view+json": {
       "model_id": "ad505a5acd1b4d40943735a951b6a923",
       "version_major": 2,
       "version_minor": 0
      },
      "text/plain": [
       "VBox()"
      ]
     },
     "metadata": {},
     "output_type": "display_data"
    },
    {
     "data": {
      "application/vnd.jupyter.widget-view+json": {
       "model_id": "",
       "version_major": 2,
       "version_minor": 0
      },
      "text/plain": [
       "FloatProgress(value=0.0, bar_style='info', description='Progress:', layout=Layout(height='25px', width='50%'),…"
      ]
     },
     "metadata": {},
     "output_type": "display_data"
    },
    {
     "name": "stdout",
     "output_type": "stream",
     "text": [
      "+----------+\n",
      "|count(url)|\n",
      "+----------+\n",
      "|         0|\n",
      "+----------+"
     ]
    }
   ],
   "source": [
    "result = run_sql(\"SELECT count(url) FROM topic.articles WHERE trim(text) = '' \")\n",
    "result.show()"
   ]
  },
  {
   "cell_type": "code",
   "execution_count": 33,
   "metadata": {},
   "outputs": [
    {
     "data": {
      "application/vnd.jupyter.widget-view+json": {
       "model_id": "2081ff42c750402bb8bbccc3300ad96d",
       "version_major": 2,
       "version_minor": 0
      },
      "text/plain": [
       "VBox()"
      ]
     },
     "metadata": {},
     "output_type": "display_data"
    },
    {
     "data": {
      "application/vnd.jupyter.widget-view+json": {
       "model_id": "",
       "version_major": 2,
       "version_minor": 0
      },
      "text/plain": [
       "FloatProgress(value=0.0, bar_style='info', description='Progress:', layout=Layout(height='25px', width='50%'),…"
      ]
     },
     "metadata": {},
     "output_type": "display_data"
    },
    {
     "name": "stdout",
     "output_type": "stream",
     "text": [
      "+-------------------+---------------------------------------------------------------------------------------------------------------------------------------------------------------------------------------------------------------------------------------------------------------------------------------------------------------------------------------------------------------------------------------------------------------------------------------------------------------------------------------------------------------------------------------------------------------------------------------------------------------------------------------------------------------------------------------------------------------------------------------------------------------------------------------------------------------------------------------------------------------------------------------------------------------------------------------------------------------------------------------------------------------------------------------------------------------------------------------------------------------------------------------------------------------------------------------------------------------------------------------------------------------------------------------------------------------------------------------------------------------------------------------------------------------------------------------------------+---------------+---------------------------------------------------------------------------------------------+------------------------------------------------------------------------------------------------------------------------------------------+---------------------------------------------------------------------------------------------------------------------------------------------+\n",
      "|date_publish       |description                                                                                                                                                                                                                                                                                                                                                                                                                                                                                                                                                                                                                                                                                                                                                                                                                                                                                                                                                                                                                                                                                                                                                                                                                                                                                                                                                                                                                                        |source_domain  |title                                                                                        |title_page                                                                                                                                |url                                                                                                                                          |\n",
      "+-------------------+---------------------------------------------------------------------------------------------------------------------------------------------------------------------------------------------------------------------------------------------------------------------------------------------------------------------------------------------------------------------------------------------------------------------------------------------------------------------------------------------------------------------------------------------------------------------------------------------------------------------------------------------------------------------------------------------------------------------------------------------------------------------------------------------------------------------------------------------------------------------------------------------------------------------------------------------------------------------------------------------------------------------------------------------------------------------------------------------------------------------------------------------------------------------------------------------------------------------------------------------------------------------------------------------------------------------------------------------------------------------------------------------------------------------------------------------------+---------------+---------------------------------------------------------------------------------------------+------------------------------------------------------------------------------------------------------------------------------------------+---------------------------------------------------------------------------------------------------------------------------------------------+\n",
      "|2012-02-20 17:24:08|HOUSTON - Kyle Lowry encestó el domingo 32 puntos, el argentino Luis Scola anotó 26, incluidos seis consecutivos en el cuarto período, y los Rockets de Houston resistieron una reacción tardía del Jazz de Utah para derrotarlo por 101-85. Durant anotó 51 puntos, la cifra más alta de su carrera y su mejor actuación esta temporada en la NBA; Rusell Westbrook agregó 40 unidades y Serge Ibaka consiguió su primer triple-doble en la victoria que el Thunder logró en tiempo extra la noche del domingo por 124-118 sobre los Nuggets de Denver. Los tres jugadores del Thunder se convirtieron en los primeros compañeros de equipo en la historia de la NBA que logran en una noche 50 puntos, un esfuerzo complementario de 40 puntos y un triple-doble. Los aficionados de la NBA en todo el mundo se preguntaban si la historia de Jeremy Lin era demasiado buena como para ser verdad. Con su triunfo, los Knicks rompieron a los Mavericks una racha de seis victorias. \"Se ve un poco como Steve Nash allá afuera\", afirmó Kidd, refiriéndose a la estrella de los Suns de Phoenix que ha sido el Jugador Más Valioso de la NBA en dos ocasiones. En un partido de intensas oscilaciones en el marcador, los Knicks metieron 17 puntos consecutivos en el primer período, quedaron en desventaja por 12 en el tercero, y luego repuntaron para vencer a los Mavericks apenas por tercera ocasión en sus últimos 20 enfrentamientos.|chron.com      |NBA: Rockets 101, Jazz 85; Scola brilla en el último cuarto                                  |NBA: Rockets 101, Jazz 85; Scola brilla en el último cuarto - Houston Chronicle                                                           |https://www.chron.com/news/article/NBA-Rockets-101-Jazz-85-Scola-brilla-en-el-3344139.php                                                    |\n",
      "|2017-04-07 20:53:44|The National Security Council has presented President Trump with options to respond to North Korea's nuclear program, including putting American nukes in South Korea or killing dictator Kim Jong-un, multiple top-ranking officials told NBC News. Both scenarios are part of an accelerated review of North Korea policy prepared in advance of Trump's meeting with Chinese President Xi Jinping this week. Tune in to Nightly News tonight at 6:30 p.m. ET for more on this story.                                                                                                                                                                                                                                                                                                                                                                                                                                                                                                                                                                                                                                                                                                                                                                                                                                                                                                                                                            |nbcnews.com    |Trump's Options for North Korea Include Placing Nukes in South Korea                         |Trump's Options for North Korea Include Placing Nukes in South Korea                                                                      |https://www.nbcnews.com/news/us-news/trump-s-options-north-korea-include-placing-nukes-south-korea-n743571                                   |\n",
      "|2017-05-02 17:40:27|Wells Fargo just lost a $2 billion government contract with the City of Philadelphia, at least partly due to the bank’s “fake account” scandal.                                                                                                                                                                                                                                                                                                                                                                                                                                                                                                                                                                                                                                                                                                                                                                                                                                                                                                                                                                                                                                                                                                                                                                                                                                                                                                    |nbcnews.com    |Wells Fargo Just Lost a Massive $2 Billion Contract with the City of Philadelphia            |Wells Fargo Just Lost a Massive $2 Billion Contract with the City of Philadelphia                                                         |https://www.nbcnews.com/business/business-news/wells-fargo-just-lost-massive-2-billion-contract-city-philadelphia-n753921                    |\n",
      "|2017-04-04 17:08:29|Former National Security Adviser Susan Rice on Tuesday denied that she sought to improperly 'unmask' Trump campaign officials whose conversations were caught on surveillance by U.S. intelligence services. 'The allegation is that somehow the Obama administration officials utilized intelligence for political purposes,' Rice said in an exclusive interview with NBC's Andrea Mitchell. 'That is absolutely false.' Tune into MSNBC for ongoing analysis and coverage.                                                                                                                                                                                                                                                                                                                                                                                                                                                                                                                                                                                                                                                                                                                                                                                                                                                                                                                                                                      |nbcnews.com    |Susan Rice Speaks Out on 'Unmasking' Accusations: 'I Leaked Nothing to Nobody'               |Susan Rice Speaks Out on 'Unmasking' Accusations: 'I Leaked Nothing to Nobody'                                                            |https://www.nbcnews.com/politics/politics-news/susan-rice-speaks-out-unmasking-accusations-i-leaked-nothing-nobody-n742486                   |\n",
      "|2010-11-30 13:14:27|Қозоғистон сиёсатчилари бир неча йиллардан бери кутган кунлар бугун келди. Расмийлардан тортиб, баъзи оддий аҳоли вакиллари ҳам фахр билан тилга олаётган Оврўпада Хавфсизлик ва Ҳамкорлик ташкилотининг навбатдаги саммити ва ниҳоят айнан шу собиқ Шўро давла                                                                                                                                                                                                                                                                                                                                                                                                                                                                                                                                                                                                                                                                                                                                                                                                                                                                                                                                                                                                                                                                                                                                                                                    |bbc.com        |Дабдабали анжуман ўтаётган Остона, Саммитхон ва бир-бирига зид манзаралар...                 |Дабдабали анжуман ўтаётган Остона, Саммитхон ва бир-бирига зид манзаралар... - BBC News O'zbek                                            |https://www.bbc.com/uzbek/central_asia/2010/11/101130_cy_kazakh_summit                                                                       |\n",
      "|2010-11-15 19:50:10|Президент Ислом Каримов \"бугунги таҳликали замон\"да Ўзбекистонни қарама-қаршиликлардан асраш учун ҳушёрликка чақирган. Ўзбекистон раҳбари бу ҳақда Тошкентда мамлакат мустақиллигига 19 йил тўлиши муносабати билан бўлиб ўтган тантанали маросимда гапирган.                                                                                                                                                                                                                                                                                                                                                                                                                                                                                                                                                                                                                                                                                                                                                                                                                                                                                                                                                                                                                                                                                                                                                                                      |bbc.com        |Ислом Каримов Ўзбекистонни қарама-қаршиликлардан асраш учун ҳушёрликка чақирди               |Ислом Каримов Ўзбекистонни қарама-қаршиликлардан асраш учун ҳушёрликка чақирди - BBC News O'zbek                                          |https://www.bbc.com/uzbek/uzbekistan/2010/09/100901_cy_karimov_calls_for_vigilance                                                           |\n",
      "|2017-05-01 19:52:14|Alyssa Ross and baby Adalyn were last seen April 26, 2017 in Yukon, Oklahoma.                                                                                                                                                                                                                                                                                                                                                                                                                                                                                                                                                                                                                                                                                                                                                                                                                                                                                                                                                                                                                                                                                                                                                                                                                                                                                                                                                                      |nbcnews.com    |Mother Pleads for Answers in Disappearance of Daughter Alyssa Ross and Granddaughter Adalyn  |Mother Pleads for Answers in Disappearance of Daughter Alyssa Ross and Granddaughter Adalyn                                               |https://www.nbcnews.com/feature/missing-in-america/mother-pleads-answers-disappearance-daughter-alyssa-ross-granddaughter-adalyn-n753386     |\n",
      "|2017-05-04 22:34:26|The drug kingpin has been given permission to exchange messages with his wife about hiring and paying attorneys.                                                                                                                                                                                                                                                                                                                                                                                                                                                                                                                                                                                                                                                                                                                                                                                                                                                                                                                                                                                                                                                                                                                                                                                                                                                                                                                                   |nbcnews.com    |Joaquin 'El Chapo' Guzman Still Searching for Lawyers - and Money to Pay Them                |Joaquin 'El Chapo' Guzman Still Searching for Lawyers — and Money to Pay Them                                                             |https://www.nbcnews.com/news/us-news/joaquin-el-chapo-guzman-still-searching-lawyers-money-pay-them-n755121                                  |\n",
      "|2010-11-30 15:01:54|Тожикистон парламенти вакилларининг Эронга расмий сафари доирасида вакиллик палатаси раиси Шукуржон Зуҳуров у ердаги диний таълим даргоҳларида ўқиётган 200дан ортиқ тожик ёшларини шу ердаги бошқа таълим даргоҳларига кўчирилишини сўраган.                                                                                                                                                                                                                                                                                                                                                                                                                                                                                                                                                                                                                                                                                                                                                                                                                                                                                                                                                                                                                                                                                                                                                                                                      |bbc.com        |Эрон диний таълим даргоҳларидаги тожик талабалари бошқа ихтисосликларга ўтказилади           |Эрон диний таълим даргоҳларидаги тожик талабалари бошқа ихтисосликларга ўтказилади - BBC News O'zbek                                      |https://www.bbc.com/uzbek/central_asia/2010/11/101130_cy_tajik_students                                                                      |\n",
      "|2012-02-20 19:37:13|México llama a G20 a responder con mayor contundencia a crisis LOS CABOS, México - El presidente mexicano Felipe Calderón llamó el lunes a los líderes del G20 a utilizar su liderazgo internacional para actuar de manera contundente y oportuna para superar la actual crisis financiera internacional, en momentos que la Unión Europea maniobra para evitar la quiebra de Grecia. El mandatario dijo que el mundo podría voltear a ver la experiencia de América Latina que en décadas pasadas padeció crisis recurrentes a consecuencia de elevados déficits públicos y problemas de deuda externa que llevaron a la región a \"aprender de nuestros múltiples errores\".                                                                                                                                                                                                                                                                                                                                                                                                                                                                                                                                                                                                                                                                                                                                                                       |chron.com      |México llama a G20 a responder con mayor contundencia a crisis                               |México llama a G20 a responder con mayor contundencia a crisis - Houston Chronicle                                                        |https://www.chron.com/spanish/la-voz/article/Mexico-llama-a-G20-a-responder-con-mayor-3344350.php                                            |\n",
      "|2017-04-10 19:14:10|Alycia Yeoman disappeared on March 30, 2017 from Yuba City, California.                                                                                                                                                                                                                                                                                                                                                                                                                                                                                                                                                                                                                                                                                                                                                                                                                                                                                                                                                                                                                                                                                                                                                                                                                                                                                                                                                                            |nbcnews.com    |Search Continues for Missing California College Student After \"Ransom\" Messages Deemed a Hoax|Search Continues for Missing California College Student After \"Ransom\" Messages Deemed a Hoax                                             |https://www.nbcnews.com/feature/missing-in-america/search-continues-missing-california-college-student-after-ransom-messages-deemed-n744786  |\n",
      "|2017-05-08 18:33:38|The Kushner Companies' presentation to potential investors in China has come under heavy criticism.                                                                                                                                                                                                                                                                                                                                                                                                                                                                                                                                                                                                                                                                                                                                                                                                                                                                                                                                                                                                                                                                                                                                                                                                                                                                                                                                                |nbcnews.com    |Kushner Kin's China Sales Pitch 'Corruption, Pure and Simple': Expert                        |Kushner Kin's China Sales Pitch 'Corruption, Pure and Simple': Expert                                                                     |https://www.nbcnews.com/news/us-news/spicer-kushner-not-involved-family-s-chinese-eb-5-visa-n756406                                          |\n",
      "|2017-04-05 17:31:25|Terrence Wayne Roach, 24, a half-brother to one of Aleah's sisters, was arrested last week.                                                                                                                                                                                                                                                                                                                                                                                                                                                                                                                                                                                                                                                                                                                                                                                                                                                                                                                                                                                                                                                                                                                                                                                                                                                                                                                                                        |nbcnews.com    |More Details Released on Arrest in Kidnapping and Murder of Disabled Teen Aleah Beckerle     |More Details Released on Arrest in Kidnapping and Murder of Disabled Teen Aleah Beckerle                                                  |https://www.nbcnews.com/feature/missing-in-america/more-details-released-arrest-kidnapping-murder-disabled-teen-aleah-beckerle-n742976       |\n",
      "|2017-10-03 21:18:02|The damage caused by Hurricane Maria has crippled Puerto Rico’s pharmaceutical industry, leading to critical shortages of certain drugs and medical devices.                                                                                                                                                                                                                                                                                                                                                                                                                                                                                                                                                                                                                                                                                                                                                                                                                                                                                                                                                                                                                                                                                                                                                                                                                                                                                       |nbcnews.com    |Puerto Rico Faces Critical Drug Shortage as Walgreens Restores Service                       |Puerto Rico Faces Critical Drug Shortage as Walgreens Restores Service                                                                    |https://www.nbcnews.com/storyline/puerto-rico-crisis/puerto-rico-faces-critical-drug-shortage-walgreens-restores-service-n807231             |\n",
      "|2019-11-25 06:46:52|There are a lot of angry people out there wondering what they have to lose – aside from the entire planet                                                                                                                                                                                                                                                                                                                                                                                                                                                                                                                                                                                                                                                                                                                                                                                                                                                                                                                                                                                                                                                                                                                                                                                                                                                                                                                                          |theguardian.com|Ecoterrorism? Maybe we should start with ringing the doorbell of a mining magnate’s house    |Ecoterrorism? Maybe we should start with ringing the doorbell of a mining magnate’s house | First Dog on the Moon | Opinion | The Guardian|https://www.theguardian.com/commentisfree/2019/nov/25/ecoterrorism-maybe-we-should-start-with-ringing-the-doorbell-of-a-mining-magnates-house|\n",
      "|2017-05-10 13:02:16|Tony Innouvong's custom-made ties are made with a traditional Lao fabric called \"sinh.\"                                                                                                                                                                                                                                                                                                                                                                                                                                                                                                                                                                                                                                                                                                                                                                                                                                                                                                                                                                                                                                                                                                                                                                                                                                                                                                                                                            |nbcnews.com    |Designer Tony Innouvong Turns Reclaimed Lao Fabric Into Custom-Made Ties                     |Designer Tony Innouvong Turns Reclaimed Lao Fabric Into Custom-Made Ties                                                                  |https://www.nbcnews.com/news/asian-america/designer-tony-innouvong-shares-lao-culture-reclaimed-fabric-custom-menswear-n754516               |\n",
      "|2017-04-07 16:13:00|Syrian Americans are voicing wary optimism in the wake of the Unites States' military retaliation for a chemical strike in Syria.                                                                                                                                                                                                                                                                                                                                                                                                                                                                                                                                                                                                                                                                                                                                                                                                                                                                                                                                                                                                                                                                                                                                                                                                                                                                                                                  |nbcnews.com    |Syrian Americans Offer Measured Praise on Airstrikes: 'It's Bittersweet'                     |Syrian Americans Offer Measured Praise on Airstrikes: 'It's Bittersweet'                                                                  |https://www.nbcnews.com/storyline/syrias-suffering-families/syrian-americans-offer-measured-praise-airstrikes-it-s-bittersweet-n743706       |\n",
      "|2017-04-07 12:34:41|\"The Circus Saved My Life” follows gymnast Chimgee Haltarhuu, who performed as a clown with Haltarhuu.                                                                                                                                                                                                                                                                                                                                                                                                                                                                                                                                                                                                                                                                                                                                                                                                                                                                                                                                                                                                                                                                                                                                                                                                                                                                                                                                             |nbcnews.com    |Documentary Follows Domestic Violence Survivor Who Escaped Through the Circus                |Documentary Follows Domestic Violence Survivor Who Escaped Through the Circus                                                             |https://www.nbcnews.com/news/asian-america/documentary-follows-domestic-violence-survivor-who-escaped-through-circus-n739231                 |\n",
      "|2010-11-22 14:35:45|Олма ота ҳибсхоналарида сақланаётган ўзбекистонлик бошпана изловчиларнинг соғлиғи ёмонлашгани айтилади. Олинган хабарларга кўра, уларнинг орасида бўлган қаршилик Иса Пардаевнинг юзининг бир томони фалаж бўлиб, ишламай қолган.                                                                                                                                                                                                                                                                                                                                                                                                                                                                                                                                                                                                                                                                                                                                                                                                                                                                                                                                                                                                                                                                                                                                                                                                                  |bbc.com        |Қозоғистондаги ўзбекистонлик бошпана изловчиларнинг соғлиғи ёмонлашган                       |Қозоғистондаги ўзбекистонлик бошпана изловчиларнинг соғлиғи ёмонлашган - BBC News O'zbek                                                  |https://www.bbc.com/uzbek/central_asia/2010/11/101122_cy_uzbek_refugees_condition                                                            |\n",
      "|2017-04-04 21:14:44|Zakaryia Abdin told an undercover agent he was saving money to buy guns, according to court papers.                                                                                                                                                                                                                                                                                                                                                                                                                                                                                                                                                                                                                                                                                                                                                                                                                                                                                                                                                                                                                                                                                                                                                                                                                                                                                                                                                |nbcnews.com    |Teenage ISIS Recruit Zakaryia Abdin Eyed Orlando-Style Attack: Feds                          |Teenage ISIS Recruit Zakaryia Abdin Eyed Orlando-Style Attack: Feds                                                                       |https://www.nbcnews.com/news/us-news/teenage-isis-recruit-zakaryia-abdin-eyed-orlando-style-attack-feds-n742686                              |\n",
      "+-------------------+---------------------------------------------------------------------------------------------------------------------------------------------------------------------------------------------------------------------------------------------------------------------------------------------------------------------------------------------------------------------------------------------------------------------------------------------------------------------------------------------------------------------------------------------------------------------------------------------------------------------------------------------------------------------------------------------------------------------------------------------------------------------------------------------------------------------------------------------------------------------------------------------------------------------------------------------------------------------------------------------------------------------------------------------------------------------------------------------------------------------------------------------------------------------------------------------------------------------------------------------------------------------------------------------------------------------------------------------------------------------------------------------------------------------------------------------------+---------------+---------------------------------------------------------------------------------------------+------------------------------------------------------------------------------------------------------------------------------------------+---------------------------------------------------------------------------------------------------------------------------------------------+\n",
      "only showing top 20 rows"
     ]
    }
   ],
   "source": [
    "result = run_sql('SELECT date_publish, description, source_domain, title, title_page, url FROM topic.articles WHERE text IS NULL')\n",
    "result.show(truncate=False)"
   ]
  },
  {
   "cell_type": "code",
   "execution_count": 34,
   "metadata": {},
   "outputs": [
    {
     "data": {
      "application/vnd.jupyter.widget-view+json": {
       "model_id": "78582659ed46487793b1929a883df2b4",
       "version_major": 2,
       "version_minor": 0
      },
      "text/plain": [
       "VBox()"
      ]
     },
     "metadata": {},
     "output_type": "display_data"
    },
    {
     "data": {
      "application/vnd.jupyter.widget-view+json": {
       "model_id": "",
       "version_major": 2,
       "version_minor": 0
      },
      "text/plain": [
       "FloatProgress(value=0.0, bar_style='info', description='Progress:', layout=Layout(height='25px', width='50%'),…"
      ]
     },
     "metadata": {},
     "output_type": "display_data"
    },
    {
     "name": "stdout",
     "output_type": "stream",
     "text": [
      "+-------------+--------------------+--------------------+--------+\n",
      "|source_domain|               title|          title_page|language|\n",
      "+-------------+--------------------+--------------------+--------+\n",
      "|    slate.com|The four big prob...|The four big prob...|    null|\n",
      "|    slate.com|Help! I'm a snob ...|Help! I'm a snob ...|    null|\n",
      "|    slate.com|Help! I'm a snob ...|Help! I'm a snob ...|    null|\n",
      "|    slate.com|Help! I'm a snob ...|Help! I'm a snob ...|    null|\n",
      "|    slate.com|Help! I'm a snob ...|Help! I'm a snob ...|    null|\n",
      "|    slate.com|Help! I'm a snob ...|Help! I'm a snob ...|    null|\n",
      "|    slate.com|Help! I'm a snob ...|Help! I'm a snob ...|    null|\n",
      "|    slate.com|Help! I'm a snob ...|Help! I'm a snob ...|    null|\n",
      "|    slate.com|Help! I'm a snob ...|Help! I'm a snob ...|    null|\n",
      "|    slate.com|Help! I'm a snob ...|Help! I'm a snob ...|    null|\n",
      "|    slate.com|Help! I'm a snob ...|Help! I'm a snob ...|    null|\n",
      "|    slate.com|Help! I'm a snob ...|Help! I'm a snob ...|    null|\n",
      "|    slate.com|Help! I'm a snob ...|Help! I'm a snob ...|    null|\n",
      "|    slate.com|Help! I'm a snob ...|Help! I'm a snob ...|    null|\n",
      "|    slate.com|Help! I'm a snob ...|Help! I'm a snob ...|    null|\n",
      "|    slate.com|Hillary's Permane...|Hillary's Permane...|    null|\n",
      "|    slate.com|Elizabeth Edwards...|Elizabeth Edwards...|    null|\n",
      "|    slate.com|Obama: The Man fr...|Obama: The Man fr...|    null|\n",
      "|    slate.com|Obama: The Man fr...|Obama: The Man fr...|    null|\n",
      "|    slate.com|Obama: The Man fr...|Obama: The Man fr...|    null|\n",
      "|    slate.com|Obama: The Man fr...|Obama: The Man fr...|    null|\n",
      "|    slate.com|Where did all the...|Where did all the...|    null|\n",
      "|    slate.com|Where did all the...|Where did all the...|    null|\n",
      "|    slate.com|Waiting for Obama...|Waiting for Obama...|    null|\n",
      "|    slate.com|The first Wright ...|The first Wright ...|    null|\n",
      "|    slate.com|Anti-Obama downba...|Anti-Obama downba...|    null|\n",
      "|    slate.com|McCain's Univisio...|McCain's Univisio...|    null|\n",
      "|    slate.com|McCain's Univisio...|McCain's Univisio...|    null|\n",
      "|    slate.com|McCain's Univisio...|McCain's Univisio...|    null|\n",
      "|    slate.com|McCain's Univisio...|McCain's Univisio...|    null|\n",
      "|    chron.com|ALIEF/SOUTHWEST H...|ALIEF/SOUTHWEST H...|    null|\n",
      "|    chron.com|CY-FAIR AREA HIGH...|CY-FAIR AREA HIGH...|    null|\n",
      "|    chron.com|SPRING/KLEIN HIGH...|SPRING/KLEIN HIGH...|    null|\n",
      "|    slate.com|Ronald Reagan mad...|Linda Taylor, wel...|    null|\n",
      "|    msnbc.com|Transcript: Jim C...|Transcript: Jim C...|    null|\n",
      "|    msnbc.com|Transcript: Preet...|Transcript: Preet...|    null|\n",
      "|    msnbc.com|Transcript: Pat F...|Transcript: Pat F...|    null|\n",
      "|    msnbc.com|Sally Yates: Deci...|Sally Yates: Deci...|    null|\n",
      "|    chron.com|Houston's diverse...|Houston's diverse...|    null|\n",
      "|    chron.com|Case Keenum's car...|Case Keenum's car...|    null|\n",
      "|    chron.com|2010 Chronicle Ye...|2010 Chronicle Ye...|    null|\n",
      "|    msnbc.com|Transcript: Jerem...|Transcript: Jerem...|    null|\n",
      "|    msnbc.com|Transcript: Willi...|Transcript: Willi...|    null|\n",
      "|    chron.com|2010 Australian Open|2010 Australian O...|    null|\n",
      "|    slate.com|Hillary Needs Edw...|Hillary Needs Edw...|    null|\n",
      "|    msnbc.com|Transcript: Forme...|Transcript: Forme...|    null|\n",
      "|    chron.com| It's HOT out there!|It's HOT out ther...|    null|\n",
      "|    msnbc.com|Transcript: Kathy...|Transcript: Kathy...|    null|\n",
      "|  thehill.com|Live coverage: Sc...|Live coverage: Sc...|    null|\n",
      "|    chron.com|EAST END/THIRD WA...|EAST END/THIRD WA...|    null|\n",
      "|    msnbc.com|Transcript: Jim B...|Transcript: Jim B...|    null|\n",
      "|    msnbc.com|Transcript: Jim B...|Transcript: Jim B...|    null|\n",
      "|    msnbc.com|Transcript: Rob S...|Transcript: Rob S...|    null|\n",
      "|    msnbc.com|Transcript: Nicol...|Transcript: Nicol...|    null|\n",
      "|    msnbc.com|Transcript: Nicol...|Transcript: Nicol...|    null|\n",
      "|    chron.com|TX Fort Worth TX ...|TX Fort Worth TX ...|    null|\n",
      "|    msnbc.com|Transcript: Barba...|Transcript: Barba...|    null|\n",
      "|    chron.com|  High school spirit|High school spiri...|    null|\n",
      "|    msnbc.com|Transcript: Lisa ...|Transcript: Lisa ...|    null|\n",
      "|  thehill.com|Live coverage: Im...|Live coverage: Im...|    null|\n",
      "|    chron.com|10 years of milit...|10 years of milit...|    null|\n",
      "|    chron.com|    August in photos|August in photos ...|    null|\n",
      "|    slate.com|The Party-in-a-La...|The Party-in-a-La...|    null|\n",
      "|    msnbc.com|Transcript: Jim C...|Transcript: Jim C...|    null|\n",
      "|    chron.com|Photos of Tropica...|Photos of Tropica...|    null|\n",
      "|   apnews.com|Hemp, Inc. Announ...|Hemp, Inc. Announ...|    null|\n",
      "|    chron.com|RodeoHouston perf...|RodeoHouston perf...|    null|\n",
      "|    chron.com|    French Open: men|French Open: men ...|    null|\n",
      "|    slate.com|        Slate votes.|        Slate votes.|    null|\n",
      "|    slate.com|        Slate votes.|        Slate votes.|    null|\n",
      "|    chron.com|Butler at Final Four|Butler at Final F...|    null|\n",
      "| dailykos.com|Morning Digest: T...|Morning Digest: T...|    null|\n",
      "|    chron.com| UConn 53, Butler 41|UConn 53, Butler ...|    null|\n",
      "| dailykos.com|Morning Digest: G...|Morning Digest: G...|    null|\n",
      "| dailykos.com|Morning Digest: O...|Morning Digest: O...|    null|\n",
      "|    chron.com|       2011 Gold Cup|2011 Gold Cup - H...|    null|\n",
      "| dailykos.com|Morning Digest: L...|Morning Digest: L...|    null|\n",
      "|    slate.com|Let the healing b...|Let the healing b...|    null|\n",
      "|    slate.com|Let the healing b...|Let the healing b...|    null|\n",
      "|    chron.com|Elizabeth Taylor ...|Elizabeth Taylor ...|    null|\n",
      "| dailykos.com|Morning Digest: C...|Morning Digest: C...|    null|\n",
      "|    chron.com|  December in photos|December in photo...|    null|\n",
      "| dailykos.com|Morning Digest: C...|Morning Digest: C...|    null|\n",
      "| dailykos.com|Morning Digest: A...|Morning Digest: A...|    null|\n",
      "|    slate.com|Katrina recrimina...|Katrina recrimina...|    null|\n",
      "|    chron.com|Halle Berry keeps...|Halle Berry keeps...|    null|\n",
      "| dailykos.com|Spotlight on gree...|Spotlight on gree...|    null|\n",
      "|   apnews.com|i3 Verticals Repo...|i3 Verticals Repo...|    null|\n",
      "| dailykos.com|Morning Digest: H...|Morning Digest: H...|    null|\n",
      "| dailykos.com|Morning Digest: A...|Morning Digest: A...|    null|\n",
      "| dailykos.com|Morning Digest: R...|Morning Digest: R...|    null|\n",
      "|    chron.com|Astros-Cardinals ...|Astros-Cardinals ...|    null|\n",
      "|    chron.com|  Duke 78, Baylor 71|Duke 78, Baylor 7...|    null|\n",
      "|    chron.com|HS football: Stat...|HS football: Stat...|    null|\n",
      "| dailykos.com|Morning Digest: L...|Morning Digest: L...|    null|\n",
      "| dailykos.com|Morning Digest: N...|Morning Digest: N...|    null|\n",
      "| dailykos.com|Morning Digest: I...|Morning Digest: I...|    null|\n",
      "|  thehill.com|The Hill's Mornin...|The Hill's Mornin...|    null|\n",
      "| dailykos.com|Morning Digest: I...|Morning Digest: I...|    null|\n",
      "|    chron.com|MomHouston presen...|MomHouston presen...|    null|\n",
      "+-------------+--------------------+--------------------+--------+\n",
      "only showing top 100 rows"
     ]
    }
   ],
   "source": [
    "result = run_sql('SELECT source_domain, title, title_page, language FROM topic.articles WHERE language IS NULL')\n",
    "result.show(100)"
   ]
  },
  {
   "cell_type": "code",
   "execution_count": 35,
   "metadata": {},
   "outputs": [
    {
     "data": {
      "application/vnd.jupyter.widget-view+json": {
       "model_id": "a66c9f7dfc91480cbd4b5c37dc7b335a",
       "version_major": 2,
       "version_minor": 0
      },
      "text/plain": [
       "VBox()"
      ]
     },
     "metadata": {},
     "output_type": "display_data"
    },
    {
     "data": {
      "application/vnd.jupyter.widget-view+json": {
       "model_id": "",
       "version_major": 2,
       "version_minor": 0
      },
      "text/plain": [
       "FloatProgress(value=0.0, bar_style='info', description='Progress:', layout=Layout(height='25px', width='50%'),…"
      ]
     },
     "metadata": {},
     "output_type": "display_data"
    },
    {
     "name": "stdout",
     "output_type": "stream",
     "text": [
      "+--------+--------------------+\n",
      "|language|count(source_domain)|\n",
      "+--------+--------------------+\n",
      "|      en|               34896|\n",
      "|      vi|                1397|\n",
      "|    null|                4963|\n",
      "|      ja|                   7|\n",
      "+--------+--------------------+"
     ]
    }
   ],
   "source": [
    "result = run_sql('SELECT language, count(source_domain) FROM topic.articles GROUP BY language')\n",
    "result.show(100)"
   ]
  },
  {
   "cell_type": "markdown",
   "metadata": {},
   "source": [
    "**TBD** We will need to infer language when it is null, and then we want to filter to only include language = 'en'"
   ]
  },
  {
   "cell_type": "markdown",
   "metadata": {},
   "source": [
    "**TBD** We also need to filter out articles with:\n",
    "* date_publish IS NULL\n",
    "* title IS NULL\n",
    "* text IS NULL   (we might want to use description if text is missing)"
   ]
  },
  {
   "cell_type": "code",
   "execution_count": 42,
   "metadata": {},
   "outputs": [
    {
     "data": {
      "application/vnd.jupyter.widget-view+json": {
       "model_id": "d614992aa3d04e64b973bbe339fb6afe",
       "version_major": 2,
       "version_minor": 0
      },
      "text/plain": [
       "VBox()"
      ]
     },
     "metadata": {},
     "output_type": "display_data"
    },
    {
     "data": {
      "application/vnd.jupyter.widget-view+json": {
       "model_id": "",
       "version_major": 2,
       "version_minor": 0
      },
      "text/plain": [
       "FloatProgress(value=0.0, bar_style='info', description='Progress:', layout=Layout(height='25px', width='50%'),…"
      ]
     },
     "metadata": {},
     "output_type": "display_data"
    },
    {
     "name": "stdout",
     "output_type": "stream",
     "text": [
      "+-------------------------------------------------+--------------------+\n",
      "|date_format(CAST(date_publish AS TIMESTAMP), Y-M)|count(source_domain)|\n",
      "+-------------------------------------------------+--------------------+\n",
      "|                                           2022-5|                   1|\n",
      "|                                           2019-9|                 821|\n",
      "|                                           2019-8|                 502|\n",
      "|                                           2019-7|                 544|\n",
      "|                                           2019-6|                 520|\n",
      "|                                           2019-5|                 453|\n",
      "|                                           2019-4|                 263|\n",
      "|                                           2019-3|                  60|\n",
      "|                                           2019-2|                 163|\n",
      "|                                          2019-12|                   8|\n",
      "|                                          2019-11|                6108|\n",
      "|                                          2019-10|                 640|\n",
      "|                                           2019-1|                 116|\n",
      "|                                           2018-9|                 191|\n",
      "|                                           2018-8|                 116|\n",
      "|                                           2018-7|                 134|\n",
      "|                                           2018-6|                  72|\n",
      "|                                           2018-5|                  67|\n",
      "|                                           2018-4|                 174|\n",
      "|                                           2018-3|                 623|\n",
      "+-------------------------------------------------+--------------------+\n",
      "only showing top 20 rows"
     ]
    }
   ],
   "source": [
    "result = run_sql('''\n",
    "    SELECT date_format(date_publish, 'Y-M'), count(source_domain) \n",
    "    FROM topic.articles GROUP BY date_format(date_publish, 'Y-M')\n",
    "    ORDER BY 1 DESC\n",
    "    ''')\n",
    "result.show()"
   ]
  },
  {
   "cell_type": "markdown",
   "metadata": {},
   "source": [
    "**TBD** I may want to do some filtering on dates"
   ]
  },
  {
   "cell_type": "code",
   "execution_count": 44,
   "metadata": {},
   "outputs": [
    {
     "data": {
      "application/vnd.jupyter.widget-view+json": {
       "model_id": "56989df9afad478eab0bcc4dbb151cbb",
       "version_major": 2,
       "version_minor": 0
      },
      "text/plain": [
       "VBox()"
      ]
     },
     "metadata": {},
     "output_type": "display_data"
    },
    {
     "data": {
      "application/vnd.jupyter.widget-view+json": {
       "model_id": "",
       "version_major": 2,
       "version_minor": 0
      },
      "text/plain": [
       "FloatProgress(value=0.0, bar_style='info', description='Progress:', layout=Layout(height='25px', width='50%'),…"
      ]
     },
     "metadata": {},
     "output_type": "display_data"
    },
    {
     "name": "stdout",
     "output_type": "stream",
     "text": [
      "+----------+\n",
      "|count(url)|\n",
      "+----------+\n",
      "|      1228|\n",
      "+----------+"
     ]
    }
   ],
   "source": [
    "result = run_sql('''\n",
    "    SELECT count(url) FROM topic.articles WHERE text IS NULL and description IS NOT NULL\n",
    "    ''')\n",
    "result.show()"
   ]
  },
  {
   "cell_type": "markdown",
   "metadata": {},
   "source": [
    "This means only 90 articles are lacking description and text"
   ]
  },
  {
   "cell_type": "code",
   "execution_count": 45,
   "metadata": {},
   "outputs": [
    {
     "data": {
      "application/vnd.jupyter.widget-view+json": {
       "model_id": "4e9b233d6f684b298efca196f6b10ade",
       "version_major": 2,
       "version_minor": 0
      },
      "text/plain": [
       "VBox()"
      ]
     },
     "metadata": {},
     "output_type": "display_data"
    },
    {
     "data": {
      "application/vnd.jupyter.widget-view+json": {
       "model_id": "",
       "version_major": 2,
       "version_minor": 0
      },
      "text/plain": [
       "FloatProgress(value=0.0, bar_style='info', description='Progress:', layout=Layout(height='25px', width='50%'),…"
      ]
     },
     "metadata": {},
     "output_type": "display_data"
    },
    {
     "name": "stdout",
     "output_type": "stream",
     "text": [
      "+--------------------+------------------+--------------------+\n",
      "|               title|     source_domain|         description|\n",
      "+--------------------+------------------+--------------------+\n",
      "|NBA: Rockets 101,...|         chron.com|HOUSTON - Kyle Lo...|\n",
      "|Trump's Options f...|       nbcnews.com|The National Secu...|\n",
      "|Wells Fargo Just ...|       nbcnews.com|Wells Fargo just ...|\n",
      "|Susan Rice Speaks...|       nbcnews.com|Former National S...|\n",
      "|Дабдабали анжуман...|           bbc.com|Қозоғистон сиёсат...|\n",
      "|Ислом Каримов Ўзб...|           bbc.com|Президент Ислом К...|\n",
      "|Mother Pleads for...|       nbcnews.com|Alyssa Ross and b...|\n",
      "|Joaquin 'El Chapo...|       nbcnews.com|The drug kingpin ...|\n",
      "|Эрон диний таълим...|           bbc.com|Тожикистон парлам...|\n",
      "|México llama a G2...|         chron.com|México llama a G2...|\n",
      "|Search Continues ...|       nbcnews.com|Alycia Yeoman dis...|\n",
      "|Kushner Kin's Chi...|       nbcnews.com|The Kushner Compa...|\n",
      "|More Details Rele...|       nbcnews.com|Terrence Wayne Ro...|\n",
      "|Puerto Rico Faces...|       nbcnews.com|The damage caused...|\n",
      "|Ecoterrorism? May...|   theguardian.com|There are a lot o...|\n",
      "|Designer Tony Inn...|       nbcnews.com|Tony Innouvong's ...|\n",
      "|Syrian Americans ...|       nbcnews.com|Syrian Americans ...|\n",
      "|Documentary Follo...|       nbcnews.com|\"The Circus Saved...|\n",
      "|Қозоғистондаги ўз...|           bbc.com|Олма ота ҳибсхона...|\n",
      "|Teenage ISIS Recr...|       nbcnews.com|Zakaryia Abdin to...|\n",
      "|Remains Found in ...|       nbcnews.com|Nahomi Rodriguez ...|\n",
      "|Body Found in Riv...|       nbcnews.com|A fisherman disco...|\n",
      "|Trump Is Consider...|       nbcnews.com|President Trump i...|\n",
      "|Answer to Questio...|       nbcnews.com|Authorities have ...|\n",
      "|Missing Oklahoma ...|       nbcnews.com|Alyssa Ross and h...|\n",
      "|Brothers Charged ...|       nbcnews.com|Ray Ellis is bein...|\n",
      "|'Қозоғистонга ишл...|           bbc.com|Қозоғистонда “Аёл...|\n",
      "|The Americans Liv...|       nbcnews.com|Nearly 140,000 U....|\n",
      "|In Her L.A. Neigh...|       nbcnews.com|Josefina Lopez, t...|\n",
      "|Ўзбекистон аҳолис...|           bbc.com|Ўзбекистонда Конс...|\n",
      "|Suspect Aaron Sau...|       nbcnews.com|Police said a com...|\n",
      "|Russia Blames Syr...|       nbcnews.com|Russian officials...|\n",
      "|'Халқаро Меҳнат Т...|           bbc.com|Олмониялик юқори ...|\n",
      "|'Қирғизистондаги ...|           bbc.com|БМТ ва халқаро та...|\n",
      "|FBI Director Come...|       nbcnews.com|FBI Director Jame...|\n",
      "|Las Vegas Gunman ...|       nbcnews.com|Stephen Paddock's...|\n",
      "|Wikileaks: Қочқин...|           bbc.com|Wikileaks ошкор э...|\n",
      "|Three Myths About...|       nbcnews.com|Three brain myths...|\n",
      "|Husband Confesses...|       nbcnews.com|On Oct. 25, 2017,...|\n",
      "|Nearly Every Amer...|       nbcnews.com|New data shows th...|\n",
      "|'There Goes the N...|       nbcnews.com|In the new book, ...|\n",
      "|Абдужамил Шукуров...|           bbc.com|Футбол оламида ду...|\n",
      "|Doctor Convicted ...|       nbcnews.com|Martin MacNeill, ...|\n",
      "|Ohio Postpones 9 ...|       nbcnews.com|Lethal injections...|\n",
      "|Missing Atlanta F...|       nbcnews.com|A man missing sin...|\n",
      "|UK retail sales s...|   theguardian.com|Rolling coverage ...|\n",
      "|Медведев: 'Собиқ ...|           bbc.com|Россия Федерал ма...|\n",
      "|One Month Later, ...|       nbcnews.com|Joanne Ringer was...|\n",
      "|Las Vegas Shootin...|       nbcnews.com|At least 59 peopl...|\n",
      "|United Airlines C...|       nbcnews.com|Dr. David Dao, 69...|\n",
      "|Don McGahn: forme...|   theguardian.com|Federal judge rul...|\n",
      "|Egypt Palm Sunday...|       nbcnews.com|The first explosi...|\n",
      "|U.S.-Led Coalitio...|       nbcnews.com|It was not immedi...|\n",
      "|West Virginia Cop...|       nbcnews.com|Former cop Stephe...|\n",
      "|'Made by Refugee'...|       nbcnews.com|Quan Tran and Jil...|\n",
      "|Тележурналистлар ...|           bbc.com|Ўзбекистон телеви...|\n",
      "|Ўзбекистон 60 га ...|           bbc.com|Ўзбекистон миллий...|\n",
      "|LGBT Job Discrimi...|       nbcnews.com|A federal appeals...|\n",
      "|Twitter Says U.S....|       nbcnews.com|The federal gover...|\n",
      "|'Янги йилдан Қозо...|           bbc.com|Қозоғистон Мадани...|\n",
      "|Top U.S. Election...|       nbcnews.com|Matthew Masterson...|\n",
      "|'ОХҲТга раислиги ...|           bbc.com|ОХҲТнинг матбуот ...|\n",
      "|O.J. Simpson Rele...|       nbcnews.com|O.J. Simpson serv...|\n",
      "|Ўзбекистон ОХҲТни...|           bbc.com|Остонадаги ОХҲТ с...|\n",
      "|Alabama 'Love Gov...|       nbcnews.com|Alabama's Gov. Ro...|\n",
      "|Қурмонбек Бакиев ...|           bbc.com|Жорий пайтда маҳк...|\n",
      "|Оврўпода Қозоғист...|           bbc.com|Остона Оврўпода Х...|\n",
      "|Nicky Jam dice qu...|chicagotribune.com|Y con “X” vuelve ...|\n",
      "|Donald Trump Shar...|       nbcnews.com|President Donald ...|\n",
      "|Husband of Missin...|       nbcnews.com|Charles \"Chad\" Re...|\n",
      "|Voices: Adiós to ...|       nbcnews.com|Voices: We recent...|\n",
      "|'Ашаддиётлар дунё...|           bbc.com|'...Кийимларимиз ...|\n",
      "|'Аспирин' саратон...|           bbc.com|Британиялик олимл...|\n",
      "|Trump Prepares Ne...|       nbcnews.com|President Trump i...|\n",
      "|Афғонистонда АҚШ ...|           bbc.com|Афғонистонда тобо...|\n",
      "|Puerto Rico's Hos...|       nbcnews.com|Two weeks after H...|\n",
      "|Three U.S. Soldie...|       nbcnews.com|Three U.S. Army S...|\n",
      "|'Қирғизистон жану...|           bbc.com|Ўзбекистонлик бир...|\n",
      "|Марта Брилл Олкот...|           bbc.com|Қозоғистон пойтах...|\n",
      "|Getty, MuslimGirl...|       nbcnews.com|The collaboration...|\n",
      "|White House Accus...|       nbcnews.com|The White House i...|\n",
      "|Lawyers Desperate...|       nbcnews.com|Lawyers for the s...|\n",
      "|Trump's Army Secr...|       nbcnews.com|After being slamm...|\n",
      "|ACLU Sues City Ov...|       nbcnews.com|The ACLU filed su...|\n",
      "|Имомали Раҳмон: '...|           bbc.com|Тожикистон Презид...|\n",
      "|Ўзбекистон ўз спо...|           bbc.com|Яна бир курашчиси...|\n",
      "|New Seafloor Atla...|       nbcnews.com|Under the icy wat...|\n",
      "|Appeals Court Ske...|       nbcnews.com|A majority of the...|\n",
      "|Secret Service Em...|       nbcnews.com|The Secret Servic...|\n",
      "|Adam Jones Abuse ...|       nbcnews.com|Racist taunts hur...|\n",
      "|Winning numbers f...|         chron.com|WINNING NUMBERS T...|\n",
      "|Weinstein's Haras...|       nbcnews.com|The Weinstein Com...|\n",
      "|Nadal y Federer s...|chicagotribune.com|Rafael Nadal y Ro...|\n",
      "|پارلمان گه اورین ...|           bbc.com|افغانستان مستقل س...|\n",
      "|Equal Pay Day: Wo...|       nbcnews.com|Women and advocat...|\n",
      "|Маиший зўравонлар...|           bbc.com|Британия ҳукумати...|\n",
      "|'Жаслиқ'даги дини...|           bbc.com|Маҳбуслар қариндо...|\n",
      "|Santorum sube su ...|         chron.com|WASHINGTON DC - E...|\n",
      "|Sheffield United ...|   theguardian.com|Sheffield United’...|\n",
      "|Through Comic Boo...|       nbcnews.com|Young Mexican-Ame...|\n",
      "+--------------------+------------------+--------------------+\n",
      "only showing top 100 rows"
     ]
    }
   ],
   "source": [
    "result = run_sql('''\n",
    "    SELECT title, source_domain, description FROM topic.articles WHERE text IS NULL and description IS NOT NULL\n",
    "    ''')\n",
    "result.show(100)"
   ]
  },
  {
   "cell_type": "code",
   "execution_count": 54,
   "metadata": {},
   "outputs": [
    {
     "data": {
      "application/vnd.jupyter.widget-view+json": {
       "model_id": "1ff595ab95ba4c2584255d8170a70ed7",
       "version_major": 2,
       "version_minor": 0
      },
      "text/plain": [
       "VBox()"
      ]
     },
     "metadata": {},
     "output_type": "display_data"
    },
    {
     "data": {
      "application/vnd.jupyter.widget-view+json": {
       "model_id": "",
       "version_major": 2,
       "version_minor": 0
      },
      "text/plain": [
       "FloatProgress(value=0.0, bar_style='info', description='Progress:', layout=Layout(height='25px', width='50%'),…"
      ]
     },
     "metadata": {},
     "output_type": "display_data"
    },
    {
     "name": "stdout",
     "output_type": "stream",
     "text": [
      "+--------------------+-------------------+-------------------+-------------------+--------------------+--------------------+--------------------+--------+--------------------+-------------------+--------------------+--------------------+--------------------+---------+--------------------+\n",
      "|             authors|      date_download|        date_modify|       date_publish|         description|            filename|           image_url|language|           localpath|      source_domain|                text|               title|          title_page|title_rss|                 url|\n",
      "+--------------------+-------------------+-------------------+-------------------+--------------------+--------------------+--------------------+--------+--------------------+-------------------+--------------------+--------------------+--------------------+---------+--------------------+\n",
      "|[Edith Efron, Ron...|2019-11-26 18:18:07|2019-11-26 18:18:07|1994-11-01 05:00:00|The chaos and par...|1994_11_01__15747...|https://reason.co...|      en|/home/ec2-user/ne...|         reason.com|On June 7, 1993, ...|Can the President...|Can the President...|     NULL|https://reason.co...|\n",
      "|  [David Halberstam]|2019-11-26 16:32:52|2019-11-26 16:32:52|1976-02-01 12:00:00|The advent of the...|magazine_archive_...|https://cdn.theat...|      en|/home/ec2-user/ne...|    theatlantic.com|At the same time ...|The Power and the...|The Power and the...|     NULL|https://www.theat...|\n",
      "|[Michael Fumento,...|2019-11-26 18:24:48|2019-11-26 18:24:48|1997-08-01 04:00:00|New air pollution...|1997_08_01__15747...|https://reason.co...|      en|/home/ec2-user/ne...|         reason.com|The town of Salmo...|    Polluted Science|Polluted Science ...|     NULL|https://reason.co...|\n",
      "|        [Neil Paine]|2019-11-26 18:40:23|2019-11-26 18:40:23|2017-06-13 13:02:49|They won the titl...|features__1574793...|https://fivethirt...|      en|/home/ec2-user/ne...|fivethirtyeight.com|The 2015 NBA seas...|The Warriors Are ...|The Warriors Are ...|     NULL|https://fivethirt...|\n",
      "|[Peter Samuel, La...|2019-11-26 18:05:04|2019-11-26 18:05:04|1989-02-01 17:00:00|Over and Out The ...|1989_02_01__15747...|https://reason.co...|      en|/home/ec2-user/ne...|         reason.com|Over and Out\n",
      "The ...|Freedom in the Sk...|Freedom in the Sk...|     NULL|https://reason.co...|\n",
      "|[Walter Williams,...|2019-11-26 18:00:16|2019-11-26 18:00:16|1988-05-01 16:00:00|Thoughts on liber...|1988_05_01__15747...|https://reason.co...|      en|/home/ec2-user/ne...|         reason.com|A More Perfect Un...|       We the People|We the People – R...|     NULL|https://reason.co...|\n",
      "|[Michael Ketcher,...|2019-11-26 17:54:20|2019-11-26 17:54:20|1987-08-01 16:00:00|Avoiding hard-mon...|1987_08_01__15747...|https://reason.co...|      en|/home/ec2-user/ne...|         reason.com|Bad Guys. Bad Buy...|Annual Financial ...|Annual Financial ...|     NULL|https://reason.co...|\n",
      "|[Robert Prechter,...|2019-11-26 17:56:48|2019-11-26 17:56:48|1986-08-01 16:00:00|Can you survive t...|1986_08_01__15747...|https://reason.co...|      en|/home/ec2-user/ne...|         reason.com|From Now to '90\n",
      "W...|Annual Financial ...|Annual Financial ...|     NULL|https://reason.co...|\n",
      "|[Patrick Cox, Ron...|2019-11-26 17:27:13|2019-11-26 17:27:13|1980-09-01 16:00:00|A different kind ...|1980_09_01__15747...|https://reason.co...|      en|/home/ec2-user/ne...|         reason.com|Throughout the pr...| Wun Niu Fela Kuntri|Wun Niu Fela Kunt...|     NULL|https://reason.co...|\n",
      "|[Thomas W. Hazlet...|2019-11-26 17:37:55|2019-11-26 17:37:55|1982-07-01 16:00:00|Cable technology ...|1982_07_01__15747...|https://reason.co...|      en|/home/ec2-user/ne...|         reason.com|Nobody thinks of ...|The Viewer Is the...|The Viewer Is the...|     NULL|https://reason.co...|\n",
      "|                  []|2019-11-26 16:34:41|2019-11-26 16:34:41|2019-10-02 17:16:07|A leaked audio re...|news-and-politics...|https://compote.s...|      en|/home/ec2-user/ne...|          slate.com|Slate's Who Count...|The full transcri...|The full transcri...|     NULL|https://slate.com...|\n",
      "|[John Exter, Milt...|2019-11-26 16:46:34|2019-11-26 16:46:34|1975-06-01 16:00:00|           Two views|1975_06_01__15747...|https://reason.co...|      en|/home/ec2-user/ne...|         reason.com|One of the few co...|The Role and Valu...|The Role and Valu...|     NULL|https://reason.co...|\n",
      "|                  []|2019-11-26 16:48:05|2019-11-26 16:48:05|2001-09-14 16:01:00|TIME's original r...|3313113__15747868...|https://api.time....|      en|/home/ec2-user/ne...|           time.com|If you want to hu...|September 11, 200...|September 11, 200...|     NULL|https://time.com/...|\n",
      "|[James Martin, Ro...|2019-11-26 16:58:24|2019-11-26 16:58:24|1976-02-01 17:00:00|It is a very comf...|1976_02_01__15747...|https://reason.co...|      en|/home/ec2-user/ne...|         reason.com|It is a very comf...|The Framing of To...|The Framing of To...|     NULL|https://reason.co...|\n",
      "|[Mick Kronman, Ro...|2019-11-26 17:47:24|2019-11-26 17:47:24|1984-08-01 16:00:00|Kidney machines h...|1984_08_01__15747...|https://reason.co...|      en|/home/ec2-user/ne...|         reason.com|On a Saturday mor...|Dialyzing for Dol...|Dialyzing for Dol...|     NULL|https://reason.co...|\n",
      "|[Milton Copulos, ...|2019-11-26 17:42:26|2019-11-26 17:42:26|1983-07-01 16:00:00|Most of what you'...|1983_07_01__15747...|https://reason.co...|      en|/home/ec2-user/ne...|         reason.com|Pipeline to Disas...|Inflammatory Rhet...|Inflammatory Rhet...|     NULL|https://reason.co...|\n",
      "|[Virginia Postrel...|2019-11-26 18:31:14|2019-11-26 18:31:14|1999-01-01 05:00:00|Society depends o...|1999_01_01__15747...|https://reason.co...|      en|/home/ec2-user/ne...|         reason.com|Overhearing that ...|   The Bonds of Life|The Bonds of Life...|     NULL|https://reason.co...|\n",
      "|[Patrick Cox, Ron...|2019-11-26 17:45:29|2019-11-26 17:45:29|1985-01-01 17:00:00|Their business is...|1985_01_01__15747...|https://reason.co...|      en|/home/ec2-user/ne...|         reason.com|Gary Hudson needs...| Space Entrepreneurs|Space Entrepreneu...|     NULL|https://reason.co...|\n",
      "|[John Hospers, Da...|2019-11-26 17:48:53|2019-11-26 17:48:53|1984-02-01 17:00:00|Movies John Hospe...|1984_02_01__15747...|https://reason.co...|      en|/home/ec2-user/ne...|         reason.com|Movies\n",
      "John Hospe...|      Arts & Letters|Arts & Letters – ...|     NULL|https://reason.co...|\n",
      "|[R. Johnson, Rona...|2019-11-26 16:47:53|2019-11-26 16:47:53|1975-05-01 16:00:00|Recent months hav...|1975_05_01__15747...|https://reason.co...|      en|/home/ec2-user/ne...|         reason.com|Recent months hav...|The Energy Crisis...|The Energy Crisis...|     NULL|https://reason.co...|\n",
      "+--------------------+-------------------+-------------------+-------------------+--------------------+--------------------+--------------------+--------+--------------------+-------------------+--------------------+--------------------+--------------------+---------+--------------------+\n",
      "only showing top 20 rows"
     ]
    }
   ],
   "source": [
    "clean_df = run_sql('''\n",
    "    SELECT * FROM topic.articles \n",
    "    WHERE\n",
    "      date_publish IS NOT NULL AND\n",
    "      date_publish <= current_date() AND\n",
    "      language = 'en' AND\n",
    "      title IS NOT NULL AND\n",
    "      (text IS NOT NULL OR description IS NOT NULL)\n",
    "    ''').cache()\n",
    "clean_df.show()"
   ]
  },
  {
   "cell_type": "code",
   "execution_count": 55,
   "metadata": {},
   "outputs": [
    {
     "data": {
      "application/vnd.jupyter.widget-view+json": {
       "model_id": "780e7d42b81e4aeea37013de1a1b4567",
       "version_major": 2,
       "version_minor": 0
      },
      "text/plain": [
       "VBox()"
      ]
     },
     "metadata": {},
     "output_type": "display_data"
    },
    {
     "data": {
      "application/vnd.jupyter.widget-view+json": {
       "model_id": "",
       "version_major": 2,
       "version_minor": 0
      },
      "text/plain": [
       "FloatProgress(value=0.0, bar_style='info', description='Progress:', layout=Layout(height='25px', width='50%'),…"
      ]
     },
     "metadata": {},
     "output_type": "display_data"
    }
   ],
   "source": [
    "from pyspark.sql.functions import expr"
   ]
  },
  {
   "cell_type": "code",
   "execution_count": 56,
   "metadata": {},
   "outputs": [
    {
     "data": {
      "application/vnd.jupyter.widget-view+json": {
       "model_id": "52e62215b62c46f894b812ccbe3c9d3b",
       "version_major": 2,
       "version_minor": 0
      },
      "text/plain": [
       "VBox()"
      ]
     },
     "metadata": {},
     "output_type": "display_data"
    },
    {
     "data": {
      "application/vnd.jupyter.widget-view+json": {
       "model_id": "",
       "version_major": 2,
       "version_minor": 0
      },
      "text/plain": [
       "FloatProgress(value=0.0, bar_style='info', description='Progress:', layout=Layout(height='25px', width='50%'),…"
      ]
     },
     "metadata": {},
     "output_type": "display_data"
    }
   ],
   "source": [
    "clean_df = clean_df.withColumn(\"text_or_desc\", \n",
    "                         expr(\"case when text IS NULL then description ELSE text end\"))"
   ]
  },
  {
   "cell_type": "code",
   "execution_count": 57,
   "metadata": {},
   "outputs": [
    {
     "data": {
      "application/vnd.jupyter.widget-view+json": {
       "model_id": "328f6e1458b0470aa7817550a9d8056b",
       "version_major": 2,
       "version_minor": 0
      },
      "text/plain": [
       "VBox()"
      ]
     },
     "metadata": {},
     "output_type": "display_data"
    },
    {
     "data": {
      "application/vnd.jupyter.widget-view+json": {
       "model_id": "",
       "version_major": 2,
       "version_minor": 0
      },
      "text/plain": [
       "FloatProgress(value=0.0, bar_style='info', description='Progress:', layout=Layout(height='25px', width='50%'),…"
      ]
     },
     "metadata": {},
     "output_type": "display_data"
    }
   ],
   "source": [
    "result = clean_df.groupBy('source_domain').count()"
   ]
  },
  {
   "cell_type": "code",
   "execution_count": 59,
   "metadata": {},
   "outputs": [
    {
     "data": {
      "application/vnd.jupyter.widget-view+json": {
       "model_id": "b493242461844479a1b4b27c6ed20746",
       "version_major": 2,
       "version_minor": 0
      },
      "text/plain": [
       "VBox()"
      ]
     },
     "metadata": {},
     "output_type": "display_data"
    },
    {
     "data": {
      "application/vnd.jupyter.widget-view+json": {
       "model_id": "",
       "version_major": 2,
       "version_minor": 0
      },
      "text/plain": [
       "FloatProgress(value=0.0, bar_style='info', description='Progress:', layout=Layout(height='25px', width='50%'),…"
      ]
     },
     "metadata": {},
     "output_type": "display_data"
    },
    {
     "name": "stdout",
     "output_type": "stream",
     "text": [
      "+--------------------+-----+\n",
      "|       source_domain|count|\n",
      "+--------------------+-----+\n",
      "|              ft.com|  588|\n",
      "|         nytimes.com| 1593|\n",
      "|chicago.suntimes.com|   36|\n",
      "|        theblaze.com| 1705|\n",
      "|         reuters.com|    9|\n",
      "|washingtonexamine...|  492|\n",
      "|     theatlantic.com| 1758|\n",
      "|         nbcnews.com| 1760|\n",
      "|             wsj.com|   34|\n",
      "|        usatoday.com|  208|\n",
      "|           slate.com| 1708|\n",
      "|         latimes.com| 1840|\n",
      "|          boston.com|  894|\n",
      "|       economist.com|  947|\n",
      "|             bbc.com|  290|\n",
      "|         mediate.com|    1|\n",
      "|         foxnews.com| 1706|\n",
      "|            time.com| 1183|\n",
      "|          forbes.com|  660|\n",
      "|         cbsnews.com| 1211|\n",
      "|             npr.org|  599|\n",
      "|     bostonglobe.com|   23|\n",
      "|      denverpost.com| 1605|\n",
      "|          reason.com| 1281|\n",
      "|  chicagotribune.com| 1618|\n",
      "|              rt.com|   96|\n",
      "|          nypost.com|  227|\n",
      "|     theguardian.com|  313|\n",
      "|             vox.com|   33|\n",
      "|       breitbart.com| 3745|\n",
      "| fivethirtyeight.com| 3430|\n",
      "+--------------------+-----+"
     ]
    }
   ],
   "source": [
    "result.show(100)"
   ]
  },
  {
   "cell_type": "markdown",
   "metadata": {},
   "source": [
    "**TBD** Need to figure out why pandas didn't load"
   ]
  },
  {
   "cell_type": "code",
   "execution_count": null,
   "metadata": {},
   "outputs": [],
   "source": []
  }
 ],
 "metadata": {
  "kernelspec": {
   "display_name": "PySpark",
   "language": "",
   "name": "pysparkkernel"
  },
  "language_info": {
   "codemirror_mode": {
    "name": "python",
    "version": 2
   },
   "mimetype": "text/x-python",
   "name": "pyspark",
   "pygments_lexer": "python2"
  }
 },
 "nbformat": 4,
 "nbformat_minor": 4
}
