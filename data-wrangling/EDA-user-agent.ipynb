{
 "cells": [
  {
   "cell_type": "code",
   "execution_count": 1,
   "metadata": {},
   "outputs": [
    {
     "data": {
      "application/vnd.jupyter.widget-view+json": {
       "model_id": "e4c264e3ae4a40d59420129e65435830",
       "version_major": 2,
       "version_minor": 0
      },
      "text/plain": [
       "VBox()"
      ]
     },
     "metadata": {},
     "output_type": "display_data"
    },
    {
     "name": "stdout",
     "output_type": "stream",
     "text": [
      "Starting Spark application\n"
     ]
    },
    {
     "data": {
      "text/html": [
       "<table>\n",
       "<tr><th>ID</th><th>YARN Application ID</th><th>Kind</th><th>State</th><th>Spark UI</th><th>Driver log</th><th>Current session?</th></tr><tr><td>12</td><td>application_1575479622115_0013</td><td>pyspark</td><td>idle</td><td><a target=\"_blank\" href=\"http://ip-172-31-22-40.ec2.internal:20888/proxy/application_1575479622115_0013/\">Link</a></td><td><a target=\"_blank\" href=\"http://ip-172-31-22-240.ec2.internal:8042/node/containerlogs/container_1575479622115_0013_01_000001/livy\">Link</a></td><td>✔</td></tr></table>"
      ],
      "text/plain": [
       "<IPython.core.display.HTML object>"
      ]
     },
     "metadata": {},
     "output_type": "display_data"
    },
    {
     "data": {
      "application/vnd.jupyter.widget-view+json": {
       "model_id": "",
       "version_major": 2,
       "version_minor": 0
      },
      "text/plain": [
       "FloatProgress(value=0.0, bar_style='info', description='Progress:', layout=Layout(height='25px', width='50%'),…"
      ]
     },
     "metadata": {},
     "output_type": "display_data"
    },
    {
     "name": "stdout",
     "output_type": "stream",
     "text": [
      "SparkSession available as 'spark'.\n"
     ]
    },
    {
     "data": {
      "application/vnd.jupyter.widget-view+json": {
       "model_id": "",
       "version_major": 2,
       "version_minor": 0
      },
      "text/plain": [
       "FloatProgress(value=0.0, bar_style='info', description='Progress:', layout=Layout(height='25px', width='50%'),…"
      ]
     },
     "metadata": {},
     "output_type": "display_data"
    },
    {
     "name": "stdout",
     "output_type": "stream",
     "text": [
      "<pyspark.sql.session.SparkSession object at 0x7f8b264588d0>"
     ]
    }
   ],
   "source": [
    "spark"
   ]
  },
  {
   "cell_type": "code",
   "execution_count": 2,
   "metadata": {},
   "outputs": [
    {
     "data": {
      "text/html": [
       "Current session configs: <tt>{'conf': {'spark.pyspark.python': 'python3', 'spark.pyspark.virtualenv.enabled': 'true', 'spark.pyspark.virtualenv.type': 'native', 'spark.pyspark.virtualenv.bin.path': '/usr/bin/virtualenv'}, 'kind': 'pyspark'}</tt><br>"
      ],
      "text/plain": [
       "<IPython.core.display.HTML object>"
      ]
     },
     "metadata": {},
     "output_type": "display_data"
    },
    {
     "data": {
      "text/html": [
       "<table>\n",
       "<tr><th>ID</th><th>YARN Application ID</th><th>Kind</th><th>State</th><th>Spark UI</th><th>Driver log</th><th>Current session?</th></tr><tr><td>11</td><td>application_1575479622115_0012</td><td>pyspark</td><td>idle</td><td><a target=\"_blank\" href=\"http://ip-172-31-22-40.ec2.internal:20888/proxy/application_1575479622115_0012/\">Link</a></td><td><a target=\"_blank\" href=\"http://ip-172-31-22-240.ec2.internal:8042/node/containerlogs/container_1575479622115_0012_01_000001/livy\">Link</a></td><td></td></tr><tr><td>12</td><td>application_1575479622115_0013</td><td>pyspark</td><td>idle</td><td><a target=\"_blank\" href=\"http://ip-172-31-22-40.ec2.internal:20888/proxy/application_1575479622115_0013/\">Link</a></td><td><a target=\"_blank\" href=\"http://ip-172-31-22-240.ec2.internal:8042/node/containerlogs/container_1575479622115_0013_01_000001/livy\">Link</a></td><td>✔</td></tr></table>"
      ],
      "text/plain": [
       "<IPython.core.display.HTML object>"
      ]
     },
     "metadata": {},
     "output_type": "display_data"
    }
   ],
   "source": [
    "%%info"
   ]
  },
  {
   "cell_type": "code",
   "execution_count": 3,
   "metadata": {},
   "outputs": [
    {
     "data": {
      "application/vnd.jupyter.widget-view+json": {
       "model_id": "682503eac4504453966f09b0845f5d60",
       "version_major": 2,
       "version_minor": 0
      },
      "text/plain": [
       "VBox()"
      ]
     },
     "metadata": {},
     "output_type": "display_data"
    },
    {
     "data": {
      "application/vnd.jupyter.widget-view+json": {
       "model_id": "",
       "version_major": 2,
       "version_minor": 0
      },
      "text/plain": [
       "FloatProgress(value=0.0, bar_style='info', description='Progress:', layout=Layout(height='25px', width='50%'),…"
      ]
     },
     "metadata": {},
     "output_type": "display_data"
    },
    {
     "name": "stdout",
     "output_type": "stream",
     "text": [
      "Collecting pandas\n",
      "  Using cached https://files.pythonhosted.org/packages/52/3f/f6a428599e0d4497e1595030965b5ba455fd8ade6e977e3c819973c4b41d/pandas-0.25.3-cp36-cp36m-manylinux1_x86_64.whl\n",
      "Requirement already satisfied: numpy>=1.13.3 in /usr/local/lib64/python3.6/site-packages (from pandas) (1.14.5)\n",
      "Collecting python-dateutil>=2.6.1\n",
      "  Using cached https://files.pythonhosted.org/packages/d4/70/d60450c3dd48ef87586924207ae8907090de0b306af2bce5d134d78615cb/python_dateutil-2.8.1-py2.py3-none-any.whl\n",
      "Requirement already satisfied: pytz>=2017.2 in /usr/local/lib/python3.6/site-packages (from pandas) (2019.3)\n",
      "Requirement already satisfied: six>=1.5 in /usr/local/lib/python3.6/site-packages (from python-dateutil>=2.6.1->pandas) (1.12.0)\n",
      "Installing collected packages: python-dateutil, pandas\n",
      "Successfully installed pandas-0.25.3 python-dateutil-2.8.1"
     ]
    }
   ],
   "source": [
    "sc.install_pypi_package(\"pandas\")"
   ]
  },
  {
   "cell_type": "code",
   "execution_count": 4,
   "metadata": {},
   "outputs": [
    {
     "data": {
      "application/vnd.jupyter.widget-view+json": {
       "model_id": "cc76781cf2684f45b580dbc7415fde26",
       "version_major": 2,
       "version_minor": 0
      },
      "text/plain": [
       "VBox()"
      ]
     },
     "metadata": {},
     "output_type": "display_data"
    },
    {
     "data": {
      "application/vnd.jupyter.widget-view+json": {
       "model_id": "",
       "version_major": 2,
       "version_minor": 0
      },
      "text/plain": [
       "FloatProgress(value=0.0, bar_style='info', description='Progress:', layout=Layout(height='25px', width='50%'),…"
      ]
     },
     "metadata": {},
     "output_type": "display_data"
    },
    {
     "name": "stdout",
     "output_type": "stream",
     "text": [
      "Collecting matplotlib\n",
      "  Using cached https://files.pythonhosted.org/packages/4e/11/06958a2b895a3853206dea1fb2a5b11bf044f626f90745987612af9c8f2c/matplotlib-3.1.2-cp36-cp36m-manylinux1_x86_64.whl\n",
      "Requirement already satisfied: numpy>=1.11 in /usr/local/lib64/python3.6/site-packages (from matplotlib) (1.14.5)\n",
      "Collecting kiwisolver>=1.0.1\n",
      "  Using cached https://files.pythonhosted.org/packages/f8/a1/5742b56282449b1c0968197f63eae486eca2c35dcd334bab75ad524e0de1/kiwisolver-1.1.0-cp36-cp36m-manylinux1_x86_64.whl\n",
      "Requirement already satisfied: python-dateutil>=2.1 in /mnt/tmp/1575488626614-0/lib/python3.6/site-packages (from matplotlib) (2.8.1)\n",
      "Collecting pyparsing!=2.0.4,!=2.1.2,!=2.1.6,>=2.0.1\n",
      "  Using cached https://files.pythonhosted.org/packages/c0/0c/fc2e007d9a992d997f04a80125b0f183da7fb554f1de701bbb70a8e7d479/pyparsing-2.4.5-py2.py3-none-any.whl\n",
      "Collecting cycler>=0.10\n",
      "  Using cached https://files.pythonhosted.org/packages/f7/d2/e07d3ebb2bd7af696440ce7e754c59dd546ffe1bbe732c8ab68b9c834e61/cycler-0.10.0-py2.py3-none-any.whl\n",
      "Requirement already satisfied: setuptools in /mnt/tmp/1575488626614-0/lib/python3.6/site-packages (from kiwisolver>=1.0.1->matplotlib) (42.0.2)\n",
      "Requirement already satisfied: six>=1.5 in /usr/local/lib/python3.6/site-packages (from python-dateutil>=2.1->matplotlib) (1.12.0)\n",
      "Installing collected packages: kiwisolver, pyparsing, cycler, matplotlib\n",
      "Successfully installed cycler-0.10.0 kiwisolver-1.1.0 matplotlib-3.1.2 pyparsing-2.4.5"
     ]
    }
   ],
   "source": [
    "sc.install_pypi_package(\"matplotlib\")"
   ]
  },
  {
   "cell_type": "code",
   "execution_count": 5,
   "metadata": {},
   "outputs": [
    {
     "data": {
      "application/vnd.jupyter.widget-view+json": {
       "model_id": "273658cbaa52433e80d545e39950267e",
       "version_major": 2,
       "version_minor": 0
      },
      "text/plain": [
       "VBox()"
      ]
     },
     "metadata": {},
     "output_type": "display_data"
    },
    {
     "data": {
      "application/vnd.jupyter.widget-view+json": {
       "model_id": "",
       "version_major": 2,
       "version_minor": 0
      },
      "text/plain": [
       "FloatProgress(value=0.0, bar_style='info', description='Progress:', layout=Layout(height='25px', width='50%'),…"
      ]
     },
     "metadata": {},
     "output_type": "display_data"
    }
   ],
   "source": [
    "import pandas as pd\n",
    "import matplotlib.pyplot as plt\n",
    "import re\n",
    "from pyspark.sql.functions import col, input_file_name, udf\n",
    "from pyspark.sql.functions import sum as spark_sum"
   ]
  },
  {
   "cell_type": "code",
   "execution_count": 6,
   "metadata": {},
   "outputs": [
    {
     "data": {
      "application/vnd.jupyter.widget-view+json": {
       "model_id": "26398cd715f446319dcd0b299aac074e",
       "version_major": 2,
       "version_minor": 0
      },
      "text/plain": [
       "VBox()"
      ]
     },
     "metadata": {},
     "output_type": "display_data"
    },
    {
     "data": {
      "application/vnd.jupyter.widget-view+json": {
       "model_id": "",
       "version_major": 2,
       "version_minor": 0
      },
      "text/plain": [
       "FloatProgress(value=0.0, bar_style='info', description='Progress:', layout=Layout(height='25px', width='50%'),…"
      ]
     },
     "metadata": {},
     "output_type": "display_data"
    }
   ],
   "source": [
    "def run_sql(statement):\n",
    "    try:\n",
    "        result = sqlContext.sql(statement)\n",
    "    except Exception as e:\n",
    "        print(e.desc, '\\n', e.stackTrace)\n",
    "        return\n",
    "    return result\n",
    "\n",
    "def run_sql_pandas(statement):\n",
    "    return run_sql(statement).toPandas()\n"
   ]
  },
  {
   "cell_type": "code",
   "execution_count": 7,
   "metadata": {},
   "outputs": [
    {
     "data": {
      "application/vnd.jupyter.widget-view+json": {
       "model_id": "b7a197daa7db4d6c9b696afd7e42be08",
       "version_major": 2,
       "version_minor": 0
      },
      "text/plain": [
       "VBox()"
      ]
     },
     "metadata": {},
     "output_type": "display_data"
    },
    {
     "data": {
      "application/vnd.jupyter.widget-view+json": {
       "model_id": "",
       "version_major": 2,
       "version_minor": 0
      },
      "text/plain": [
       "FloatProgress(value=0.0, bar_style='info', description='Progress:', layout=Layout(height='25px', width='50%'),…"
      ]
     },
     "metadata": {},
     "output_type": "display_data"
    }
   ],
   "source": [
    "raw_df = spark.read.json(\"s3://topic-sentiment-1/combined/*.json\")"
   ]
  },
  {
   "cell_type": "code",
   "execution_count": 8,
   "metadata": {},
   "outputs": [
    {
     "data": {
      "application/vnd.jupyter.widget-view+json": {
       "model_id": "f834ca8bd699455cb0dcd4c4aec38642",
       "version_major": 2,
       "version_minor": 0
      },
      "text/plain": [
       "VBox()"
      ]
     },
     "metadata": {},
     "output_type": "display_data"
    },
    {
     "data": {
      "application/vnd.jupyter.widget-view+json": {
       "model_id": "",
       "version_major": 2,
       "version_minor": 0
      },
      "text/plain": [
       "FloatProgress(value=0.0, bar_style='info', description='Progress:', layout=Layout(height='25px', width='50%'),…"
      ]
     },
     "metadata": {},
     "output_type": "display_data"
    },
    {
     "name": "stdout",
     "output_type": "stream",
     "text": [
      "root\n",
      " |-- authors: array (nullable = true)\n",
      " |    |-- element: string (containsNull = true)\n",
      " |-- date_download: string (nullable = true)\n",
      " |-- date_modify: string (nullable = true)\n",
      " |-- date_publish: string (nullable = true)\n",
      " |-- description: string (nullable = true)\n",
      " |-- filename: string (nullable = true)\n",
      " |-- image_url: string (nullable = true)\n",
      " |-- language: string (nullable = true)\n",
      " |-- localpath: string (nullable = true)\n",
      " |-- source_domain: string (nullable = true)\n",
      " |-- text: string (nullable = true)\n",
      " |-- title: string (nullable = true)\n",
      " |-- title_page: string (nullable = true)\n",
      " |-- title_rss: string (nullable = true)\n",
      " |-- url: string (nullable = true)"
     ]
    }
   ],
   "source": [
    "raw_df.printSchema()"
   ]
  },
  {
   "cell_type": "code",
   "execution_count": 9,
   "metadata": {},
   "outputs": [
    {
     "data": {
      "application/vnd.jupyter.widget-view+json": {
       "model_id": "d781076f3b3d46bcb895e62c3f245602",
       "version_major": 2,
       "version_minor": 0
      },
      "text/plain": [
       "VBox()"
      ]
     },
     "metadata": {},
     "output_type": "display_data"
    },
    {
     "data": {
      "application/vnd.jupyter.widget-view+json": {
       "model_id": "",
       "version_major": 2,
       "version_minor": 0
      },
      "text/plain": [
       "FloatProgress(value=0.0, bar_style='info', description='Progress:', layout=Layout(height='25px', width='50%'),…"
      ]
     },
     "metadata": {},
     "output_type": "display_data"
    }
   ],
   "source": [
    "raw_df = raw_df.withColumn(\"source_file\", input_file_name())\n",
    "\n",
    "def file_only(path):\n",
    "    return path.split('/')[-1]\n",
    "\n",
    "file_only_udf = udf(file_only)\n",
    "raw_df = raw_df.withColumn(\"source_file\", file_only_udf(col(\"source_file\")))"
   ]
  },
  {
   "cell_type": "code",
   "execution_count": 10,
   "metadata": {},
   "outputs": [
    {
     "data": {
      "application/vnd.jupyter.widget-view+json": {
       "model_id": "690c116734cf489084925306584ee934",
       "version_major": 2,
       "version_minor": 0
      },
      "text/plain": [
       "VBox()"
      ]
     },
     "metadata": {},
     "output_type": "display_data"
    },
    {
     "data": {
      "application/vnd.jupyter.widget-view+json": {
       "model_id": "",
       "version_major": 2,
       "version_minor": 0
      },
      "text/plain": [
       "FloatProgress(value=0.0, bar_style='info', description='Progress:', layout=Layout(height='25px', width='50%'),…"
      ]
     },
     "metadata": {},
     "output_type": "display_data"
    },
    {
     "name": "stdout",
     "output_type": "stream",
     "text": [
      "DataFrame[]"
     ]
    }
   ],
   "source": [
    "run_sql('drop database if exists topic cascade')\n",
    "run_sql('create database topic')"
   ]
  },
  {
   "cell_type": "code",
   "execution_count": 11,
   "metadata": {},
   "outputs": [
    {
     "data": {
      "application/vnd.jupyter.widget-view+json": {
       "model_id": "87d51f1ffba449008de0c227eb052c45",
       "version_major": 2,
       "version_minor": 0
      },
      "text/plain": [
       "VBox()"
      ]
     },
     "metadata": {},
     "output_type": "display_data"
    },
    {
     "data": {
      "application/vnd.jupyter.widget-view+json": {
       "model_id": "",
       "version_major": 2,
       "version_minor": 0
      },
      "text/plain": [
       "FloatProgress(value=0.0, bar_style='info', description='Progress:', layout=Layout(height='25px', width='50%'),…"
      ]
     },
     "metadata": {},
     "output_type": "display_data"
    }
   ],
   "source": [
    "permanent_table_name = 'topic.articles'\n",
    "raw_df.write.format(\"parquet\").saveAsTable(permanent_table_name)"
   ]
  },
  {
   "cell_type": "code",
   "execution_count": 12,
   "metadata": {},
   "outputs": [
    {
     "data": {
      "application/vnd.jupyter.widget-view+json": {
       "model_id": "a5a75f74266d4fccb5428df74b15adae",
       "version_major": 2,
       "version_minor": 0
      },
      "text/plain": [
       "VBox()"
      ]
     },
     "metadata": {},
     "output_type": "display_data"
    },
    {
     "data": {
      "application/vnd.jupyter.widget-view+json": {
       "model_id": "",
       "version_major": 2,
       "version_minor": 0
      },
      "text/plain": [
       "FloatProgress(value=0.0, bar_style='info', description='Progress:', layout=Layout(height='25px', width='50%'),…"
      ]
     },
     "metadata": {},
     "output_type": "display_data"
    }
   ],
   "source": [
    "pd.set_option('display.max_colwidth', -1)\n",
    "pd.set_option('display.max_rows', None)"
   ]
  },
  {
   "cell_type": "code",
   "execution_count": 13,
   "metadata": {},
   "outputs": [
    {
     "data": {
      "application/vnd.jupyter.widget-view+json": {
       "model_id": "7e778b306df34be1a01a3641aadadb56",
       "version_major": 2,
       "version_minor": 0
      },
      "text/plain": [
       "VBox()"
      ]
     },
     "metadata": {},
     "output_type": "display_data"
    },
    {
     "data": {
      "application/vnd.jupyter.widget-view+json": {
       "model_id": "",
       "version_major": 2,
       "version_minor": 0
      },
      "text/plain": [
       "FloatProgress(value=0.0, bar_style='info', description='Progress:', layout=Layout(height='25px', width='50%'),…"
      ]
     },
     "metadata": {},
     "output_type": "display_data"
    },
    {
     "name": "stdout",
     "output_type": "stream",
     "text": [
      "                     source_file           source_domain  count(1)\n",
      "49  2019-11-26_googlebot_lt.json  apnews.com              73877   \n",
      "71  2019-12-03_default_lt.json    apnews.com              27032   \n",
      "77  2019-11-26_googlebot_lt.json  axios.com               46207   \n",
      "0   2019-12-03_default_lt.json    axios.com               32906   \n",
      "5   2019-11-26_googlebot_lt.json  bbc.com                 64754   \n",
      "26  2019-12-03_default_lt.json    bbc.com                 25254   \n",
      "33  2019-11-26_googlebot_lt.json  bloomberg.com           4       \n",
      "18  2019-11-26_googlebot_lt.json  boston.com              38238   \n",
      "19  2019-12-03_default_lt.json    boston.com              11539   \n",
      "34  2019-11-26_googlebot_lt.json  bostonglobe.com         91      \n",
      "1   2019-12-03_default_lt.json    bostonglobe.com         88      \n",
      "67  2019-11-26_googlebot_lt.json  breitbart.com           17988   \n",
      "25  2019-12-03_default_lt.json    breitbart.com           17986   \n",
      "57  2019-11-26_googlebot_lt.json  cbsnews.com             21258   \n",
      "9   2019-12-03_default_lt.json    cbsnews.com             8582    \n",
      "56  2019-11-26_googlebot_lt.json  chicago.suntimes.com    44      \n",
      "75  2019-12-03_default_lt.json    chicago.suntimes.com    16528   \n",
      "32  2019-11-26_googlebot_lt.json  chicagotribune.com      42206   \n",
      "41  2019-12-03_default_lt.json    chicagotribune.com      15850   \n",
      "39  2019-11-26_googlebot_lt.json  chron.com               33779   \n",
      "24  2019-12-03_default_lt.json    chron.com               12294   \n",
      "53  2019-11-26_googlebot_lt.json  cnbc.com                15038   \n",
      "78  2019-12-03_default_lt.json    cnbc.com                1873    \n",
      "23  2019-11-26_googlebot_lt.json  dailykos.com            21609   \n",
      "52  2019-11-26_googlebot_lt.json  denverpost.com          41371   \n",
      "43  2019-12-03_default_lt.json    denverpost.com          15217   \n",
      "10  2019-11-26_googlebot_lt.json  economist.com           23403   \n",
      "6   2019-12-03_default_lt.json    economist.com           82      \n",
      "69  2019-11-26_googlebot_lt.json  fivethirtyeight.com     13677   \n",
      "59  2019-12-03_default_lt.json    fivethirtyeight.com     13701   \n",
      "61  2019-11-26_googlebot_lt.json  forbes.com              917     \n",
      "50  2019-12-03_default_lt.json    forbes.com              968     \n",
      "63  2019-11-26_googlebot_lt.json  foxnews.com             47253   \n",
      "51  2019-12-03_default_lt.json    foxnews.com             23795   \n",
      "55  2019-11-26_googlebot_lt.json  ft.com                  19717   \n",
      "37  2019-12-03_default_lt.json    ft.com                  6539    \n",
      "3   2019-11-26_googlebot_lt.json  latimes.com             20431   \n",
      "66  2019-12-03_default_lt.json    latimes.com             17879   \n",
      "62  2019-11-26_googlebot_lt.json  mediate.com             35      \n",
      "48  2019-11-26_googlebot_lt.json  msnbc.com               887     \n",
      "38  2019-12-03_default_lt.json    msnbc.com               881     \n",
      "72  2019-11-26_googlebot_lt.json  nationalreview.com      83      \n",
      "2   2019-12-03_default_lt.json    nationalreview.com      66      \n",
      "44  2019-11-26_googlebot_lt.json  nbcnews.com             55438   \n",
      "20  2019-12-03_default_lt.json    nbcnews.com             21479   \n",
      "42  2019-11-26_googlebot_lt.json  npr.org                 19924   \n",
      "40  2019-12-03_default_lt.json    npr.org                 7930    \n",
      "73  2019-11-26_googlebot_lt.json  nypost.com              361     \n",
      "8   2019-12-03_default_lt.json    nypost.com              16748   \n",
      "11  2019-11-26_googlebot_lt.json  nytimes.com             3925    \n",
      "45  2019-12-03_default_lt.json    nytimes.com             3069    \n",
      "36  2019-11-26_googlebot_lt.json  reason.com              1942    \n",
      "13  2019-12-03_default_lt.json    reason.com              23031   \n",
      "17  2019-11-26_googlebot_lt.json  reuters.com             92      \n",
      "65  2019-12-03_default_lt.json    reuters.com             25668   \n",
      "4   2019-11-26_googlebot_lt.json  rt.com                  53967   \n",
      "58  2019-12-03_default_lt.json    rt.com                  20320   \n",
      "29  2019-11-26_googlebot_lt.json  slate.com               46806   \n",
      "30  2019-12-03_default_lt.json    slate.com               18186   \n",
      "70  2019-11-26_googlebot_lt.json  theatlantic.com         38181   \n",
      "7   2019-12-03_default_lt.json    theatlantic.com         15231   \n",
      "14  2019-11-26_googlebot_lt.json  theblaze.com            40937   \n",
      "28  2019-12-03_default_lt.json    theblaze.com            15819   \n",
      "46  2019-11-26_googlebot_lt.json  theguardian.com         463     \n",
      "27  2019-12-03_default_lt.json    theguardian.com         485     \n",
      "68  2019-11-26_googlebot_lt.json  thehill.com             34763   \n",
      "35  2019-12-03_default_lt.json    thehill.com             12405   \n",
      "74  2019-11-26_googlebot_lt.json  time.com                47323   \n",
      "16  2019-12-03_default_lt.json    time.com                18347   \n",
      "22  2019-11-26_googlebot_lt.json  usatoday.com            258     \n",
      "15  2019-12-03_default_lt.json    usatoday.com            296     \n",
      "76  2019-11-26_googlebot_lt.json  vox.com                 40      \n",
      "64  2019-12-03_default_lt.json    vox.com                 18877   \n",
      "12  2019-11-26_googlebot_lt.json  washingtonexaminer.com  50150   \n",
      "47  2019-12-03_default_lt.json    washingtonexaminer.com  18779   \n",
      "31  2019-11-26_googlebot_lt.json  washingtonpost.com      981     \n",
      "60  2019-12-03_default_lt.json    washingtonpost.com      1006    \n",
      "54  2019-11-26_googlebot_lt.json  wsj.com                 490     \n",
      "21  2019-12-03_default_lt.json    wsj.com                 3528"
     ]
    }
   ],
   "source": [
    "by_file = run_sql_pandas('''\n",
    "    SELECT source_file, source_domain, count(*) \n",
    "    FROM topic.articles\n",
    "    GROUP by source_domain, source_file\n",
    "''')\n",
    "by_file.sort_values(by=['source_domain', 'source_file']).head(300)"
   ]
  },
  {
   "cell_type": "code",
   "execution_count": 19,
   "metadata": {},
   "outputs": [
    {
     "data": {
      "application/vnd.jupyter.widget-view+json": {
       "model_id": "f126b66ab36c419cbd6fcc4e0a1b297f",
       "version_major": 2,
       "version_minor": 0
      },
      "text/plain": [
       "VBox()"
      ]
     },
     "metadata": {},
     "output_type": "display_data"
    },
    {
     "data": {
      "application/vnd.jupyter.widget-view+json": {
       "model_id": "",
       "version_major": 2,
       "version_minor": 0
      },
      "text/plain": [
       "FloatProgress(value=0.0, bar_style='info', description='Progress:', layout=Layout(height='25px', width='50%'),…"
      ]
     },
     "metadata": {},
     "output_type": "display_data"
    },
    {
     "name": "stdout",
     "output_type": "stream",
     "text": [
      "             source_domain  count(1)\n",
      "32  apnews.com              23646   \n",
      "24  axios.com               32489   \n",
      "16  bbc.com                 25219   \n",
      "13  boston.com              3686    \n",
      "29  breitbart.com           17475   \n",
      "19  cbsnews.com             7399    \n",
      "3   chicago.suntimes.com    43      \n",
      "23  chicagotribune.com      15506   \n",
      "30  chron.com               11056   \n",
      "33  cnbc.com                1778    \n",
      "21  denverpost.com          12266   \n",
      "15  economist.com           55      \n",
      "31  fivethirtyeight.com     13668   \n",
      "17  foxnews.com             23681   \n",
      "0   ft.com                  5760    \n",
      "14  latimes.com             2058    \n",
      "6   msnbc.com               869     \n",
      "2   nationalreview.com      61      \n",
      "9   nbcnews.com             9151    \n",
      "20  npr.org                 252     \n",
      "1   nytimes.com             4       \n",
      "22  reason.com              1388    \n",
      "5   reuters.com             1       \n",
      "25  rt.com                  20283   \n",
      "12  slate.com               8149    \n",
      "8   theatlantic.com         7780    \n",
      "4   theblaze.com            15147   \n",
      "26  theguardian.com         1       \n",
      "27  thehill.com             2783    \n",
      "18  time.com                16350   \n",
      "28  vox.com                 40      \n",
      "7   washingtonexaminer.com  16944   \n",
      "10  washingtonpost.com      162     \n",
      "11  wsj.com                 265"
     ]
    }
   ],
   "source": [
    "run_sql_pandas('''\n",
    "    SELECT source_domain, count(*) FROM (\n",
    "    SELECT url, source_domain, count(*) FROM topic.articles\n",
    "    GROUP BY url, source_domain\n",
    "    HAVING count(*) > 1) a GROUP BY source_domain\n",
    "''').sort_values(by='source_domain')"
   ]
  },
  {
   "cell_type": "code",
   "execution_count": null,
   "metadata": {},
   "outputs": [],
   "source": []
  }
 ],
 "metadata": {
  "kernelspec": {
   "display_name": "PySpark",
   "language": "",
   "name": "pysparkkernel"
  },
  "language_info": {
   "codemirror_mode": {
    "name": "python",
    "version": 2
   },
   "mimetype": "text/x-python",
   "name": "pyspark",
   "pygments_lexer": "python2"
  }
 },
 "nbformat": 4,
 "nbformat_minor": 4
}
