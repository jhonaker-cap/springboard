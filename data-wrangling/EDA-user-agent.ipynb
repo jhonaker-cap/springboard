{
 "cells": [
  {
   "cell_type": "code",
   "execution_count": 1,
   "metadata": {},
   "outputs": [
    {
     "data": {
      "application/vnd.jupyter.widget-view+json": {
       "model_id": "f5ec2b429a8847c89a8b09ab8be68c1e",
       "version_major": 2,
       "version_minor": 0
      },
      "text/plain": [
       "VBox()"
      ]
     },
     "metadata": {},
     "output_type": "display_data"
    },
    {
     "name": "stdout",
     "output_type": "stream",
     "text": [
      "Starting Spark application\n"
     ]
    },
    {
     "data": {
      "text/html": [
       "<table>\n",
       "<tr><th>ID</th><th>YARN Application ID</th><th>Kind</th><th>State</th><th>Spark UI</th><th>Driver log</th><th>Current session?</th></tr><tr><td>0</td><td>application_1577128373658_0001</td><td>pyspark</td><td>idle</td><td><a target=\"_blank\" href=\"http://ip-172-31-17-30.ec2.internal:20888/proxy/application_1577128373658_0001/\">Link</a></td><td><a target=\"_blank\" href=\"http://ip-172-31-21-159.ec2.internal:8042/node/containerlogs/container_1577128373658_0001_01_000001/livy\">Link</a></td><td>✔</td></tr></table>"
      ],
      "text/plain": [
       "<IPython.core.display.HTML object>"
      ]
     },
     "metadata": {},
     "output_type": "display_data"
    },
    {
     "data": {
      "application/vnd.jupyter.widget-view+json": {
       "model_id": "",
       "version_major": 2,
       "version_minor": 0
      },
      "text/plain": [
       "FloatProgress(value=0.0, bar_style='info', description='Progress:', layout=Layout(height='25px', width='50%'),…"
      ]
     },
     "metadata": {},
     "output_type": "display_data"
    },
    {
     "name": "stdout",
     "output_type": "stream",
     "text": [
      "SparkSession available as 'spark'.\n"
     ]
    },
    {
     "data": {
      "application/vnd.jupyter.widget-view+json": {
       "model_id": "",
       "version_major": 2,
       "version_minor": 0
      },
      "text/plain": [
       "FloatProgress(value=0.0, bar_style='info', description='Progress:', layout=Layout(height='25px', width='50%'),…"
      ]
     },
     "metadata": {},
     "output_type": "display_data"
    },
    {
     "name": "stdout",
     "output_type": "stream",
     "text": [
      "<pyspark.sql.session.SparkSession object at 0x7fa540253b38>"
     ]
    }
   ],
   "source": [
    "spark"
   ]
  },
  {
   "cell_type": "code",
   "execution_count": 2,
   "metadata": {},
   "outputs": [
    {
     "data": {
      "application/vnd.jupyter.widget-view+json": {
       "model_id": "71d89fdf95734c33a3bee282a8747fed",
       "version_major": 2,
       "version_minor": 0
      },
      "text/plain": [
       "VBox()"
      ]
     },
     "metadata": {},
     "output_type": "display_data"
    },
    {
     "data": {
      "application/vnd.jupyter.widget-view+json": {
       "model_id": "",
       "version_major": 2,
       "version_minor": 0
      },
      "text/plain": [
       "FloatProgress(value=0.0, bar_style='info', description='Progress:', layout=Layout(height='25px', width='50%'),…"
      ]
     },
     "metadata": {},
     "output_type": "display_data"
    },
    {
     "name": "stdout",
     "output_type": "stream",
     "text": [
      "'2.4.4'"
     ]
    }
   ],
   "source": [
    "sc.version"
   ]
  },
  {
   "cell_type": "code",
   "execution_count": 3,
   "metadata": {},
   "outputs": [
    {
     "data": {
      "text/html": [
       "Current session configs: <tt>{'conf': {'spark.pyspark.python': 'python3', 'spark.pyspark.virtualenv.enabled': 'true', 'spark.pyspark.virtualenv.type': 'native', 'spark.pyspark.virtualenv.bin.path': '/usr/bin/virtualenv'}, 'kind': 'pyspark'}</tt><br>"
      ],
      "text/plain": [
       "<IPython.core.display.HTML object>"
      ]
     },
     "metadata": {},
     "output_type": "display_data"
    },
    {
     "data": {
      "text/html": [
       "<table>\n",
       "<tr><th>ID</th><th>YARN Application ID</th><th>Kind</th><th>State</th><th>Spark UI</th><th>Driver log</th><th>Current session?</th></tr><tr><td>0</td><td>application_1577128373658_0001</td><td>pyspark</td><td>idle</td><td><a target=\"_blank\" href=\"http://ip-172-31-17-30.ec2.internal:20888/proxy/application_1577128373658_0001/\">Link</a></td><td><a target=\"_blank\" href=\"http://ip-172-31-21-159.ec2.internal:8042/node/containerlogs/container_1577128373658_0001_01_000001/livy\">Link</a></td><td>✔</td></tr></table>"
      ],
      "text/plain": [
       "<IPython.core.display.HTML object>"
      ]
     },
     "metadata": {},
     "output_type": "display_data"
    }
   ],
   "source": [
    "%%info"
   ]
  },
  {
   "cell_type": "code",
   "execution_count": 4,
   "metadata": {},
   "outputs": [
    {
     "data": {
      "application/vnd.jupyter.widget-view+json": {
       "model_id": "0ce986216880413c9b511b42a86a5b48",
       "version_major": 2,
       "version_minor": 0
      },
      "text/plain": [
       "VBox()"
      ]
     },
     "metadata": {},
     "output_type": "display_data"
    },
    {
     "data": {
      "application/vnd.jupyter.widget-view+json": {
       "model_id": "",
       "version_major": 2,
       "version_minor": 0
      },
      "text/plain": [
       "FloatProgress(value=0.0, bar_style='info', description='Progress:', layout=Layout(height='25px', width='50%'),…"
      ]
     },
     "metadata": {},
     "output_type": "display_data"
    },
    {
     "name": "stdout",
     "output_type": "stream",
     "text": [
      "Collecting pandas\n",
      "  Downloading https://files.pythonhosted.org/packages/52/3f/f6a428599e0d4497e1595030965b5ba455fd8ade6e977e3c819973c4b41d/pandas-0.25.3-cp36-cp36m-manylinux1_x86_64.whl (10.4MB)\n",
      "Requirement already satisfied: numpy>=1.13.3 in /usr/local/lib64/python3.6/site-packages (from pandas) (1.14.5)\n",
      "Collecting python-dateutil>=2.6.1\n",
      "  Downloading https://files.pythonhosted.org/packages/d4/70/d60450c3dd48ef87586924207ae8907090de0b306af2bce5d134d78615cb/python_dateutil-2.8.1-py2.py3-none-any.whl (227kB)\n",
      "Requirement already satisfied: pytz>=2017.2 in /usr/local/lib/python3.6/site-packages (from pandas) (2019.3)\n",
      "Requirement already satisfied: six>=1.5 in /usr/local/lib/python3.6/site-packages (from python-dateutil>=2.6.1->pandas) (1.12.0)\n",
      "Installing collected packages: python-dateutil, pandas\n",
      "Successfully installed pandas-0.25.3 python-dateutil-2.8.1"
     ]
    }
   ],
   "source": [
    "sc.install_pypi_package(\"pandas\")"
   ]
  },
  {
   "cell_type": "code",
   "execution_count": 5,
   "metadata": {},
   "outputs": [
    {
     "data": {
      "application/vnd.jupyter.widget-view+json": {
       "model_id": "001a84960fe74b71a56e68e945a53045",
       "version_major": 2,
       "version_minor": 0
      },
      "text/plain": [
       "VBox()"
      ]
     },
     "metadata": {},
     "output_type": "display_data"
    },
    {
     "data": {
      "application/vnd.jupyter.widget-view+json": {
       "model_id": "",
       "version_major": 2,
       "version_minor": 0
      },
      "text/plain": [
       "FloatProgress(value=0.0, bar_style='info', description='Progress:', layout=Layout(height='25px', width='50%'),…"
      ]
     },
     "metadata": {},
     "output_type": "display_data"
    },
    {
     "name": "stdout",
     "output_type": "stream",
     "text": [
      "Collecting matplotlib\n",
      "  Downloading https://files.pythonhosted.org/packages/4e/11/06958a2b895a3853206dea1fb2a5b11bf044f626f90745987612af9c8f2c/matplotlib-3.1.2-cp36-cp36m-manylinux1_x86_64.whl (13.1MB)\n",
      "Requirement already satisfied: numpy>=1.11 in /usr/local/lib64/python3.6/site-packages (from matplotlib) (1.14.5)\n",
      "Collecting kiwisolver>=1.0.1\n",
      "  Downloading https://files.pythonhosted.org/packages/f8/a1/5742b56282449b1c0968197f63eae486eca2c35dcd334bab75ad524e0de1/kiwisolver-1.1.0-cp36-cp36m-manylinux1_x86_64.whl (90kB)\n",
      "Requirement already satisfied: python-dateutil>=2.1 in /mnt/tmp/1577128580859-0/lib/python3.6/site-packages (from matplotlib) (2.8.1)\n",
      "Collecting pyparsing!=2.0.4,!=2.1.2,!=2.1.6,>=2.0.1\n",
      "  Downloading https://files.pythonhosted.org/packages/c0/0c/fc2e007d9a992d997f04a80125b0f183da7fb554f1de701bbb70a8e7d479/pyparsing-2.4.5-py2.py3-none-any.whl (67kB)\n",
      "Collecting cycler>=0.10\n",
      "  Downloading https://files.pythonhosted.org/packages/f7/d2/e07d3ebb2bd7af696440ce7e754c59dd546ffe1bbe732c8ab68b9c834e61/cycler-0.10.0-py2.py3-none-any.whl\n",
      "Requirement already satisfied: setuptools in /mnt/tmp/1577128580859-0/lib/python3.6/site-packages (from kiwisolver>=1.0.1->matplotlib) (42.0.2)\n",
      "Requirement already satisfied: six>=1.5 in /usr/local/lib/python3.6/site-packages (from python-dateutil>=2.1->matplotlib) (1.12.0)\n",
      "Installing collected packages: kiwisolver, pyparsing, cycler, matplotlib\n",
      "Successfully installed cycler-0.10.0 kiwisolver-1.1.0 matplotlib-3.1.2 pyparsing-2.4.5"
     ]
    }
   ],
   "source": [
    "sc.install_pypi_package(\"matplotlib\")"
   ]
  },
  {
   "cell_type": "code",
   "execution_count": 6,
   "metadata": {},
   "outputs": [
    {
     "data": {
      "application/vnd.jupyter.widget-view+json": {
       "model_id": "932c145007984dc4a24b936361a883d4",
       "version_major": 2,
       "version_minor": 0
      },
      "text/plain": [
       "VBox()"
      ]
     },
     "metadata": {},
     "output_type": "display_data"
    },
    {
     "data": {
      "application/vnd.jupyter.widget-view+json": {
       "model_id": "",
       "version_major": 2,
       "version_minor": 0
      },
      "text/plain": [
       "FloatProgress(value=0.0, bar_style='info', description='Progress:', layout=Layout(height='25px', width='50%'),…"
      ]
     },
     "metadata": {},
     "output_type": "display_data"
    }
   ],
   "source": [
    "import pandas as pd\n",
    "import matplotlib.pyplot as plt\n",
    "import re\n",
    "from pyspark.sql.functions import col, input_file_name, udf\n",
    "from pyspark.sql.functions import sum as spark_sum"
   ]
  },
  {
   "cell_type": "code",
   "execution_count": 7,
   "metadata": {},
   "outputs": [
    {
     "data": {
      "application/vnd.jupyter.widget-view+json": {
       "model_id": "a1eee0e629d04eca8999a72ebde2460b",
       "version_major": 2,
       "version_minor": 0
      },
      "text/plain": [
       "VBox()"
      ]
     },
     "metadata": {},
     "output_type": "display_data"
    },
    {
     "data": {
      "application/vnd.jupyter.widget-view+json": {
       "model_id": "",
       "version_major": 2,
       "version_minor": 0
      },
      "text/plain": [
       "FloatProgress(value=0.0, bar_style='info', description='Progress:', layout=Layout(height='25px', width='50%'),…"
      ]
     },
     "metadata": {},
     "output_type": "display_data"
    }
   ],
   "source": [
    "pd.set_option('display.max_colwidth', -1)\n",
    "pd.set_option('display.max_rows', None)"
   ]
  },
  {
   "cell_type": "code",
   "execution_count": 8,
   "metadata": {},
   "outputs": [
    {
     "data": {
      "application/vnd.jupyter.widget-view+json": {
       "model_id": "7f8b6b9139b740878295a3e12270ef38",
       "version_major": 2,
       "version_minor": 0
      },
      "text/plain": [
       "VBox()"
      ]
     },
     "metadata": {},
     "output_type": "display_data"
    },
    {
     "data": {
      "application/vnd.jupyter.widget-view+json": {
       "model_id": "",
       "version_major": 2,
       "version_minor": 0
      },
      "text/plain": [
       "FloatProgress(value=0.0, bar_style='info', description='Progress:', layout=Layout(height='25px', width='50%'),…"
      ]
     },
     "metadata": {},
     "output_type": "display_data"
    }
   ],
   "source": [
    "def run_sql(statement):\n",
    "    try:\n",
    "        result = sqlContext.sql(statement)\n",
    "    except Exception as e:\n",
    "        print(e.desc, '\\n', e.stackTrace)\n",
    "        return\n",
    "    return result\n",
    "\n",
    "def run_sql_pandas(statement):\n",
    "    return run_sql(statement).toPandas()\n"
   ]
  },
  {
   "cell_type": "markdown",
   "metadata": {},
   "source": [
    "Sometimes using a wildcard for the files does not work.  In such cases, you can either manually list all the files as an array, or you can use\n",
    "   \n",
    "   files = \"s3://topic-sentiment-1/combined/\"\n",
    "   \n",
    "However, the latter method renders the source_file column useless, and so most of the analysis won't work."
   ]
  },
  {
   "cell_type": "code",
   "execution_count": 9,
   "metadata": {},
   "outputs": [
    {
     "data": {
      "application/vnd.jupyter.widget-view+json": {
       "model_id": "1e8f0e163c7c4036befd897b29505ef7",
       "version_major": 2,
       "version_minor": 0
      },
      "text/plain": [
       "VBox()"
      ]
     },
     "metadata": {},
     "output_type": "display_data"
    },
    {
     "data": {
      "application/vnd.jupyter.widget-view+json": {
       "model_id": "",
       "version_major": 2,
       "version_minor": 0
      },
      "text/plain": [
       "FloatProgress(value=0.0, bar_style='info', description='Progress:', layout=Layout(height='25px', width='50%'),…"
      ]
     },
     "metadata": {},
     "output_type": "display_data"
    }
   ],
   "source": [
    "files = \"s3://topic-sentiment-1/combined/*.json\""
   ]
  },
  {
   "cell_type": "code",
   "execution_count": 10,
   "metadata": {},
   "outputs": [
    {
     "data": {
      "application/vnd.jupyter.widget-view+json": {
       "model_id": "935fcee3cec14afcb553c1a7fea5ea39",
       "version_major": 2,
       "version_minor": 0
      },
      "text/plain": [
       "VBox()"
      ]
     },
     "metadata": {},
     "output_type": "display_data"
    },
    {
     "data": {
      "application/vnd.jupyter.widget-view+json": {
       "model_id": "",
       "version_major": 2,
       "version_minor": 0
      },
      "text/plain": [
       "FloatProgress(value=0.0, bar_style='info', description='Progress:', layout=Layout(height='25px', width='50%'),…"
      ]
     },
     "metadata": {},
     "output_type": "display_data"
    }
   ],
   "source": [
    "raw_df = spark.read.json(files)"
   ]
  },
  {
   "cell_type": "code",
   "execution_count": 11,
   "metadata": {},
   "outputs": [
    {
     "data": {
      "application/vnd.jupyter.widget-view+json": {
       "model_id": "1e8566f8e1dd4592acc0bae25900259b",
       "version_major": 2,
       "version_minor": 0
      },
      "text/plain": [
       "VBox()"
      ]
     },
     "metadata": {},
     "output_type": "display_data"
    },
    {
     "data": {
      "application/vnd.jupyter.widget-view+json": {
       "model_id": "",
       "version_major": 2,
       "version_minor": 0
      },
      "text/plain": [
       "FloatProgress(value=0.0, bar_style='info', description='Progress:', layout=Layout(height='25px', width='50%'),…"
      ]
     },
     "metadata": {},
     "output_type": "display_data"
    },
    {
     "name": "stdout",
     "output_type": "stream",
     "text": [
      "root\n",
      " |-- authors: array (nullable = true)\n",
      " |    |-- element: string (containsNull = true)\n",
      " |-- date_download: string (nullable = true)\n",
      " |-- date_modify: string (nullable = true)\n",
      " |-- date_publish: string (nullable = true)\n",
      " |-- description: string (nullable = true)\n",
      " |-- filename: string (nullable = true)\n",
      " |-- image_url: string (nullable = true)\n",
      " |-- language: string (nullable = true)\n",
      " |-- localpath: string (nullable = true)\n",
      " |-- source_domain: string (nullable = true)\n",
      " |-- text: string (nullable = true)\n",
      " |-- title: string (nullable = true)\n",
      " |-- title_page: string (nullable = true)\n",
      " |-- title_rss: string (nullable = true)\n",
      " |-- url: string (nullable = true)"
     ]
    }
   ],
   "source": [
    "raw_df.printSchema()"
   ]
  },
  {
   "cell_type": "code",
   "execution_count": 12,
   "metadata": {},
   "outputs": [
    {
     "data": {
      "application/vnd.jupyter.widget-view+json": {
       "model_id": "9f14f81b068b4370ad0e13c9f52a7b92",
       "version_major": 2,
       "version_minor": 0
      },
      "text/plain": [
       "VBox()"
      ]
     },
     "metadata": {},
     "output_type": "display_data"
    },
    {
     "data": {
      "application/vnd.jupyter.widget-view+json": {
       "model_id": "",
       "version_major": 2,
       "version_minor": 0
      },
      "text/plain": [
       "FloatProgress(value=0.0, bar_style='info', description='Progress:', layout=Layout(height='25px', width='50%'),…"
      ]
     },
     "metadata": {},
     "output_type": "display_data"
    }
   ],
   "source": [
    "raw_df = raw_df.withColumn(\"source_file\", input_file_name())\n",
    "\n",
    "def file_only(path):\n",
    "    return path.split('/')[-1]\n",
    "\n",
    "file_only_udf = udf(file_only)\n",
    "raw_df = raw_df.withColumn(\"source_file\", file_only_udf(col(\"source_file\")))\n",
    "\n",
    "def user_agent(path):\n",
    "    return \"googlebot\" if \"googlebot\" in path else \"default\"\n",
    "\n",
    "user_agent_udf = udf(user_agent)\n",
    "raw_df = raw_df.withColumn(\"user_agent\", user_agent_udf(col(\"source_file\")))"
   ]
  },
  {
   "cell_type": "code",
   "execution_count": 13,
   "metadata": {},
   "outputs": [
    {
     "data": {
      "application/vnd.jupyter.widget-view+json": {
       "model_id": "afa20cd0f6b6476fa4b574436c021556",
       "version_major": 2,
       "version_minor": 0
      },
      "text/plain": [
       "VBox()"
      ]
     },
     "metadata": {},
     "output_type": "display_data"
    },
    {
     "data": {
      "application/vnd.jupyter.widget-view+json": {
       "model_id": "",
       "version_major": 2,
       "version_minor": 0
      },
      "text/plain": [
       "FloatProgress(value=0.0, bar_style='info', description='Progress:', layout=Layout(height='25px', width='50%'),…"
      ]
     },
     "metadata": {},
     "output_type": "display_data"
    },
    {
     "name": "stdout",
     "output_type": "stream",
     "text": [
      "DataFrame[]"
     ]
    }
   ],
   "source": [
    "run_sql('drop database if exists topic cascade')\n",
    "run_sql('create database topic')"
   ]
  },
  {
   "cell_type": "code",
   "execution_count": 14,
   "metadata": {},
   "outputs": [
    {
     "data": {
      "application/vnd.jupyter.widget-view+json": {
       "model_id": "312ae942a8f04197b0dd8cc15c43b81e",
       "version_major": 2,
       "version_minor": 0
      },
      "text/plain": [
       "VBox()"
      ]
     },
     "metadata": {},
     "output_type": "display_data"
    },
    {
     "data": {
      "application/vnd.jupyter.widget-view+json": {
       "model_id": "",
       "version_major": 2,
       "version_minor": 0
      },
      "text/plain": [
       "FloatProgress(value=0.0, bar_style='info', description='Progress:', layout=Layout(height='25px', width='50%'),…"
      ]
     },
     "metadata": {},
     "output_type": "display_data"
    }
   ],
   "source": [
    "permanent_table_name = 'topic.articles'\n",
    "raw_df.write.format(\"parquet\").saveAsTable(permanent_table_name)"
   ]
  },
  {
   "cell_type": "code",
   "execution_count": 15,
   "metadata": {},
   "outputs": [
    {
     "data": {
      "application/vnd.jupyter.widget-view+json": {
       "model_id": "e755ecbcad3945169a158217f1458c45",
       "version_major": 2,
       "version_minor": 0
      },
      "text/plain": [
       "VBox()"
      ]
     },
     "metadata": {},
     "output_type": "display_data"
    },
    {
     "data": {
      "application/vnd.jupyter.widget-view+json": {
       "model_id": "",
       "version_major": 2,
       "version_minor": 0
      },
      "text/plain": [
       "FloatProgress(value=0.0, bar_style='info', description='Progress:', layout=Layout(height='25px', width='50%'),…"
      ]
     },
     "metadata": {},
     "output_type": "display_data"
    },
    {
     "name": "stdout",
     "output_type": "stream",
     "text": [
      "    user_agent           source_domain  total_count\n",
      "12   default    ajc.com                 2769       \n",
      "66   googlebot  ajc.com                 911        \n",
      "6    default    americanthinker.com     43382      \n",
      "17   googlebot  americanthinker.com     35326      \n",
      "97   default    apnews.com              27032      \n",
      "5    googlebot  apnews.com              84715      \n",
      "2    default    axios.com               32906      \n",
      "71   googlebot  axios.com               57993      \n",
      "99   default    bbc.com                 25254      \n",
      "87   googlebot  bbc.com                 73419      \n",
      "93   googlebot  bloomberg.com           4          \n",
      "78   default    boston.com              22903      \n",
      "0    googlebot  boston.com              41866      \n",
      "8    default    bostonglobe.com         88         \n",
      "31   googlebot  bostonglobe.com         91         \n",
      "68   default    breitbart.com           17986      \n",
      "59   googlebot  breitbart.com           29733      \n",
      "52   default    cbsnews.com             8582       \n",
      "33   googlebot  cbsnews.com             24555      \n",
      "22   default    chicago.suntimes.com    33446      \n",
      "81   googlebot  chicago.suntimes.com    44         \n",
      "4    default    chicagotribune.com      15850      \n",
      "80   googlebot  chicagotribune.com      47503      \n",
      "49   default    chron.com               12294      \n",
      "39   googlebot  chron.com               37487      \n",
      "62   default    cnbc.com                1873       \n",
      "88   googlebot  cnbc.com                15291      \n",
      "67   googlebot  dailykos.com            21609      \n",
      "9    default    dallasnews.com          30787      \n",
      "15   googlebot  dallasnews.com          42600      \n",
      "19   default    denverpost.com          15217      \n",
      "13   googlebot  denverpost.com          46773      \n",
      "26   default    economist.com           82         \n",
      "46   googlebot  economist.com           23494      \n",
      "92   default    fivethirtyeight.com     27485      \n",
      "84   googlebot  fivethirtyeight.com     13677      \n",
      "60   default    forbes.com              1968       \n",
      "83   googlebot  forbes.com              1911       \n",
      "7    default    foreignpolicy.com       29529      \n",
      "54   googlebot  foreignpolicy.com       30303      \n",
      "18   default    foxnews.com             23795      \n",
      "10   googlebot  foxnews.com             78359      \n",
      "38   default    ft.com                  6539       \n",
      "44   googlebot  ft.com                  29388      \n",
      "70   default    latimes.com             35614      \n",
      "41   googlebot  latimes.com             26907      \n",
      "14   googlebot  mediate.com             35         \n",
      "56   default    msnbc.com               881        \n",
      "23   googlebot  msnbc.com               1772       \n",
      "34   default    nationalreview.com      102        \n",
      "57   googlebot  nationalreview.com      117        \n",
      "25   default    nbcnews.com             21479      \n",
      "95   googlebot  nbcnews.com             83270      \n",
      "51   default    newsday.com             41021      \n",
      "29   googlebot  newsday.com             83455      \n",
      "40   default    newsmax.com             27592      \n",
      "86   googlebot  newsmax.com             121        \n",
      "100  default    npr.org                 17183      \n",
      "30   googlebot  npr.org                 22560      \n",
      "32   default    nydailynews.com         32838      \n",
      "47   googlebot  nydailynews.com         66519      \n",
      "21   default    nypost.com              32717      \n",
      "82   googlebot  nypost.com              361        \n",
      "20   default    nytimes.com             6627       \n",
      "64   googlebot  nytimes.com             4498       \n",
      "63   default    prospect.org            16719      \n",
      "11   googlebot  prospect.org            31903      \n",
      "76   default    reason.com              26614      \n",
      "79   googlebot  reason.com              3454       \n",
      "90   default    reuters.com             44686      \n",
      "85   googlebot  reuters.com             92         \n",
      "36   default    rt.com                  20320      \n",
      "42   googlebot  rt.com                  80096      \n",
      "94   default    seattletimes.com        24070      \n",
      "28   googlebot  seattletimes.com        47655      \n",
      "55   default    slate.com               18186      \n",
      "58   googlebot  slate.com               67465      \n",
      "89   default    theatlantic.com         15231      \n",
      "37   googlebot  theatlantic.com         59139      \n",
      "69   default    theblaze.com            15819      \n",
      "98   googlebot  theblaze.com            60879      \n",
      "45   default    theguardian.com         485        \n",
      "53   googlebot  theguardian.com         463        \n",
      "72   default    thehill.com             25230      \n",
      "1    googlebot  thehill.com             39072      \n",
      "50   default    thenation.com           58588      \n",
      "61   googlebot  thenation.com           37231      \n",
      "96   default    time.com                18347      \n",
      "74   googlebot  time.com                69709      \n",
      "24   default    usatoday.com            296        \n",
      "77   googlebot  usatoday.com            258        \n",
      "16   default    utne.com                2532       \n",
      "27   googlebot  utne.com                1097       \n",
      "91   default    vox.com                 37500      \n",
      "73   googlebot  vox.com                 40         \n",
      "48   default    washingtonexaminer.com  18779      \n",
      "3    googlebot  washingtonexaminer.com  71572      \n",
      "35   default    washingtonpost.com      2077       \n",
      "65   googlebot  washingtonpost.com      981        \n",
      "75   default    wsj.com                 9099       \n",
      "43   googlebot  wsj.com                 4064"
     ]
    }
   ],
   "source": [
    "by_file = run_sql_pandas('''\n",
    "    SELECT user_agent, source_domain, count(*) as total_count\n",
    "    FROM topic.articles\n",
    "    GROUP by source_domain, user_agent\n",
    "''')\n",
    "by_file.sort_values(by=['source_domain', 'user_agent']).head(300)"
   ]
  },
  {
   "cell_type": "code",
   "execution_count": 16,
   "metadata": {},
   "outputs": [
    {
     "data": {
      "application/vnd.jupyter.widget-view+json": {
       "model_id": "6886117d06034983af30ddff76e725c5",
       "version_major": 2,
       "version_minor": 0
      },
      "text/plain": [
       "VBox()"
      ]
     },
     "metadata": {},
     "output_type": "display_data"
    },
    {
     "data": {
      "application/vnd.jupyter.widget-view+json": {
       "model_id": "",
       "version_major": 2,
       "version_minor": 0
      },
      "text/plain": [
       "FloatProgress(value=0.0, bar_style='info', description='Progress:', layout=Layout(height='25px', width='50%'),…"
      ]
     },
     "metadata": {},
     "output_type": "display_data"
    },
    {
     "name": "stdout",
     "output_type": "stream",
     "text": [
      "             source_domain  total_count\n",
      "20  ajc.com                 104        \n",
      "9   americanthinker.com     9239       \n",
      "45  apnews.com              23756      \n",
      "35  axios.com               33675      \n",
      "22  bbc.com                 25240      \n",
      "17  boston.com              7769       \n",
      "42  breitbart.com           17689      \n",
      "29  cbsnews.com             7858       \n",
      "3   chicago.suntimes.com    14387      \n",
      "34  chicagotribune.com      15521      \n",
      "43  chron.com               11472      \n",
      "46  cnbc.com                1778       \n",
      "23  dallasnews.com          29761      \n",
      "32  denverpost.com          12622      \n",
      "19  economist.com           66         \n",
      "44  fivethirtyeight.com     13709      \n",
      "27  forbes.com              580        \n",
      "15  foreignpolicy.com       29494      \n",
      "25  foxnews.com             31098      \n",
      "0   ft.com                  9020       \n",
      "18  latimes.com             4311       \n",
      "6   msnbc.com               875        \n",
      "2   nationalreview.com      62         \n",
      "12  nbcnews.com             26284      \n",
      "30  newsday.com             39995      \n",
      "11  newsmax.com             3861       \n",
      "28  npr.org                 998        \n",
      "8   nydailynews.com         26684      \n",
      "38  nypost.com              234        \n",
      "1   nytimes.com             3491       \n",
      "36  prospect.org            13964      \n",
      "33  reason.com              1925       \n",
      "5   reuters.com             1288       \n",
      "37  rt.com                  35428      \n",
      "31  seattletimes.com        23529      \n",
      "16  slate.com               16782      \n",
      "10  theatlantic.com         7831       \n",
      "4   theblaze.com            18790      \n",
      "39  theguardian.com         1          \n",
      "40  thehill.com             7670       \n",
      "21  thenation.com           31396      \n",
      "26  time.com                22056      \n",
      "24  utne.com                1102       \n",
      "41  vox.com                 16467      \n",
      "7   washingtonexaminer.com  21329      \n",
      "13  washingtonpost.com      194        \n",
      "14  wsj.com                 3721"
     ]
    }
   ],
   "source": [
    "duplicates = run_sql_pandas('''\n",
    "    SELECT source_domain, count(*) as total_count FROM (\n",
    "    SELECT url, source_domain, count(*) FROM topic.articles\n",
    "    GROUP BY url, source_domain\n",
    "    HAVING count(*) > 1) a GROUP BY source_domain\n",
    "''').sort_values(by='source_domain')\n",
    "duplicates.head(100)"
   ]
  },
  {
   "cell_type": "code",
   "execution_count": 18,
   "metadata": {},
   "outputs": [
    {
     "data": {
      "application/vnd.jupyter.widget-view+json": {
       "model_id": "0b60fe93fd33495bb285baf07ad47cc9",
       "version_major": 2,
       "version_minor": 0
      },
      "text/plain": [
       "VBox()"
      ]
     },
     "metadata": {},
     "output_type": "display_data"
    },
    {
     "data": {
      "application/vnd.jupyter.widget-view+json": {
       "model_id": "",
       "version_major": 2,
       "version_minor": 0
      },
      "text/plain": [
       "FloatProgress(value=0.0, bar_style='info', description='Progress:', layout=Layout(height='25px', width='50%'),…"
      ]
     },
     "metadata": {},
     "output_type": "display_data"
    }
   ],
   "source": [
    "# this is a trick: I want to display the count of duplicates along side the counts for each user agent, so I fake these\n",
    "duplicates['user_agent'] = 'duplicates'"
   ]
  },
  {
   "cell_type": "code",
   "execution_count": 19,
   "metadata": {},
   "outputs": [
    {
     "data": {
      "application/vnd.jupyter.widget-view+json": {
       "model_id": "98cd045a5e0d47d4824a289bd08f1f5c",
       "version_major": 2,
       "version_minor": 0
      },
      "text/plain": [
       "VBox()"
      ]
     },
     "metadata": {},
     "output_type": "display_data"
    },
    {
     "data": {
      "application/vnd.jupyter.widget-view+json": {
       "model_id": "",
       "version_major": 2,
       "version_minor": 0
      },
      "text/plain": [
       "FloatProgress(value=0.0, bar_style='info', description='Progress:', layout=Layout(height='25px', width='50%'),…"
      ]
     },
     "metadata": {},
     "output_type": "display_data"
    },
    {
     "name": "stdout",
     "output_type": "stream",
     "text": [
      "/tmp/1577128580859-0/local/lib64/python3.6/site-packages/pandas/core/frame.py:7138: FutureWarning: Sorting because non-concatenation axis is not aligned. A future version\n",
      "of pandas will change to not sort by default.\n",
      "\n",
      "To accept the future behavior, pass 'sort=False'.\n",
      "\n",
      "To retain the current behavior and silence the warning, pass 'sort=True'.\n",
      "\n",
      "  sort=sort,"
     ]
    }
   ],
   "source": [
    "all_files = by_file.append(duplicates)"
   ]
  },
  {
   "cell_type": "code",
   "execution_count": 20,
   "metadata": {},
   "outputs": [
    {
     "data": {
      "application/vnd.jupyter.widget-view+json": {
       "model_id": "4b1f30c0d075443d8244d438cf7f51b4",
       "version_major": 2,
       "version_minor": 0
      },
      "text/plain": [
       "VBox()"
      ]
     },
     "metadata": {},
     "output_type": "display_data"
    },
    {
     "data": {
      "application/vnd.jupyter.widget-view+json": {
       "model_id": "",
       "version_major": 2,
       "version_minor": 0
      },
      "text/plain": [
       "FloatProgress(value=0.0, bar_style='info', description='Progress:', layout=Layout(height='25px', width='50%'),…"
      ]
     },
     "metadata": {},
     "output_type": "display_data"
    },
    {
     "name": "stdout",
     "output_type": "stream",
     "text": [
      "                       total_count                     \n",
      "user_agent                 default duplicates googlebot\n",
      "source_domain                                          \n",
      "ajc.com                 2769.0      104.0      911.0   \n",
      "americanthinker.com     43382.0     9239.0     35326.0 \n",
      "apnews.com              27032.0     23756.0    84715.0 \n",
      "axios.com               32906.0     33675.0    57993.0 \n",
      "bbc.com                 25254.0     25240.0    73419.0 \n",
      "bloomberg.com           0.0         0.0        4.0     \n",
      "boston.com              22903.0     7769.0     41866.0 \n",
      "bostonglobe.com         88.0        0.0        91.0    \n",
      "breitbart.com           17986.0     17689.0    29733.0 \n",
      "cbsnews.com             8582.0      7858.0     24555.0 \n",
      "chicago.suntimes.com    33446.0     14387.0    44.0    \n",
      "chicagotribune.com      15850.0     15521.0    47503.0 \n",
      "chron.com               12294.0     11472.0    37487.0 \n",
      "cnbc.com                1873.0      1778.0     15291.0 \n",
      "dailykos.com            0.0         0.0        21609.0 \n",
      "dallasnews.com          30787.0     29761.0    42600.0 \n",
      "denverpost.com          15217.0     12622.0    46773.0 \n",
      "economist.com           82.0        66.0       23494.0 \n",
      "fivethirtyeight.com     27485.0     13709.0    13677.0 \n",
      "forbes.com              1968.0      580.0      1911.0  \n",
      "foreignpolicy.com       29529.0     29494.0    30303.0 \n",
      "foxnews.com             23795.0     31098.0    78359.0 \n",
      "ft.com                  6539.0      9020.0     29388.0 \n",
      "latimes.com             35614.0     4311.0     26907.0 \n",
      "mediate.com             0.0         0.0        35.0    \n",
      "msnbc.com               881.0       875.0      1772.0  \n",
      "nationalreview.com      102.0       62.0       117.0   \n",
      "nbcnews.com             21479.0     26284.0    83270.0 \n",
      "newsday.com             41021.0     39995.0    83455.0 \n",
      "newsmax.com             27592.0     3861.0     121.0   \n",
      "npr.org                 17183.0     998.0      22560.0 \n",
      "nydailynews.com         32838.0     26684.0    66519.0 \n",
      "nypost.com              32717.0     234.0      361.0   \n",
      "nytimes.com             6627.0      3491.0     4498.0  \n",
      "prospect.org            16719.0     13964.0    31903.0 \n",
      "reason.com              26614.0     1925.0     3454.0  \n",
      "reuters.com             44686.0     1288.0     92.0    \n",
      "rt.com                  20320.0     35428.0    80096.0 \n",
      "seattletimes.com        24070.0     23529.0    47655.0 \n",
      "slate.com               18186.0     16782.0    67465.0 \n",
      "theatlantic.com         15231.0     7831.0     59139.0 \n",
      "theblaze.com            15819.0     18790.0    60879.0 \n",
      "theguardian.com         485.0       1.0        463.0   \n",
      "thehill.com             25230.0     7670.0     39072.0 \n",
      "thenation.com           58588.0     31396.0    37231.0 \n",
      "time.com                18347.0     22056.0    69709.0 \n",
      "usatoday.com            296.0       0.0        258.0   \n",
      "utne.com                2532.0      1102.0     1097.0  \n",
      "vox.com                 37500.0     16467.0    40.0    \n",
      "washingtonexaminer.com  18779.0     21329.0    71572.0 \n",
      "washingtonpost.com      2077.0      194.0      981.0   \n",
      "wsj.com                 9099.0      3721.0     4064.0"
     ]
    }
   ],
   "source": [
    "all_sites = all_files.pivot(index='source_domain', columns='user_agent').fillna(0)\n",
    "all_sites"
   ]
  },
  {
   "cell_type": "markdown",
   "metadata": {},
   "source": [
    "We have completed crawls for many sites with both Googlebot as the user agent, and with the default user agent.  Although the date periods do not completely overlap, and the depth of the crawl varies, we can draw some conclusions.  In general, googlebot was allowed to run longer than anything else, so those counts could be expected to be higher in general\n",
    "\n",
    "Note that user agent for washingtonpost.com is not correct.  I only got results with the default user agent.  A quirk of the data collection mislabeled these as using Googlebot.\n"
   ]
  },
  {
   "cell_type": "code",
   "execution_count": 21,
   "metadata": {},
   "outputs": [
    {
     "data": {
      "application/vnd.jupyter.widget-view+json": {
       "model_id": "c6c3984314f04e9baa808e8968d8371e",
       "version_major": 2,
       "version_minor": 0
      },
      "text/plain": [
       "VBox()"
      ]
     },
     "metadata": {},
     "output_type": "display_data"
    },
    {
     "data": {
      "application/vnd.jupyter.widget-view+json": {
       "model_id": "",
       "version_major": 2,
       "version_minor": 0
      },
      "text/plain": [
       "FloatProgress(value=0.0, bar_style='info', description='Progress:', layout=Layout(height='25px', width='50%'),…"
      ]
     },
     "metadata": {},
     "output_type": "display_data"
    }
   ],
   "source": [
    "def choose_user_agent(row):\n",
    "    row = row['total_count']\n",
    "    no_default = (row.default < 800)\n",
    "    no_google = (row.googlebot < 800)\n",
    "    if no_default and no_google:\n",
    "        return \"not enough data\"\n",
    "    if no_default and (not no_google):\n",
    "        return \"googlebot\"\n",
    "    if no_google and (not no_default):\n",
    "        return \"default\"\n",
    "    dup_ratio = row.duplicates / (row.googlebot + row.default)\n",
    "    if dup_ratio < 0.1:\n",
    "        return \"both\"\n",
    "    default_ratio = row.default / row.googlebot\n",
    "    if default_ratio > 1:\n",
    "        return \"default\"\n",
    "    else:\n",
    "        return \"googlebot\""
   ]
  },
  {
   "cell_type": "code",
   "execution_count": 22,
   "metadata": {},
   "outputs": [
    {
     "data": {
      "application/vnd.jupyter.widget-view+json": {
       "model_id": "f02cfa5de80e478caded04c13ba616d0",
       "version_major": 2,
       "version_minor": 0
      },
      "text/plain": [
       "VBox()"
      ]
     },
     "metadata": {},
     "output_type": "display_data"
    },
    {
     "data": {
      "application/vnd.jupyter.widget-view+json": {
       "model_id": "",
       "version_major": 2,
       "version_minor": 0
      },
      "text/plain": [
       "FloatProgress(value=0.0, bar_style='info', description='Progress:', layout=Layout(height='25px', width='50%'),…"
      ]
     },
     "metadata": {},
     "output_type": "display_data"
    },
    {
     "name": "stdout",
     "output_type": "stream",
     "text": [
      "                       total_count                                choice\n",
      "user_agent                 default duplicates googlebot                 \n",
      "source_domain                                                           \n",
      "ajc.com                 2769.0      104.0      911.0     both           \n",
      "americanthinker.com     43382.0     9239.0     35326.0   default        \n",
      "apnews.com              27032.0     23756.0    84715.0   googlebot      \n",
      "axios.com               32906.0     33675.0    57993.0   googlebot      \n",
      "bbc.com                 25254.0     25240.0    73419.0   googlebot      \n",
      "bloomberg.com           0.0         0.0        4.0       not enough data\n",
      "boston.com              22903.0     7769.0     41866.0   googlebot      \n",
      "bostonglobe.com         88.0        0.0        91.0      not enough data\n",
      "breitbart.com           17986.0     17689.0    29733.0   googlebot      \n",
      "cbsnews.com             8582.0      7858.0     24555.0   googlebot      \n",
      "chicago.suntimes.com    33446.0     14387.0    44.0      default        \n",
      "chicagotribune.com      15850.0     15521.0    47503.0   googlebot      \n",
      "chron.com               12294.0     11472.0    37487.0   googlebot      \n",
      "cnbc.com                1873.0      1778.0     15291.0   googlebot      \n",
      "dailykos.com            0.0         0.0        21609.0   googlebot      \n",
      "dallasnews.com          30787.0     29761.0    42600.0   googlebot      \n",
      "denverpost.com          15217.0     12622.0    46773.0   googlebot      \n",
      "economist.com           82.0        66.0       23494.0   googlebot      \n",
      "fivethirtyeight.com     27485.0     13709.0    13677.0   default        \n",
      "forbes.com              1968.0      580.0      1911.0    default        \n",
      "foreignpolicy.com       29529.0     29494.0    30303.0   googlebot      \n",
      "foxnews.com             23795.0     31098.0    78359.0   googlebot      \n",
      "ft.com                  6539.0      9020.0     29388.0   googlebot      \n",
      "latimes.com             35614.0     4311.0     26907.0   both           \n",
      "mediate.com             0.0         0.0        35.0      not enough data\n",
      "msnbc.com               881.0       875.0      1772.0    googlebot      \n",
      "nationalreview.com      102.0       62.0       117.0     not enough data\n",
      "nbcnews.com             21479.0     26284.0    83270.0   googlebot      \n",
      "newsday.com             41021.0     39995.0    83455.0   googlebot      \n",
      "newsmax.com             27592.0     3861.0     121.0     default        \n",
      "npr.org                 17183.0     998.0      22560.0   both           \n",
      "nydailynews.com         32838.0     26684.0    66519.0   googlebot      \n",
      "nypost.com              32717.0     234.0      361.0     default        \n",
      "nytimes.com             6627.0      3491.0     4498.0    default        \n",
      "prospect.org            16719.0     13964.0    31903.0   googlebot      \n",
      "reason.com              26614.0     1925.0     3454.0    both           \n",
      "reuters.com             44686.0     1288.0     92.0      default        \n",
      "rt.com                  20320.0     35428.0    80096.0   googlebot      \n",
      "seattletimes.com        24070.0     23529.0    47655.0   googlebot      \n",
      "slate.com               18186.0     16782.0    67465.0   googlebot      \n",
      "theatlantic.com         15231.0     7831.0     59139.0   googlebot      \n",
      "theblaze.com            15819.0     18790.0    60879.0   googlebot      \n",
      "theguardian.com         485.0       1.0        463.0     not enough data\n",
      "thehill.com             25230.0     7670.0     39072.0   googlebot      \n",
      "thenation.com           58588.0     31396.0    37231.0   default        \n",
      "time.com                18347.0     22056.0    69709.0   googlebot      \n",
      "usatoday.com            296.0       0.0        258.0     not enough data\n",
      "utne.com                2532.0      1102.0     1097.0    default        \n",
      "vox.com                 37500.0     16467.0    40.0      default        \n",
      "washingtonexaminer.com  18779.0     21329.0    71572.0   googlebot      \n",
      "washingtonpost.com      2077.0      194.0      981.0     both           \n",
      "wsj.com                 9099.0      3721.0     4064.0    default"
     ]
    }
   ],
   "source": [
    "all_sites['choice'] = all_sites.apply(choose_user_agent, axis=1)\n",
    "all_sites.head(300)"
   ]
  },
  {
   "cell_type": "code",
   "execution_count": null,
   "metadata": {},
   "outputs": [],
   "source": []
  },
  {
   "cell_type": "code",
   "execution_count": null,
   "metadata": {},
   "outputs": [],
   "source": []
  }
 ],
 "metadata": {
  "kernelspec": {
   "display_name": "PySpark",
   "language": "",
   "name": "pysparkkernel"
  },
  "language_info": {
   "codemirror_mode": {
    "name": "python",
    "version": 2
   },
   "mimetype": "text/x-python",
   "name": "pyspark",
   "pygments_lexer": "python2"
  }
 },
 "nbformat": 4,
 "nbformat_minor": 4
}
