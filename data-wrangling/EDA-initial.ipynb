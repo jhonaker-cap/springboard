{
 "cells": [
  {
   "cell_type": "markdown",
   "metadata": {},
   "source": [
    "# Initial Exploratory Data Analysis\n",
    "## Initial Setup\n",
    "\n",
    "In the following code we check our configuration and set up useful functions."
   ]
  },
  {
   "cell_type": "code",
   "execution_count": 1,
   "metadata": {},
   "outputs": [
    {
     "data": {
      "application/vnd.jupyter.widget-view+json": {
       "model_id": "bd4ad573f085413795d84b8e97446a6e",
       "version_major": 2,
       "version_minor": 0
      },
      "text/plain": [
       "VBox()"
      ]
     },
     "metadata": {},
     "output_type": "display_data"
    },
    {
     "name": "stdout",
     "output_type": "stream",
     "text": [
      "Starting Spark application\n"
     ]
    },
    {
     "data": {
      "text/html": [
       "<table>\n",
       "<tr><th>ID</th><th>YARN Application ID</th><th>Kind</th><th>State</th><th>Spark UI</th><th>Driver log</th><th>Current session?</th></tr><tr><td>10</td><td>application_1575479622115_0011</td><td>pyspark</td><td>idle</td><td><a target=\"_blank\" href=\"http://ip-172-31-22-40.ec2.internal:20888/proxy/application_1575479622115_0011/\">Link</a></td><td><a target=\"_blank\" href=\"http://ip-172-31-26-77.ec2.internal:8042/node/containerlogs/container_1575479622115_0011_01_000001/livy\">Link</a></td><td>✔</td></tr></table>"
      ],
      "text/plain": [
       "<IPython.core.display.HTML object>"
      ]
     },
     "metadata": {},
     "output_type": "display_data"
    },
    {
     "data": {
      "application/vnd.jupyter.widget-view+json": {
       "model_id": "",
       "version_major": 2,
       "version_minor": 0
      },
      "text/plain": [
       "FloatProgress(value=0.0, bar_style='info', description='Progress:', layout=Layout(height='25px', width='50%'),…"
      ]
     },
     "metadata": {},
     "output_type": "display_data"
    },
    {
     "name": "stdout",
     "output_type": "stream",
     "text": [
      "SparkSession available as 'spark'.\n"
     ]
    },
    {
     "data": {
      "application/vnd.jupyter.widget-view+json": {
       "model_id": "",
       "version_major": 2,
       "version_minor": 0
      },
      "text/plain": [
       "FloatProgress(value=0.0, bar_style='info', description='Progress:', layout=Layout(height='25px', width='50%'),…"
      ]
     },
     "metadata": {},
     "output_type": "display_data"
    },
    {
     "name": "stdout",
     "output_type": "stream",
     "text": [
      "<pyspark.sql.session.SparkSession object at 0x7f0029998b38>"
     ]
    }
   ],
   "source": [
    "spark"
   ]
  },
  {
   "cell_type": "code",
   "execution_count": 2,
   "metadata": {},
   "outputs": [
    {
     "data": {
      "text/html": [
       "Current session configs: <tt>{'conf': {'spark.pyspark.python': 'python3', 'spark.pyspark.virtualenv.enabled': 'true', 'spark.pyspark.virtualenv.type': 'native', 'spark.pyspark.virtualenv.bin.path': '/usr/bin/virtualenv'}, 'kind': 'pyspark'}</tt><br>"
      ],
      "text/plain": [
       "<IPython.core.display.HTML object>"
      ]
     },
     "metadata": {},
     "output_type": "display_data"
    },
    {
     "data": {
      "text/html": [
       "<table>\n",
       "<tr><th>ID</th><th>YARN Application ID</th><th>Kind</th><th>State</th><th>Spark UI</th><th>Driver log</th><th>Current session?</th></tr><tr><td>10</td><td>application_1575479622115_0011</td><td>pyspark</td><td>idle</td><td><a target=\"_blank\" href=\"http://ip-172-31-22-40.ec2.internal:20888/proxy/application_1575479622115_0011/\">Link</a></td><td><a target=\"_blank\" href=\"http://ip-172-31-26-77.ec2.internal:8042/node/containerlogs/container_1575479622115_0011_01_000001/livy\">Link</a></td><td>✔</td></tr></table>"
      ],
      "text/plain": [
       "<IPython.core.display.HTML object>"
      ]
     },
     "metadata": {},
     "output_type": "display_data"
    }
   ],
   "source": [
    "%%info"
   ]
  },
  {
   "cell_type": "code",
   "execution_count": 3,
   "metadata": {},
   "outputs": [
    {
     "data": {
      "application/vnd.jupyter.widget-view+json": {
       "model_id": "57de48f61ab64ec1b317a7e02b9346ee",
       "version_major": 2,
       "version_minor": 0
      },
      "text/plain": [
       "VBox()"
      ]
     },
     "metadata": {},
     "output_type": "display_data"
    },
    {
     "data": {
      "application/vnd.jupyter.widget-view+json": {
       "model_id": "",
       "version_major": 2,
       "version_minor": 0
      },
      "text/plain": [
       "FloatProgress(value=0.0, bar_style='info', description='Progress:', layout=Layout(height='25px', width='50%'),…"
      ]
     },
     "metadata": {},
     "output_type": "display_data"
    },
    {
     "name": "stdout",
     "output_type": "stream",
     "text": [
      "Collecting pandas\n",
      "  Using cached https://files.pythonhosted.org/packages/52/3f/f6a428599e0d4497e1595030965b5ba455fd8ade6e977e3c819973c4b41d/pandas-0.25.3-cp36-cp36m-manylinux1_x86_64.whl\n",
      "Requirement already satisfied: numpy>=1.13.3 in /usr/local/lib64/python3.6/site-packages (from pandas) (1.14.5)\n",
      "Collecting python-dateutil>=2.6.1\n",
      "  Using cached https://files.pythonhosted.org/packages/d4/70/d60450c3dd48ef87586924207ae8907090de0b306af2bce5d134d78615cb/python_dateutil-2.8.1-py2.py3-none-any.whl\n",
      "Requirement already satisfied: pytz>=2017.2 in /usr/local/lib/python3.6/site-packages (from pandas) (2019.3)\n",
      "Requirement already satisfied: six>=1.5 in /usr/local/lib/python3.6/site-packages (from python-dateutil>=2.6.1->pandas) (1.12.0)\n",
      "Installing collected packages: python-dateutil, pandas\n",
      "Successfully installed pandas-0.25.3 python-dateutil-2.8.1"
     ]
    }
   ],
   "source": [
    "sc.install_pypi_package(\"pandas\")"
   ]
  },
  {
   "cell_type": "code",
   "execution_count": 4,
   "metadata": {},
   "outputs": [
    {
     "data": {
      "application/vnd.jupyter.widget-view+json": {
       "model_id": "47014fc7d0bd491785e4b556c026075a",
       "version_major": 2,
       "version_minor": 0
      },
      "text/plain": [
       "VBox()"
      ]
     },
     "metadata": {},
     "output_type": "display_data"
    },
    {
     "data": {
      "application/vnd.jupyter.widget-view+json": {
       "model_id": "",
       "version_major": 2,
       "version_minor": 0
      },
      "text/plain": [
       "FloatProgress(value=0.0, bar_style='info', description='Progress:', layout=Layout(height='25px', width='50%'),…"
      ]
     },
     "metadata": {},
     "output_type": "display_data"
    },
    {
     "name": "stdout",
     "output_type": "stream",
     "text": [
      "Collecting matplotlib\n",
      "  Using cached https://files.pythonhosted.org/packages/4e/11/06958a2b895a3853206dea1fb2a5b11bf044f626f90745987612af9c8f2c/matplotlib-3.1.2-cp36-cp36m-manylinux1_x86_64.whl\n",
      "Requirement already satisfied: numpy>=1.11 in /usr/local/lib64/python3.6/site-packages (from matplotlib) (1.14.5)\n",
      "Collecting kiwisolver>=1.0.1\n",
      "  Using cached https://files.pythonhosted.org/packages/f8/a1/5742b56282449b1c0968197f63eae486eca2c35dcd334bab75ad524e0de1/kiwisolver-1.1.0-cp36-cp36m-manylinux1_x86_64.whl\n",
      "Requirement already satisfied: python-dateutil>=2.1 in /mnt/tmp/1575488145150-0/lib/python3.6/site-packages (from matplotlib) (2.8.1)\n",
      "Collecting pyparsing!=2.0.4,!=2.1.2,!=2.1.6,>=2.0.1\n",
      "  Using cached https://files.pythonhosted.org/packages/c0/0c/fc2e007d9a992d997f04a80125b0f183da7fb554f1de701bbb70a8e7d479/pyparsing-2.4.5-py2.py3-none-any.whl\n",
      "Collecting cycler>=0.10\n",
      "  Using cached https://files.pythonhosted.org/packages/f7/d2/e07d3ebb2bd7af696440ce7e754c59dd546ffe1bbe732c8ab68b9c834e61/cycler-0.10.0-py2.py3-none-any.whl\n",
      "Requirement already satisfied: setuptools in /mnt/tmp/1575488145150-0/lib/python3.6/site-packages (from kiwisolver>=1.0.1->matplotlib) (42.0.2)\n",
      "Requirement already satisfied: six>=1.5 in /usr/local/lib/python3.6/site-packages (from python-dateutil>=2.1->matplotlib) (1.12.0)\n",
      "Installing collected packages: kiwisolver, pyparsing, cycler, matplotlib\n",
      "Successfully installed cycler-0.10.0 kiwisolver-1.1.0 matplotlib-3.1.2 pyparsing-2.4.5"
     ]
    }
   ],
   "source": [
    "sc.install_pypi_package(\"matplotlib\")"
   ]
  },
  {
   "cell_type": "code",
   "execution_count": 5,
   "metadata": {},
   "outputs": [
    {
     "data": {
      "application/vnd.jupyter.widget-view+json": {
       "model_id": "6deab689ad52402dae4502f80e87108f",
       "version_major": 2,
       "version_minor": 0
      },
      "text/plain": [
       "VBox()"
      ]
     },
     "metadata": {},
     "output_type": "display_data"
    },
    {
     "data": {
      "application/vnd.jupyter.widget-view+json": {
       "model_id": "",
       "version_major": 2,
       "version_minor": 0
      },
      "text/plain": [
       "FloatProgress(value=0.0, bar_style='info', description='Progress:', layout=Layout(height='25px', width='50%'),…"
      ]
     },
     "metadata": {},
     "output_type": "display_data"
    }
   ],
   "source": [
    "import pandas as pd\n",
    "import matplotlib.pyplot as plt\n",
    "import re\n",
    "from pyspark.sql.functions import col\n",
    "from pyspark.sql.functions import sum as spark_sum"
   ]
  },
  {
   "cell_type": "code",
   "execution_count": 6,
   "metadata": {},
   "outputs": [
    {
     "data": {
      "application/vnd.jupyter.widget-view+json": {
       "model_id": "692177836e794aa480a0621e37f1e915",
       "version_major": 2,
       "version_minor": 0
      },
      "text/plain": [
       "VBox()"
      ]
     },
     "metadata": {},
     "output_type": "display_data"
    },
    {
     "data": {
      "application/vnd.jupyter.widget-view+json": {
       "model_id": "",
       "version_major": 2,
       "version_minor": 0
      },
      "text/plain": [
       "FloatProgress(value=0.0, bar_style='info', description='Progress:', layout=Layout(height='25px', width='50%'),…"
      ]
     },
     "metadata": {},
     "output_type": "display_data"
    }
   ],
   "source": [
    "def run_sql(statement):\n",
    "    try:\n",
    "        result = sqlContext.sql(statement)\n",
    "    except Exception as e:\n",
    "        print(e.desc, '\\n', e.stackTrace)\n",
    "        return\n",
    "    return result\n",
    "\n",
    "def run_sql_pandas(statement):\n",
    "    return run_sql(statement).toPandas()\n"
   ]
  },
  {
   "cell_type": "markdown",
   "metadata": {},
   "source": [
    "## Read the data and inspect its structure"
   ]
  },
  {
   "cell_type": "code",
   "execution_count": 7,
   "metadata": {},
   "outputs": [
    {
     "data": {
      "application/vnd.jupyter.widget-view+json": {
       "model_id": "96b60b3bc90c4062a15d2c3055774697",
       "version_major": 2,
       "version_minor": 0
      },
      "text/plain": [
       "VBox()"
      ]
     },
     "metadata": {},
     "output_type": "display_data"
    },
    {
     "data": {
      "application/vnd.jupyter.widget-view+json": {
       "model_id": "",
       "version_major": 2,
       "version_minor": 0
      },
      "text/plain": [
       "FloatProgress(value=0.0, bar_style='info', description='Progress:', layout=Layout(height='25px', width='50%'),…"
      ]
     },
     "metadata": {},
     "output_type": "display_data"
    }
   ],
   "source": [
    "raw_df = spark.read.json(\"s3://topic-sentiment-1/combined/2019-11-26_googlebot_lt.json\").cache()"
   ]
  },
  {
   "cell_type": "code",
   "execution_count": 8,
   "metadata": {},
   "outputs": [
    {
     "data": {
      "application/vnd.jupyter.widget-view+json": {
       "model_id": "723d1a3341c34185844731bd179d4ae3",
       "version_major": 2,
       "version_minor": 0
      },
      "text/plain": [
       "VBox()"
      ]
     },
     "metadata": {},
     "output_type": "display_data"
    },
    {
     "data": {
      "application/vnd.jupyter.widget-view+json": {
       "model_id": "",
       "version_major": 2,
       "version_minor": 0
      },
      "text/plain": [
       "FloatProgress(value=0.0, bar_style='info', description='Progress:', layout=Layout(height='25px', width='50%'),…"
      ]
     },
     "metadata": {},
     "output_type": "display_data"
    },
    {
     "name": "stdout",
     "output_type": "stream",
     "text": [
      "root\n",
      " |-- authors: array (nullable = true)\n",
      " |    |-- element: string (containsNull = true)\n",
      " |-- date_download: string (nullable = true)\n",
      " |-- date_modify: string (nullable = true)\n",
      " |-- date_publish: string (nullable = true)\n",
      " |-- description: string (nullable = true)\n",
      " |-- filename: string (nullable = true)\n",
      " |-- image_url: string (nullable = true)\n",
      " |-- language: string (nullable = true)\n",
      " |-- localpath: string (nullable = true)\n",
      " |-- source_domain: string (nullable = true)\n",
      " |-- text: string (nullable = true)\n",
      " |-- title: string (nullable = true)\n",
      " |-- title_page: string (nullable = true)\n",
      " |-- title_rss: string (nullable = true)\n",
      " |-- url: string (nullable = true)"
     ]
    }
   ],
   "source": [
    "raw_df.printSchema()"
   ]
  },
  {
   "cell_type": "markdown",
   "metadata": {},
   "source": [
    "Here is an explaination for these columns.\n",
    "\n",
    "* authors is an array of author names.  It is unclear if we will use this in the analysis.\n",
    "* date_download and date_modify are both artifacts of when the article was crawled.  We won't use this in the analysis, but it may be useful for debugging.\n",
    "* date_publish is the actual date shown on the article.  Because we will be looking at trends over time, this column is important.\n",
    "* description of the article.  We will use this as a substitute for text when text is missing.\n",
    "* filename is the file where the crawl was saved. We won't use this in analysis.\n",
    "* image_url is a main image for an article, although this is sometimes a placeholder image. We won't be using this in the analysis.\n",
    "* language is a two-letter code for the language of the article.  For simplicity, we will only use articles in English (language = 'en').  There is more analysis on this later.\n",
    "* localpath is the full path for the file that was stored during crawling.  We won't be using this.\n",
    "* source_domain is the publication of the article.  This may be used in analysis.\n",
    "* text is the main text of the article.\n",
    "* title is the title for the article.  We will drop articles without titles.\n",
    "* title_page is the title you would see in the browser tab or header. We won't use this in the analysis.\n",
    "* title_rss is the title in RSS for articles collected in that manner.  We won't use this in the analysis.\n",
    "* url is the URL of the article.  This probably won't be used in the analysis, but it will be useful to keep around.\n",
    "\n",
    "So in the clean data we want to drop: filename, image_url, localpath, title_page, and title_rss."
   ]
  },
  {
   "cell_type": "code",
   "execution_count": 9,
   "metadata": {},
   "outputs": [
    {
     "data": {
      "application/vnd.jupyter.widget-view+json": {
       "model_id": "558dab1eed314df6b904cc738886c8e1",
       "version_major": 2,
       "version_minor": 0
      },
      "text/plain": [
       "VBox()"
      ]
     },
     "metadata": {},
     "output_type": "display_data"
    },
    {
     "data": {
      "application/vnd.jupyter.widget-view+json": {
       "model_id": "",
       "version_major": 2,
       "version_minor": 0
      },
      "text/plain": [
       "FloatProgress(value=0.0, bar_style='info', description='Progress:', layout=Layout(height='25px', width='50%'),…"
      ]
     },
     "metadata": {},
     "output_type": "display_data"
    }
   ],
   "source": [
    "columns_to_drop = ['filename', 'image_url', 'localpath', 'title_page', 'title_rss']\n",
    "raw_df = raw_df.drop(*columns_to_drop)"
   ]
  },
  {
   "cell_type": "markdown",
   "metadata": {},
   "source": [
    "### Data types\n",
    "\n",
    "The date_publish column is a string.  We need a working date column, but we probably want to keep the original column so we don't have to worry about precision problems when comparing time stamps."
   ]
  },
  {
   "cell_type": "code",
   "execution_count": 10,
   "metadata": {},
   "outputs": [
    {
     "data": {
      "application/vnd.jupyter.widget-view+json": {
       "model_id": "476acaba70d7499f86ea12dfcaa85760",
       "version_major": 2,
       "version_minor": 0
      },
      "text/plain": [
       "VBox()"
      ]
     },
     "metadata": {},
     "output_type": "display_data"
    },
    {
     "data": {
      "application/vnd.jupyter.widget-view+json": {
       "model_id": "",
       "version_major": 2,
       "version_minor": 0
      },
      "text/plain": [
       "FloatProgress(value=0.0, bar_style='info', description='Progress:', layout=Layout(height='25px', width='50%'),…"
      ]
     },
     "metadata": {},
     "output_type": "display_data"
    }
   ],
   "source": [
    "raw_df = raw_df.withColumn(\"published\", (col(\"date_publish\").cast(\"timestamp\")))"
   ]
  },
  {
   "cell_type": "markdown",
   "metadata": {},
   "source": [
    "## Look for missing data\n",
    "\n",
    "We will use a method that was shown in one of the mini-projects to calculate the total number of blank values for each column."
   ]
  },
  {
   "cell_type": "code",
   "execution_count": 11,
   "metadata": {},
   "outputs": [
    {
     "data": {
      "application/vnd.jupyter.widget-view+json": {
       "model_id": "20ca0d34803045de93e3709deeb680f4",
       "version_major": 2,
       "version_minor": 0
      },
      "text/plain": [
       "VBox()"
      ]
     },
     "metadata": {},
     "output_type": "display_data"
    },
    {
     "data": {
      "application/vnd.jupyter.widget-view+json": {
       "model_id": "",
       "version_major": 2,
       "version_minor": 0
      },
      "text/plain": [
       "FloatProgress(value=0.0, bar_style='info', description='Progress:', layout=Layout(height='25px', width='50%'),…"
      ]
     },
     "metadata": {},
     "output_type": "display_data"
    }
   ],
   "source": [
    "def count_null(col_name):\n",
    "    return spark_sum(col(col_name).isNull().cast('integer')).alias(col_name)\n",
    "\n",
    "# Build up a list of column expressions, one per column.\n",
    "exprs = [count_null(col_name) for col_name in raw_df.columns]\n",
    "\n",
    "# Run the aggregation. The *exprs converts the list of expressions into\n",
    "# variable function arguments."
   ]
  },
  {
   "cell_type": "code",
   "execution_count": 12,
   "metadata": {},
   "outputs": [
    {
     "data": {
      "application/vnd.jupyter.widget-view+json": {
       "model_id": "a3b7e725d28e4b5aaf25e41137cce26f",
       "version_major": 2,
       "version_minor": 0
      },
      "text/plain": [
       "VBox()"
      ]
     },
     "metadata": {},
     "output_type": "display_data"
    },
    {
     "data": {
      "application/vnd.jupyter.widget-view+json": {
       "model_id": "",
       "version_major": 2,
       "version_minor": 0
      },
      "text/plain": [
       "FloatProgress(value=0.0, bar_style='info', description='Progress:', layout=Layout(height='25px', width='50%'),…"
      ]
     },
     "metadata": {},
     "output_type": "display_data"
    },
    {
     "name": "stdout",
     "output_type": "stream",
     "text": [
      "                    0\n",
      "authors             0\n",
      "date_download       0\n",
      "date_modify         0\n",
      "date_publish    43223\n",
      "description    135342\n",
      "language       207855\n",
      "source_domain       0\n",
      "text            71495\n",
      "title             322\n",
      "url                 0\n",
      "published       43235"
     ]
    }
   ],
   "source": [
    "raw_df.agg(*exprs).toPandas().T"
   ]
  },
  {
   "cell_type": "markdown",
   "metadata": {},
   "source": [
    "BTW, the T is for Transform, which is done because it is easier to read the values this way."
   ]
  },
  {
   "cell_type": "markdown",
   "metadata": {},
   "source": [
    "Note that further analysis showed that title_rss often has the string value 'NULL'.  We would need to do some work to convert these to NaN if we cared about this column.  This doesn't appear this is a problem for any other columns."
   ]
  },
  {
   "cell_type": "markdown",
   "metadata": {},
   "source": [
    "Becuase only a small number of articles are missing title, we will exclude those articles.\n",
    "\n",
    "We need to do more analysis to determine what other articles must be dropped due to missing data."
   ]
  },
  {
   "cell_type": "markdown",
   "metadata": {},
   "source": [
    "## Set up a database we can query"
   ]
  },
  {
   "cell_type": "code",
   "execution_count": 13,
   "metadata": {},
   "outputs": [
    {
     "data": {
      "application/vnd.jupyter.widget-view+json": {
       "model_id": "f337918e685d42fdb6064c5eb09ffc6e",
       "version_major": 2,
       "version_minor": 0
      },
      "text/plain": [
       "VBox()"
      ]
     },
     "metadata": {},
     "output_type": "display_data"
    },
    {
     "data": {
      "application/vnd.jupyter.widget-view+json": {
       "model_id": "",
       "version_major": 2,
       "version_minor": 0
      },
      "text/plain": [
       "FloatProgress(value=0.0, bar_style='info', description='Progress:', layout=Layout(height='25px', width='50%'),…"
      ]
     },
     "metadata": {},
     "output_type": "display_data"
    },
    {
     "name": "stdout",
     "output_type": "stream",
     "text": [
      "DataFrame[]"
     ]
    }
   ],
   "source": [
    "run_sql('drop database if exists topic cascade')\n",
    "run_sql('create database topic')"
   ]
  },
  {
   "cell_type": "code",
   "execution_count": 14,
   "metadata": {},
   "outputs": [
    {
     "data": {
      "application/vnd.jupyter.widget-view+json": {
       "model_id": "a34d741daff2471886a6a392389f8ad2",
       "version_major": 2,
       "version_minor": 0
      },
      "text/plain": [
       "VBox()"
      ]
     },
     "metadata": {},
     "output_type": "display_data"
    },
    {
     "data": {
      "application/vnd.jupyter.widget-view+json": {
       "model_id": "",
       "version_major": 2,
       "version_minor": 0
      },
      "text/plain": [
       "FloatProgress(value=0.0, bar_style='info', description='Progress:', layout=Layout(height='25px', width='50%'),…"
      ]
     },
     "metadata": {},
     "output_type": "display_data"
    }
   ],
   "source": [
    "permanent_table_name = 'topic.articles'\n",
    "raw_df.write.format(\"parquet\").saveAsTable(permanent_table_name)"
   ]
  },
  {
   "cell_type": "markdown",
   "metadata": {},
   "source": [
    "### Missing text\n",
    "\n",
    "There are 70K articles without text and 135K articles without descriptions.  What if we were to combine the two into one field?  Would that help increase the number of articles we can analyze?"
   ]
  },
  {
   "cell_type": "code",
   "execution_count": 15,
   "metadata": {},
   "outputs": [
    {
     "data": {
      "application/vnd.jupyter.widget-view+json": {
       "model_id": "81a7b46396944c2baa06d471228792e7",
       "version_major": 2,
       "version_minor": 0
      },
      "text/plain": [
       "VBox()"
      ]
     },
     "metadata": {},
     "output_type": "display_data"
    },
    {
     "data": {
      "application/vnd.jupyter.widget-view+json": {
       "model_id": "",
       "version_major": 2,
       "version_minor": 0
      },
      "text/plain": [
       "FloatProgress(value=0.0, bar_style='info', description='Progress:', layout=Layout(height='25px', width='50%'),…"
      ]
     },
     "metadata": {},
     "output_type": "display_data"
    },
    {
     "name": "stdout",
     "output_type": "stream",
     "text": [
      "   count(url)\n",
      "0        5881"
     ]
    }
   ],
   "source": [
    "run_sql_pandas('SELECT count(url) FROM topic.articles WHERE text IS NULL AND description IS NULL')"
   ]
  },
  {
   "cell_type": "markdown",
   "metadata": {},
   "source": [
    "Yes, we only have 6K articles without both text and description.  In our data clean up, we will use text, unless it is missing, in which case we will substitute description if it is present."
   ]
  },
  {
   "cell_type": "markdown",
   "metadata": {},
   "source": [
    "### Language analysis\n",
    "\n",
    "First, let's see what languages are in use."
   ]
  },
  {
   "cell_type": "code",
   "execution_count": 16,
   "metadata": {},
   "outputs": [
    {
     "data": {
      "application/vnd.jupyter.widget-view+json": {
       "model_id": "5285a73e592f490f85d3228adf3f74d5",
       "version_major": 2,
       "version_minor": 0
      },
      "text/plain": [
       "VBox()"
      ]
     },
     "metadata": {},
     "output_type": "display_data"
    },
    {
     "data": {
      "application/vnd.jupyter.widget-view+json": {
       "model_id": "",
       "version_major": 2,
       "version_minor": 0
      },
      "text/plain": [
       "FloatProgress(value=0.0, bar_style='info', description='Progress:', layout=Layout(height='25px', width='50%'),…"
      ]
     },
     "metadata": {},
     "output_type": "display_data"
    },
    {
     "name": "stdout",
     "output_type": "stream",
     "text": [
      "  language  count(source_domain)\n",
      "0       en                695169\n",
      "1       vi                 12878\n",
      "2     None                207855\n",
      "3       tr                  1552\n",
      "4       es                     2\n",
      "5       ar                     1\n",
      "6       fa                 14173\n",
      "7       zh                  7261\n",
      "8       ja                    17"
     ]
    }
   ],
   "source": [
    "run_sql_pandas('SELECT language, count(source_domain) FROM topic.articles GROUP BY language')"
   ]
  },
  {
   "cell_type": "code",
   "execution_count": 17,
   "metadata": {},
   "outputs": [
    {
     "data": {
      "application/vnd.jupyter.widget-view+json": {
       "model_id": "e49fac4a41a64e3381573b52eaab2b98",
       "version_major": 2,
       "version_minor": 0
      },
      "text/plain": [
       "VBox()"
      ]
     },
     "metadata": {},
     "output_type": "display_data"
    },
    {
     "data": {
      "application/vnd.jupyter.widget-view+json": {
       "model_id": "",
       "version_major": 2,
       "version_minor": 0
      },
      "text/plain": [
       "FloatProgress(value=0.0, bar_style='info', description='Progress:', layout=Layout(height='25px', width='50%'),…"
      ]
     },
     "metadata": {},
     "output_type": "display_data"
    },
    {
     "name": "stdout",
     "output_type": "stream",
     "text": [
      "             source_domain language  count(1)\n",
      "57              apnews.com     None     73877\n",
      "28               axios.com       en     46207\n",
      "16                 bbc.com       en      5721\n",
      "27                 bbc.com     None     23169\n",
      "50                 bbc.com       fa     14173\n",
      "8                  bbc.com       zh      7261\n",
      "24                 bbc.com       tr      1552\n",
      "35                 bbc.com       vi     12878\n",
      "13           bloomberg.com       en         4\n",
      "20              boston.com     None       189\n",
      "44              boston.com       en     38049\n",
      "33         bostonglobe.com       en        91\n",
      "7            breitbart.com       en     17988\n",
      "42             cbsnews.com       en     21258\n",
      "4     chicago.suntimes.com       en        44\n",
      "52      chicagotribune.com       en     42206\n",
      "55               chron.com     None     33764\n",
      "25               chron.com       en        15\n",
      "49                cnbc.com       en       555\n",
      "58                cnbc.com     None     14483\n",
      "29            dailykos.com     None     21609\n",
      "1           denverpost.com       en     41371\n",
      "2            economist.com       en     23403\n",
      "39     fivethirtyeight.com       en     13677\n",
      "47              forbes.com       en       917\n",
      "30             foxnews.com       en     47253\n",
      "3                   ft.com     None        20\n",
      "0                   ft.com       en     19697\n",
      "5              latimes.com       en     20431\n",
      "31             mediate.com     None         1\n",
      "23             mediate.com       en        34\n",
      "9                msnbc.com     None       887\n",
      "48      nationalreview.com       en        83\n",
      "12             nbcnews.com     None         1\n",
      "41             nbcnews.com       en     55437\n",
      "43                 npr.org     None         2\n",
      "26                 npr.org       en     19922\n",
      "53              nypost.com       en       361\n",
      "17             nytimes.com       en      3925\n",
      "14              reason.com       en      1942\n",
      "36             reuters.com       en        92\n",
      "37                  rt.com       en     53967\n",
      "46               slate.com       en     41850\n",
      "18               slate.com     None      4956\n",
      "45         theatlantic.com       en     38172\n",
      "10         theatlantic.com     None         9\n",
      "22            theblaze.com       en     40937\n",
      "34         theguardian.com       en       463\n",
      "51             thehill.com     None     34763\n",
      "54                time.com       en     47198\n",
      "40                time.com     None       125\n",
      "21            usatoday.com       en       258\n",
      "38                 vox.com       en        40\n",
      "32  washingtonexaminer.com       en     50150\n",
      "11      washingtonpost.com       es         2\n",
      "15      washingtonpost.com       ar         1\n",
      "19      washingtonpost.com       en       978\n",
      "6                  wsj.com       en       473\n",
      "56                 wsj.com       ja        17"
     ]
    }
   ],
   "source": [
    "source_language_pd = run_sql_pandas('''\n",
    "    SELECT source_domain, language, count(*) FROM topic.articles\n",
    "    GROUP BY source_domain, language\n",
    "''')\n",
    "source_language_pd.sort_values(by='source_domain').head(300)"
   ]
  },
  {
   "cell_type": "markdown",
   "metadata": {},
   "source": [
    "For simplicity, we will use only articles in English.   But what about all those articles without a language?   Let's do some analysis to see if we can set the language value."
   ]
  },
  {
   "cell_type": "code",
   "execution_count": 18,
   "metadata": {},
   "outputs": [
    {
     "data": {
      "application/vnd.jupyter.widget-view+json": {
       "model_id": "c1c2902f54b249bd8a3a8ba59b9a0144",
       "version_major": 2,
       "version_minor": 0
      },
      "text/plain": [
       "VBox()"
      ]
     },
     "metadata": {},
     "output_type": "display_data"
    },
    {
     "data": {
      "application/vnd.jupyter.widget-view+json": {
       "model_id": "",
       "version_major": 2,
       "version_minor": 0
      },
      "text/plain": [
       "FloatProgress(value=0.0, bar_style='info', description='Progress:', layout=Layout(height='25px', width='50%'),…"
      ]
     },
     "metadata": {},
     "output_type": "display_data"
    },
    {
     "name": "stdout",
     "output_type": "stream",
     "text": [
      "      source_domain  count(1)\n",
      "0            ft.com        20\n",
      "1         msnbc.com       887\n",
      "2   theatlantic.com         9\n",
      "3       nbcnews.com         1\n",
      "4         slate.com      4956\n",
      "5        boston.com       189\n",
      "6           bbc.com     23169\n",
      "7      dailykos.com     21609\n",
      "8       mediate.com         1\n",
      "9          time.com       125\n",
      "10          npr.org         2\n",
      "11      thehill.com     34763\n",
      "12        chron.com     33764\n",
      "13       apnews.com     73877\n",
      "14         cnbc.com     14483"
     ]
    }
   ],
   "source": [
    "run_sql('''\n",
    "        SELECT source_domain, count(*) FROM topic.articles \n",
    "        WHERE language IS NULL \n",
    "        GROUP BY source_domain\n",
    "        ''').toPandas()"
   ]
  },
  {
   "cell_type": "code",
   "execution_count": 19,
   "metadata": {},
   "outputs": [
    {
     "data": {
      "application/vnd.jupyter.widget-view+json": {
       "model_id": "54222ad1c3bb40baa86fb0361f403d50",
       "version_major": 2,
       "version_minor": 0
      },
      "text/plain": [
       "VBox()"
      ]
     },
     "metadata": {},
     "output_type": "display_data"
    },
    {
     "data": {
      "application/vnd.jupyter.widget-view+json": {
       "model_id": "",
       "version_major": 2,
       "version_minor": 0
      },
      "text/plain": [
       "FloatProgress(value=0.0, bar_style='info', description='Progress:', layout=Layout(height='25px', width='50%'),…"
      ]
     },
     "metadata": {},
     "output_type": "display_data"
    },
    {
     "name": "stdout",
     "output_type": "stream",
     "text": [
      "                        total_articles\n",
      "source_domain                         \n",
      "apnews.com                       73877\n",
      "axios.com                        46207\n",
      "bbc.com                          64754\n",
      "bloomberg.com                        4\n",
      "boston.com                       38238\n",
      "bostonglobe.com                     91\n",
      "breitbart.com                    17988\n",
      "cbsnews.com                      21258\n",
      "chicago.suntimes.com                44\n",
      "chicagotribune.com               42206\n",
      "chron.com                        33779\n",
      "cnbc.com                         15038\n",
      "dailykos.com                     21609\n",
      "denverpost.com                   41371\n",
      "economist.com                    23403\n",
      "fivethirtyeight.com              13677\n",
      "forbes.com                         917\n",
      "foxnews.com                      47253\n",
      "ft.com                           19717\n",
      "latimes.com                      20431\n",
      "mediate.com                         35\n",
      "msnbc.com                          887\n",
      "nationalreview.com                  83\n",
      "nbcnews.com                      55438\n",
      "npr.org                          19924\n",
      "nypost.com                         361\n",
      "nytimes.com                       3925\n",
      "reason.com                        1942\n",
      "reuters.com                         92\n",
      "rt.com                           53967\n",
      "slate.com                        46806\n",
      "theatlantic.com                  38181\n",
      "theblaze.com                     40937\n",
      "theguardian.com                    463\n",
      "thehill.com                      34763\n",
      "time.com                         47323\n",
      "usatoday.com                       258\n",
      "vox.com                             40\n",
      "washingtonexaminer.com           50150\n",
      "washingtonpost.com                 981\n",
      "wsj.com                            490"
     ]
    }
   ],
   "source": [
    "all_articles = run_sql_pandas('''\n",
    "    SELECT source_domain, count(*) as total_articles FROM topic.articles\n",
    "    GROUP BY source_domain\n",
    "''')\n",
    "all_articles.set_index('source_domain', inplace=True)\n",
    "all_articles.sort_index().head(100)"
   ]
  },
  {
   "cell_type": "code",
   "execution_count": 20,
   "metadata": {},
   "outputs": [
    {
     "data": {
      "application/vnd.jupyter.widget-view+json": {
       "model_id": "e0479d4e2ee54dfdb2aa581803991710",
       "version_major": 2,
       "version_minor": 0
      },
      "text/plain": [
       "VBox()"
      ]
     },
     "metadata": {},
     "output_type": "display_data"
    },
    {
     "data": {
      "application/vnd.jupyter.widget-view+json": {
       "model_id": "",
       "version_major": 2,
       "version_minor": 0
      },
      "text/plain": [
       "FloatProgress(value=0.0, bar_style='info', description='Progress:', layout=Layout(height='25px', width='50%'),…"
      ]
     },
     "metadata": {},
     "output_type": "display_data"
    },
    {
     "name": "stdout",
     "output_type": "stream",
     "text": [
      "                        in_english\n",
      "source_domain                     \n",
      "axios.com                    46207\n",
      "bbc.com                       5721\n",
      "bloomberg.com                    4\n",
      "boston.com                   38049\n",
      "bostonglobe.com                 91\n",
      "breitbart.com                17988\n",
      "cbsnews.com                  21258\n",
      "chicago.suntimes.com            44\n",
      "chicagotribune.com           42206\n",
      "chron.com                       15\n",
      "cnbc.com                       555\n",
      "denverpost.com               41371\n",
      "economist.com                23403\n",
      "fivethirtyeight.com          13677\n",
      "forbes.com                     917\n",
      "foxnews.com                  47253\n",
      "ft.com                       19697\n",
      "latimes.com                  20431\n",
      "mediate.com                     34\n",
      "nationalreview.com              83\n",
      "nbcnews.com                  55437\n",
      "npr.org                      19922\n",
      "nypost.com                     361\n",
      "nytimes.com                   3925\n",
      "reason.com                    1942\n",
      "reuters.com                     92\n",
      "rt.com                       53967\n",
      "slate.com                    41850\n",
      "theatlantic.com              38172\n",
      "theblaze.com                 40937\n",
      "theguardian.com                463\n",
      "time.com                     47198\n",
      "usatoday.com                   258\n",
      "vox.com                         40\n",
      "washingtonexaminer.com       50150\n",
      "washingtonpost.com             978\n",
      "wsj.com                        473"
     ]
    }
   ],
   "source": [
    "in_english = run_sql_pandas('''\n",
    "    SELECT source_domain, count(*) as in_english FROM topic.articles\n",
    "    WHERE language = 'en'\n",
    "    GROUP BY source_domain\n",
    "''')\n",
    "in_english.set_index('source_domain', inplace=True)\n",
    "in_english.sort_index().head(100)"
   ]
  },
  {
   "cell_type": "code",
   "execution_count": 21,
   "metadata": {},
   "outputs": [
    {
     "data": {
      "application/vnd.jupyter.widget-view+json": {
       "model_id": "a5116b35e807463788b39dae7ec067b2",
       "version_major": 2,
       "version_minor": 0
      },
      "text/plain": [
       "VBox()"
      ]
     },
     "metadata": {},
     "output_type": "display_data"
    },
    {
     "data": {
      "application/vnd.jupyter.widget-view+json": {
       "model_id": "",
       "version_major": 2,
       "version_minor": 0
      },
      "text/plain": [
       "FloatProgress(value=0.0, bar_style='info', description='Progress:', layout=Layout(height='25px', width='50%'),…"
      ]
     },
     "metadata": {},
     "output_type": "display_data"
    },
    {
     "name": "stdout",
     "output_type": "stream",
     "text": [
      "                 no_language\n",
      "source_domain               \n",
      "apnews.com             73877\n",
      "bbc.com                23169\n",
      "boston.com               189\n",
      "chron.com              33764\n",
      "cnbc.com               14483\n",
      "dailykos.com           21609\n",
      "ft.com                    20\n",
      "mediate.com                1\n",
      "msnbc.com                887\n",
      "nbcnews.com                1\n",
      "npr.org                    2\n",
      "slate.com               4956\n",
      "theatlantic.com            9\n",
      "thehill.com            34763\n",
      "time.com                 125"
     ]
    }
   ],
   "source": [
    "no_language = run_sql_pandas('''\n",
    "    SELECT source_domain, count(*) as no_language\n",
    "    FROM topic.articles\n",
    "    WHERE language IS NULL\n",
    "    GROUP BY source_domain\n",
    "''')\n",
    "no_language.set_index('source_domain', inplace=True)\n",
    "no_language.sort_index().head(100)"
   ]
  },
  {
   "cell_type": "code",
   "execution_count": 22,
   "metadata": {},
   "outputs": [
    {
     "data": {
      "application/vnd.jupyter.widget-view+json": {
       "model_id": "0100106dfc514713a04d9c7a5e97bb03",
       "version_major": 2,
       "version_minor": 0
      },
      "text/plain": [
       "VBox()"
      ]
     },
     "metadata": {},
     "output_type": "display_data"
    },
    {
     "data": {
      "application/vnd.jupyter.widget-view+json": {
       "model_id": "",
       "version_major": 2,
       "version_minor": 0
      },
      "text/plain": [
       "FloatProgress(value=0.0, bar_style='info', description='Progress:', layout=Layout(height='25px', width='50%'),…"
      ]
     },
     "metadata": {},
     "output_type": "display_data"
    },
    {
     "name": "stdout",
     "output_type": "stream",
     "text": [
      "                        total_articles  in_english  no_language\n",
      "source_domain                                                  \n",
      "apnews.com                       73877         NaN      73877.0\n",
      "axios.com                        46207     46207.0          NaN\n",
      "bbc.com                          64754      5721.0      23169.0\n",
      "bloomberg.com                        4         4.0          NaN\n",
      "boston.com                       38238     38049.0        189.0\n",
      "bostonglobe.com                     91        91.0          NaN\n",
      "breitbart.com                    17988     17988.0          NaN\n",
      "cbsnews.com                      21258     21258.0          NaN\n",
      "chicago.suntimes.com                44        44.0          NaN\n",
      "chicagotribune.com               42206     42206.0          NaN\n",
      "chron.com                        33779        15.0      33764.0\n",
      "cnbc.com                         15038       555.0      14483.0\n",
      "dailykos.com                     21609         NaN      21609.0\n",
      "denverpost.com                   41371     41371.0          NaN\n",
      "economist.com                    23403     23403.0          NaN\n",
      "fivethirtyeight.com              13677     13677.0          NaN\n",
      "forbes.com                         917       917.0          NaN\n",
      "foxnews.com                      47253     47253.0          NaN\n",
      "ft.com                           19717     19697.0         20.0\n",
      "latimes.com                      20431     20431.0          NaN\n",
      "mediate.com                         35        34.0          1.0\n",
      "msnbc.com                          887         NaN        887.0\n",
      "nationalreview.com                  83        83.0          NaN\n",
      "nbcnews.com                      55438     55437.0          1.0\n",
      "npr.org                          19924     19922.0          2.0\n",
      "nypost.com                         361       361.0          NaN\n",
      "nytimes.com                       3925      3925.0          NaN\n",
      "reason.com                        1942      1942.0          NaN\n",
      "reuters.com                         92        92.0          NaN\n",
      "rt.com                           53967     53967.0          NaN\n",
      "slate.com                        46806     41850.0       4956.0\n",
      "theatlantic.com                  38181     38172.0          9.0\n",
      "theblaze.com                     40937     40937.0          NaN\n",
      "theguardian.com                    463       463.0          NaN\n",
      "thehill.com                      34763         NaN      34763.0\n",
      "time.com                         47323     47198.0        125.0\n",
      "usatoday.com                       258       258.0          NaN\n",
      "vox.com                             40        40.0          NaN\n",
      "washingtonexaminer.com           50150     50150.0          NaN\n",
      "washingtonpost.com                 981       978.0          NaN\n",
      "wsj.com                            490       473.0          NaN"
     ]
    }
   ],
   "source": [
    "summary = all_articles.merge(in_english, how='outer', on='source_domain').merge(no_language, how='outer', on='source_domain')\n",
    "summary.sort_index().head(200)"
   ]
  },
  {
   "cell_type": "markdown",
   "metadata": {},
   "source": [
    "If language is NaN for all articles and we know the source to be in English, we can assume the language is English.\n",
    "\n",
    "If only a tiny percentage of articles are missing language for a given publication, we can just ignore those as not worth our time.\n",
    "\n",
    "But if a significant number of articles (but not all articles) have no language set, we need to examine some of the articles to see if we can make assumptions.    So next, we pull out URLs for some of the articles with no language set for a given publication."
   ]
  },
  {
   "cell_type": "code",
   "execution_count": 23,
   "metadata": {},
   "outputs": [
    {
     "data": {
      "application/vnd.jupyter.widget-view+json": {
       "model_id": "2eae223c62cc4fbaba6d9b0065f17aa4",
       "version_major": 2,
       "version_minor": 0
      },
      "text/plain": [
       "VBox()"
      ]
     },
     "metadata": {},
     "output_type": "display_data"
    },
    {
     "data": {
      "application/vnd.jupyter.widget-view+json": {
       "model_id": "",
       "version_major": 2,
       "version_minor": 0
      },
      "text/plain": [
       "FloatProgress(value=0.0, bar_style='info', description='Progress:', layout=Layout(height='25px', width='50%'),…"
      ]
     },
     "metadata": {},
     "output_type": "display_data"
    },
    {
     "name": "stdout",
     "output_type": "stream",
     "text": [
      "                                                                              url\n",
      "0      https://www.bbc.com/urdu/sport/2009/11/091102_india_vs_aussi_4_zs         \n",
      "1      https://www.bbc.com/urdu/india/2011/07/110711_train_accident_update       \n",
      "2      https://www.bbc.com/urdu/pakistan/2010/12/101215_sasoli_demos_rza         \n",
      "3      https://www.bbc.com/urdu/pakistan/2011/01/110112_pics_biden_pakistan_zs   \n",
      "4      https://www.bbc.com/urdu/pakistan/2011/10/111011_pak_prisoners_pics_nj    \n",
      "...                                                                       ...    \n",
      "23164  https://www.bbc.com/urdu/pakistan/2010/10/101031_baat_say_bbat_nj         \n",
      "23165  https://www.bbc.com/urdu/world/2011/02/110218_us_decline_justine_ra       \n",
      "23166  https://www.bbc.com/urdu/pakistan/2011/02/110210_mardan_attack_analysis_zz\n",
      "23167  https://www.bbc.com/urdu/opinion/2010/01/100109_gillani_pm_fm             \n",
      "23168  https://www.bbc.com/urdu/world/2011/07/110715_us_recognise_rebels_zs      \n",
      "\n",
      "[23169 rows x 1 columns]"
     ]
    }
   ],
   "source": [
    "pd.set_option('display.max_colwidth', -1)\n",
    "run_sql_pandas('''\n",
    "    SELECT url FROM topic.articles\n",
    "    WHERE source_domain = 'bbc.com' AND language IS NULL\n",
    "''')"
   ]
  },
  {
   "cell_type": "markdown",
   "metadata": {},
   "source": [
    "I repeated this analyisis for several publications.  Of these, it is only for bbc.com that we cannot make an assumption the articles with no language set are in English.  "
   ]
  },
  {
   "cell_type": "markdown",
   "metadata": {},
   "source": [
    "### What about missing publish dates?"
   ]
  },
  {
   "cell_type": "code",
   "execution_count": 24,
   "metadata": {},
   "outputs": [
    {
     "data": {
      "application/vnd.jupyter.widget-view+json": {
       "model_id": "8bdf9cd06d4643d8b8ecffc0441920c7",
       "version_major": 2,
       "version_minor": 0
      },
      "text/plain": [
       "VBox()"
      ]
     },
     "metadata": {},
     "output_type": "display_data"
    },
    {
     "data": {
      "application/vnd.jupyter.widget-view+json": {
       "model_id": "",
       "version_major": 2,
       "version_minor": 0
      },
      "text/plain": [
       "FloatProgress(value=0.0, bar_style='info', description='Progress:', layout=Layout(height='25px', width='50%'),…"
      ]
     },
     "metadata": {},
     "output_type": "display_data"
    },
    {
     "name": "stdout",
     "output_type": "stream",
     "text": [
      "[('authors', 'array<string>'), ('date_download', 'string'), ('date_modify', 'string'), ('date_publish', 'string'), ('description', 'string'), ('language', 'string'), ('source_domain', 'string'), ('text', 'string'), ('title', 'string'), ('url', 'string'), ('published', 'timestamp')]"
     ]
    }
   ],
   "source": [
    "raw_df.dtypes"
   ]
  },
  {
   "cell_type": "code",
   "execution_count": 25,
   "metadata": {},
   "outputs": [
    {
     "data": {
      "application/vnd.jupyter.widget-view+json": {
       "model_id": "704bd81febbe45ae8179b0f5a818813a",
       "version_major": 2,
       "version_minor": 0
      },
      "text/plain": [
       "VBox()"
      ]
     },
     "metadata": {},
     "output_type": "display_data"
    },
    {
     "data": {
      "application/vnd.jupyter.widget-view+json": {
       "model_id": "",
       "version_major": 2,
       "version_minor": 0
      },
      "text/plain": [
       "FloatProgress(value=0.0, bar_style='info', description='Progress:', layout=Layout(height='25px', width='50%'),…"
      ]
     },
     "metadata": {},
     "output_type": "display_data"
    },
    {
     "name": "stdout",
     "output_type": "stream",
     "text": [
      "                 no_publish_date\n",
      "source_domain                   \n",
      "ft.com           55             \n",
      "reuters.com      64             \n",
      "theatlantic.com  694            \n",
      "nbcnews.com      12393          \n",
      "wsj.com          142            \n",
      "slate.com        8              \n",
      "boston.com       27555          \n",
      "mediate.com      18             \n",
      "foxnews.com      1400           \n",
      "time.com         850            \n",
      "npr.org          4              \n",
      "thehill.com      39             \n",
      "cnbc.com         1"
     ]
    }
   ],
   "source": [
    "no_publish_date = run_sql_pandas('''\n",
    "    SELECT source_domain, count(*) as no_publish_date\n",
    "    FROM topic.articles\n",
    "    WHERE date_publish IS NULL\n",
    "    GROUP BY source_domain\n",
    "''')\n",
    "no_publish_date.set_index('source_domain', inplace=True)\n",
    "no_publish_date.head(50)"
   ]
  },
  {
   "cell_type": "code",
   "execution_count": 26,
   "metadata": {},
   "outputs": [
    {
     "data": {
      "application/vnd.jupyter.widget-view+json": {
       "model_id": "918e7d7e5eff452e97df90b024120b99",
       "version_major": 2,
       "version_minor": 0
      },
      "text/plain": [
       "VBox()"
      ]
     },
     "metadata": {},
     "output_type": "display_data"
    },
    {
     "data": {
      "application/vnd.jupyter.widget-view+json": {
       "model_id": "",
       "version_major": 2,
       "version_minor": 0
      },
      "text/plain": [
       "FloatProgress(value=0.0, bar_style='info', description='Progress:', layout=Layout(height='25px', width='50%'),…"
      ]
     },
     "metadata": {},
     "output_type": "display_data"
    },
    {
     "name": "stdout",
     "output_type": "stream",
     "text": [
      "                 total_articles  no_publish_date\n",
      "source_domain                                   \n",
      "ft.com           19717           55             \n",
      "reuters.com      92              64             \n",
      "theatlantic.com  38181           694            \n",
      "nbcnews.com      55438           12393          \n",
      "wsj.com          490             142            \n",
      "slate.com        46806           8              \n",
      "boston.com       38238           27555          \n",
      "mediate.com      35              18             \n",
      "foxnews.com      47253           1400           \n",
      "time.com         47323           850            \n",
      "npr.org          19924           4              \n",
      "thehill.com      34763           39             \n",
      "cnbc.com         15038           1"
     ]
    }
   ],
   "source": [
    "date_issues = all_articles.merge(no_publish_date, how='inner', on='source_domain')\n",
    "date_issues.head(50)"
   ]
  },
  {
   "cell_type": "code",
   "execution_count": 27,
   "metadata": {},
   "outputs": [
    {
     "data": {
      "application/vnd.jupyter.widget-view+json": {
       "model_id": "13cf92d66b0241a18362fe7eb3bef6dc",
       "version_major": 2,
       "version_minor": 0
      },
      "text/plain": [
       "VBox()"
      ]
     },
     "metadata": {},
     "output_type": "display_data"
    },
    {
     "data": {
      "application/vnd.jupyter.widget-view+json": {
       "model_id": "",
       "version_major": 2,
       "version_minor": 0
      },
      "text/plain": [
       "FloatProgress(value=0.0, bar_style='info', description='Progress:', layout=Layout(height='25px', width='50%'),…"
      ]
     },
     "metadata": {},
     "output_type": "display_data"
    },
    {
     "name": "stdout",
     "output_type": "stream",
     "text": [
      "                                                                                                                                           url\n",
      "0      https://www.nbcnews.com/now/video/dr-jill-biden-joe-handled-criticism-with-confidence-and-integrity-65188421623                        \n",
      "1      https://www.nbcnews.com/video/lemurs-are-the-worlds-most-endangered-mammal-258861635884                                                \n",
      "2      https://www.nbcnews.com/card/trump-health-care-n727366                                                                                 \n",
      "3      https://www.nbcnews.com/meet-the-press/video/castro-white-supremacy-is-brewing-throughout-the-country-65287749983                      \n",
      "4      https://www.nbcnews.com/video/jennifer-cramblett-i-cant-let-them-do-this-to-another-family-336553539944                                \n",
      "...                                                                                                        ...                                \n",
      "12388  https://www.nbcnews.com/video/deadly-house-of-cards-part-6-310220355652                                                                \n",
      "12389  https://www.nbcnews.com/video/big-changes-coming-to-kraft-singles-146345539726                                                         \n",
      "12390  https://www.nbcnews.com/meet-the-press/video/gov-brown-if-you-support-the-gop-healthcare-bill-your-name-is-going-to-be-mud-904985155798\n",
      "12391  https://www.nbcnews.com/video/kerry-essential-to-get-syrian-transition-underway-118711875977                                           \n",
      "12392  https://www.nbcnews.com/card/meet-flynn-stones-holdovers-mike-flynn-s-reign-nsa-n731746                                                \n",
      "\n",
      "[12393 rows x 1 columns]"
     ]
    }
   ],
   "source": [
    "run_sql_pandas('''\n",
    "    SELECT url FROM topic.articles\n",
    "    WHERE source_domain = 'nbcnews.com' AND date_publish IS NULL\n",
    "''')"
   ]
  },
  {
   "cell_type": "markdown",
   "metadata": {},
   "source": [
    "Because of the large percentage of boston.com articles with no date, it is probably not a good publication to use.\n",
    "\n",
    "nbcnews.com also has a large percentage of articles with no date, but these appear to be particular types of articles, such as those with stand-alone videos.  We can probably still use nbcnews.com, but we will discard articles without a publish date."
   ]
  },
  {
   "cell_type": "code",
   "execution_count": 28,
   "metadata": {},
   "outputs": [
    {
     "data": {
      "application/vnd.jupyter.widget-view+json": {
       "model_id": "388854d59d5f4d82b5a50943c7d18951",
       "version_major": 2,
       "version_minor": 0
      },
      "text/plain": [
       "VBox()"
      ]
     },
     "metadata": {},
     "output_type": "display_data"
    },
    {
     "data": {
      "application/vnd.jupyter.widget-view+json": {
       "model_id": "",
       "version_major": 2,
       "version_minor": 0
      },
      "text/plain": [
       "FloatProgress(value=0.0, bar_style='info', description='Progress:', layout=Layout(height='25px', width='50%'),…"
      ]
     },
     "metadata": {},
     "output_type": "display_data"
    },
    {
     "name": "stdout",
     "output_type": "stream",
     "text": [
      "                                                                                                                                                                                                             url  count(1)\n",
      "0  https://www.washingtonpost.com/local/virginia-politics/jens-soering-convicted-of-sensational-1985-double-murders-released-by-virginia-parole-board/2019/11/25/42e2790e-0fc6-11ea-bf62-eadd5d11f559_story.html  2       \n",
      "1  https://www.npr.org/                                                                                                                                                                                           2       \n",
      "2  https://slate.com/culture/2010/11/the-nutcracker-3d-screws-up-the-classic-story-in-every-conceivable-way.html                                                                                                  2"
     ]
    }
   ],
   "source": [
    "run_sql_pandas('''\n",
    "    SELECT url, count(*) FROM topic.articles\n",
    "    GROUP BY url\n",
    "    HAVING count(*) > 1\n",
    "''')"
   ]
  },
  {
   "cell_type": "markdown",
   "metadata": {},
   "source": [
    "We have duplicates that we will need to eliminate in the data cleaning."
   ]
  }
 ],
 "metadata": {
  "kernelspec": {
   "display_name": "PySpark",
   "language": "",
   "name": "pysparkkernel"
  },
  "language_info": {
   "codemirror_mode": {
    "name": "python",
    "version": 2
   },
   "mimetype": "text/x-python",
   "name": "pyspark",
   "pygments_lexer": "python2"
  }
 },
 "nbformat": 4,
 "nbformat_minor": 4
}
